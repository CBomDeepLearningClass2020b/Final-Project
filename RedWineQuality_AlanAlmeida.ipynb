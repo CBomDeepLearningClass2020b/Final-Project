{
  "nbformat": 4,
  "nbformat_minor": 0,
  "metadata": {
    "colab": {
      "name": "RedWineQuality-AlanAlmeida.ipynb",
      "provenance": [],
      "collapsed_sections": [],
      "toc_visible": true
    },
    "kernelspec": {
      "name": "python3",
      "display_name": "Python 3"
    }
  },
  "cells": [
    {
      "cell_type": "markdown",
      "metadata": {
        "id": "sYUmsOiUz1By"
      },
      "source": [
        "# Biblioteca"
      ]
    },
    {
      "cell_type": "code",
      "metadata": {
        "id": "RUVp2lBCSgKR",
        "colab": {
          "base_uri": "https://localhost:8080/"
        },
        "outputId": "4739c22f-2ce6-4088-8a5f-318c88926e9a"
      },
      "source": [
        "#@title Bibliotecas importadas { form-width: \"20%\" }\n",
        "\n",
        "# Manipulação de dados\n",
        "import pandas as pd\n",
        "from sklearn.model_selection import train_test_split\n",
        "\n",
        "# Manipuação de vetores e matrizes\n",
        "import numpy as np\n",
        "\n",
        "# Modelos\n",
        "from sklearn.svm import SVR\n",
        "from sklearn.neural_network import MLPRegressor\n",
        "from sklearn.neighbors import KNeighborsRegressor\n",
        "from sklearn.model_selection import GridSearchCV\n",
        "from sklearn import tree\n",
        "from sklearn import ensemble\n",
        "import tensorflow as tf\n",
        "from keras.layers import Dense, Dropout\n",
        "from keras.models import Sequential\n",
        "\n",
        "# Análise matemática e estatística\n",
        "from sklearn import preprocessing\n",
        "from sklearn import metrics\n",
        "import scipy.stats as stats\n",
        "import statsmodels.api as sm\n",
        "import math\n",
        "from sklearn.decomposition import PCA\n",
        "\n",
        "# Visualização\n",
        "import matplotlib.pyplot as plt\n",
        "import seaborn as sns\n",
        "import pylab"
      ],
      "execution_count": 1,
      "outputs": [
        {
          "output_type": "stream",
          "text": [
            "/usr/local/lib/python3.6/dist-packages/statsmodels/tools/_testing.py:19: FutureWarning: pandas.util.testing is deprecated. Use the functions in the public API at pandas.testing instead.\n",
            "  import pandas.util.testing as tm\n"
          ],
          "name": "stderr"
        }
      ]
    },
    {
      "cell_type": "code",
      "metadata": {
        "id": "GuGhcFi_aBqw"
      },
      "source": [
        "#@title Biblioteca própria { form-width: \"20%\" }\n",
        "\n",
        "def matrixPrint(mat, fmt=\"g\"):\n",
        "    \"\"\"Imprime matriz mat utilizando formação de string fmt.\n",
        "    \"\"\"\n",
        "    col_maxes = [max([len((\"{:\"+fmt+\"}\").format(x)) for x in col]) for col in mat.T]\n",
        "    for x in mat:\n",
        "        for i, y in enumerate(x):\n",
        "            print((\"{:\"+str(col_maxes[i])+fmt+\"}\").format(y), end=\"  \")\n",
        "        print(\"\")\n",
        "\n",
        "def dataframeNormAnalysis(df):\n",
        "    \"\"\"Analisa as variáveis calculando Kurtosis, skewness e teste de Shapiro-Wilker sobre os dados de cada coluna do DataFrame df e imprime o resultado.\\n\n",
        "    \"\"\"\n",
        "    result = {}\n",
        "\n",
        "    print (\"\\nVariable                       skew     Kurtosis    Shapiro p\\n\")\n",
        "\n",
        "    for column_name in df:\n",
        "      skew = round(stats.skew(df[column_name]),3)\n",
        "      kurtosis = round(stats.kurtosis(df[column_name]),3)\n",
        "      W,p = stats.shapiro(df[column_name])\n",
        "      print(\"{:<25} {:>10} {:>10} {:>10.3f}\".format(column_name,skew,kurtosis,p))\n",
        "\n",
        "    print(\"\\n{} variables, {} samples.\".format(variables,samples))\n",
        "\n",
        "def dataframeStatNormAnalysis(df):\n",
        "    \"\"\"Exibe estatísticas básicas e análise de normalidade das variáveis de um Pandas Dataset.\\n\n",
        "    \"\"\"\n",
        "    result = {}\n",
        "\n",
        "    print (\"\\nVariable                       Mean      StdDev        Min        Max       skew     Kurtosis    Shapiro p\\n\")\n",
        "\n",
        "    for column_name in df:\n",
        "      (samples, variables) = df.shape\n",
        "      mean = df[column_name].mean()\n",
        "      std  = df[column_name].std()\n",
        "      min  = df[column_name].min()\n",
        "      max  = df[column_name].max()\n",
        "      skew = round(stats.skew(df[column_name]),3)\n",
        "      kurtosis = round(stats.kurtosis(df[column_name]),3)\n",
        "      W,p = stats.shapiro(df[column_name])\n",
        "\n",
        "      print(\"{:<25} {:>10.3f} {:>10.3f} {:>10.3f} {:>10.3f} {:>10} {:>12} {:>12.3f}\".format(\n",
        "          column_name,mean,std,min,max,skew,kurtosis,p))\n",
        "      \n",
        "    print(\"\\n{} variables, {} samples.\".format(variables,samples))\n",
        "\n"
      ],
      "execution_count": 2,
      "outputs": []
    },
    {
      "cell_type": "markdown",
      "metadata": {
        "id": "irBGfcSImike"
      },
      "source": [
        "# 1. Deep wine tasting\n",
        "\n",
        "O objetivo do projeto é obter modelos de regressão destinados a estimar a qualidade de vinhos portugues com base em um dataset com 1599 amostras de vinho tinto e 4898 de vinho branco, ambos compostos de 11 variáveis de entrada com características bioquímicas de cada uma das amostras e a qualidade atribuida às mesmas por enólogos como variável de saída."
      ]
    },
    {
      "cell_type": "markdown",
      "metadata": {
        "id": "8jo21biDkYCA"
      },
      "source": [
        "# 2. Análise do dataset"
      ]
    },
    {
      "cell_type": "code",
      "metadata": {
        "id": "3pc2eODGTnxd",
        "colab": {
          "base_uri": "https://localhost:8080/",
          "height": 438
        },
        "cellView": "form",
        "outputId": "a410a379-f705-484f-9dd7-c407b9abf720"
      },
      "source": [
        "#@title\n",
        "df = pd.read_csv(\"https://archive.ics.uci.edu/ml/machine-learning-databases/wine-quality/winequality-red.csv\",\n",
        "                         sep=';')\n",
        "round(df,3)\n"
      ],
      "execution_count": 3,
      "outputs": [
        {
          "output_type": "execute_result",
          "data": {
            "text/html": [
              "<div>\n",
              "<style scoped>\n",
              "    .dataframe tbody tr th:only-of-type {\n",
              "        vertical-align: middle;\n",
              "    }\n",
              "\n",
              "    .dataframe tbody tr th {\n",
              "        vertical-align: top;\n",
              "    }\n",
              "\n",
              "    .dataframe thead th {\n",
              "        text-align: right;\n",
              "    }\n",
              "</style>\n",
              "<table border=\"1\" class=\"dataframe\">\n",
              "  <thead>\n",
              "    <tr style=\"text-align: right;\">\n",
              "      <th></th>\n",
              "      <th>fixed acidity</th>\n",
              "      <th>volatile acidity</th>\n",
              "      <th>citric acid</th>\n",
              "      <th>residual sugar</th>\n",
              "      <th>chlorides</th>\n",
              "      <th>free sulfur dioxide</th>\n",
              "      <th>total sulfur dioxide</th>\n",
              "      <th>density</th>\n",
              "      <th>pH</th>\n",
              "      <th>sulphates</th>\n",
              "      <th>alcohol</th>\n",
              "      <th>quality</th>\n",
              "    </tr>\n",
              "  </thead>\n",
              "  <tbody>\n",
              "    <tr>\n",
              "      <th>0</th>\n",
              "      <td>7.4</td>\n",
              "      <td>0.700</td>\n",
              "      <td>0.00</td>\n",
              "      <td>1.9</td>\n",
              "      <td>0.076</td>\n",
              "      <td>11.0</td>\n",
              "      <td>34.0</td>\n",
              "      <td>0.998</td>\n",
              "      <td>3.51</td>\n",
              "      <td>0.56</td>\n",
              "      <td>9.4</td>\n",
              "      <td>5</td>\n",
              "    </tr>\n",
              "    <tr>\n",
              "      <th>1</th>\n",
              "      <td>7.8</td>\n",
              "      <td>0.880</td>\n",
              "      <td>0.00</td>\n",
              "      <td>2.6</td>\n",
              "      <td>0.098</td>\n",
              "      <td>25.0</td>\n",
              "      <td>67.0</td>\n",
              "      <td>0.997</td>\n",
              "      <td>3.20</td>\n",
              "      <td>0.68</td>\n",
              "      <td>9.8</td>\n",
              "      <td>5</td>\n",
              "    </tr>\n",
              "    <tr>\n",
              "      <th>2</th>\n",
              "      <td>7.8</td>\n",
              "      <td>0.760</td>\n",
              "      <td>0.04</td>\n",
              "      <td>2.3</td>\n",
              "      <td>0.092</td>\n",
              "      <td>15.0</td>\n",
              "      <td>54.0</td>\n",
              "      <td>0.997</td>\n",
              "      <td>3.26</td>\n",
              "      <td>0.65</td>\n",
              "      <td>9.8</td>\n",
              "      <td>5</td>\n",
              "    </tr>\n",
              "    <tr>\n",
              "      <th>3</th>\n",
              "      <td>11.2</td>\n",
              "      <td>0.280</td>\n",
              "      <td>0.56</td>\n",
              "      <td>1.9</td>\n",
              "      <td>0.075</td>\n",
              "      <td>17.0</td>\n",
              "      <td>60.0</td>\n",
              "      <td>0.998</td>\n",
              "      <td>3.16</td>\n",
              "      <td>0.58</td>\n",
              "      <td>9.8</td>\n",
              "      <td>6</td>\n",
              "    </tr>\n",
              "    <tr>\n",
              "      <th>4</th>\n",
              "      <td>7.4</td>\n",
              "      <td>0.700</td>\n",
              "      <td>0.00</td>\n",
              "      <td>1.9</td>\n",
              "      <td>0.076</td>\n",
              "      <td>11.0</td>\n",
              "      <td>34.0</td>\n",
              "      <td>0.998</td>\n",
              "      <td>3.51</td>\n",
              "      <td>0.56</td>\n",
              "      <td>9.4</td>\n",
              "      <td>5</td>\n",
              "    </tr>\n",
              "    <tr>\n",
              "      <th>...</th>\n",
              "      <td>...</td>\n",
              "      <td>...</td>\n",
              "      <td>...</td>\n",
              "      <td>...</td>\n",
              "      <td>...</td>\n",
              "      <td>...</td>\n",
              "      <td>...</td>\n",
              "      <td>...</td>\n",
              "      <td>...</td>\n",
              "      <td>...</td>\n",
              "      <td>...</td>\n",
              "      <td>...</td>\n",
              "    </tr>\n",
              "    <tr>\n",
              "      <th>1594</th>\n",
              "      <td>6.2</td>\n",
              "      <td>0.600</td>\n",
              "      <td>0.08</td>\n",
              "      <td>2.0</td>\n",
              "      <td>0.090</td>\n",
              "      <td>32.0</td>\n",
              "      <td>44.0</td>\n",
              "      <td>0.995</td>\n",
              "      <td>3.45</td>\n",
              "      <td>0.58</td>\n",
              "      <td>10.5</td>\n",
              "      <td>5</td>\n",
              "    </tr>\n",
              "    <tr>\n",
              "      <th>1595</th>\n",
              "      <td>5.9</td>\n",
              "      <td>0.550</td>\n",
              "      <td>0.10</td>\n",
              "      <td>2.2</td>\n",
              "      <td>0.062</td>\n",
              "      <td>39.0</td>\n",
              "      <td>51.0</td>\n",
              "      <td>0.995</td>\n",
              "      <td>3.52</td>\n",
              "      <td>0.76</td>\n",
              "      <td>11.2</td>\n",
              "      <td>6</td>\n",
              "    </tr>\n",
              "    <tr>\n",
              "      <th>1596</th>\n",
              "      <td>6.3</td>\n",
              "      <td>0.510</td>\n",
              "      <td>0.13</td>\n",
              "      <td>2.3</td>\n",
              "      <td>0.076</td>\n",
              "      <td>29.0</td>\n",
              "      <td>40.0</td>\n",
              "      <td>0.996</td>\n",
              "      <td>3.42</td>\n",
              "      <td>0.75</td>\n",
              "      <td>11.0</td>\n",
              "      <td>6</td>\n",
              "    </tr>\n",
              "    <tr>\n",
              "      <th>1597</th>\n",
              "      <td>5.9</td>\n",
              "      <td>0.645</td>\n",
              "      <td>0.12</td>\n",
              "      <td>2.0</td>\n",
              "      <td>0.075</td>\n",
              "      <td>32.0</td>\n",
              "      <td>44.0</td>\n",
              "      <td>0.995</td>\n",
              "      <td>3.57</td>\n",
              "      <td>0.71</td>\n",
              "      <td>10.2</td>\n",
              "      <td>5</td>\n",
              "    </tr>\n",
              "    <tr>\n",
              "      <th>1598</th>\n",
              "      <td>6.0</td>\n",
              "      <td>0.310</td>\n",
              "      <td>0.47</td>\n",
              "      <td>3.6</td>\n",
              "      <td>0.067</td>\n",
              "      <td>18.0</td>\n",
              "      <td>42.0</td>\n",
              "      <td>0.995</td>\n",
              "      <td>3.39</td>\n",
              "      <td>0.66</td>\n",
              "      <td>11.0</td>\n",
              "      <td>6</td>\n",
              "    </tr>\n",
              "  </tbody>\n",
              "</table>\n",
              "<p>1599 rows × 12 columns</p>\n",
              "</div>"
            ],
            "text/plain": [
              "      fixed acidity  volatile acidity  citric acid  ...  sulphates  alcohol  quality\n",
              "0               7.4             0.700         0.00  ...       0.56      9.4        5\n",
              "1               7.8             0.880         0.00  ...       0.68      9.8        5\n",
              "2               7.8             0.760         0.04  ...       0.65      9.8        5\n",
              "3              11.2             0.280         0.56  ...       0.58      9.8        6\n",
              "4               7.4             0.700         0.00  ...       0.56      9.4        5\n",
              "...             ...               ...          ...  ...        ...      ...      ...\n",
              "1594            6.2             0.600         0.08  ...       0.58     10.5        5\n",
              "1595            5.9             0.550         0.10  ...       0.76     11.2        6\n",
              "1596            6.3             0.510         0.13  ...       0.75     11.0        6\n",
              "1597            5.9             0.645         0.12  ...       0.71     10.2        5\n",
              "1598            6.0             0.310         0.47  ...       0.66     11.0        6\n",
              "\n",
              "[1599 rows x 12 columns]"
            ]
          },
          "metadata": {
            "tags": []
          },
          "execution_count": 3
        }
      ]
    },
    {
      "cell_type": "markdown",
      "metadata": {
        "id": "FSawEXsBreNV"
      },
      "source": [
        "## Normalidade das distribuições \n",
        "\n",
        "O dataset apresenta variáveis (features) com grandes diferenças entre suas magnitudes. Além disso, há diversas unidades de medidas envolvidas. As medidas de skew e Kurtosis, bem como o teste de Shapiro-Witker permitem avaliar numericamente a forma das distribuições das variáveis.\n",
        "\n",
        "Kurtosis é uma medida do \"pico\" ou \"achatamento\"de uma distribuição. Um valor de Kurtosis próximo de zero (0) indica uma forma próxima do normal, enquanto que valores positivos indicam uma distribuição mais pontiaguda e valores negativos, uma forma mais plana.\n",
        "\n",
        "Skew é uma medida da assimetria da distribuição em torno da média. Distribuições com skew próximo a zero são consideradas simétricas. Valores positivos indicam que grande parte das observações estão no campo negativo da distribuição enquanto que valores positivos, no campo positivo.\n",
        "\n",
        "Por sua vez, o teste de Shapiro-Witker para normalidade também permite verificar o quão próximo está a distribuição testada de uma distribuição normal ideal com média e desvio padrão iguais. Quando o parâmetro p do teste for maior que 0.05, a distribuição é considerada próxima da distribuição normal ideal ora descrita.\n",
        "\n",
        "\n",
        "\n",
        "\n",
        "\n"
      ]
    },
    {
      "cell_type": "code",
      "metadata": {
        "colab": {
          "base_uri": "https://localhost:8080/"
        },
        "id": "eJc_fiZn4f7r",
        "outputId": "b5b8c846-cf79-42ed-e159-701091ee2dfd"
      },
      "source": [
        "print(\"Red Wine\\n\")\n",
        "dataframeStatNormAnalysis(df)"
      ],
      "execution_count": 4,
      "outputs": [
        {
          "output_type": "stream",
          "text": [
            "Red Wine\n",
            "\n",
            "\n",
            "Variable                       Mean      StdDev        Min        Max       skew     Kurtosis    Shapiro p\n",
            "\n",
            "fixed acidity                  8.320      1.741      4.600     15.900      0.982        1.125        0.000\n",
            "volatile acidity               0.528      0.179      0.120      1.580      0.671        1.218        0.000\n",
            "citric acid                    0.271      0.195      0.000      1.000      0.318        -0.79        0.000\n",
            "residual sugar                 2.539      1.410      0.900     15.500      4.536       28.524        0.000\n",
            "chlorides                      0.087      0.047      0.012      0.611      5.675       41.582        0.000\n",
            "free sulfur dioxide           15.875     10.460      1.000     72.000      1.249        2.013        0.000\n",
            "total sulfur dioxide          46.468     32.895      6.000    289.000      1.514        3.794        0.000\n",
            "density                        0.997      0.002      0.990      1.004      0.071        0.927        0.000\n",
            "pH                             3.311      0.154      2.740      4.010      0.194        0.801        0.000\n",
            "sulphates                      0.658      0.170      0.330      2.000      2.426        11.68        0.000\n",
            "alcohol                       10.423      1.066      8.400     14.900       0.86        0.196        0.000\n",
            "quality                        5.636      0.808      3.000      8.000      0.218        0.292        0.000\n",
            "\n",
            "12 variables, 1599 samples.\n"
          ],
          "name": "stdout"
        }
      ]
    },
    {
      "cell_type": "markdown",
      "metadata": {
        "id": "ms7KHWVM82Go"
      },
      "source": [
        "\r\n",
        "Variáveis com essas características podem prejudicar a convergência da função custo (loss) e deixar o processo de apresendizagem dos modelos lentos e/ou instáveis. Particulamente em problemas de regressão, isso pode resultar em gradientes abruptos levando à falha do processo.\r\n",
        "\r\n",
        "Para evitar tal cenário, convém que as variáveis possuam escalas compáráveis e sejam relativamente isentas de ruídos. Essa condição existe quando as variáveis obecedem a uma distribuição gaussiana normal, ou seja, quando a média e o desvio padrão das amostras são respectivamente iguais a zero e um."
      ]
    },
    {
      "cell_type": "markdown",
      "metadata": {
        "id": "AAGT9yeXbYUo"
      },
      "source": [
        ""
      ]
    },
    {
      "cell_type": "markdown",
      "metadata": {
        "id": "IvftpEaCtgej"
      },
      "source": [
        "Não há amostras nulas ou com defeito, porém há amostras duplicadas."
      ]
    },
    {
      "cell_type": "code",
      "metadata": {
        "colab": {
          "base_uri": "https://localhost:8080/"
        },
        "id": "Hv8Z1eyHsxcH",
        "outputId": "55e350c4-ffb9-4d2d-9c56-fbf02788c34d"
      },
      "source": [
        "#@title\n",
        "# #@title\n",
        "original_df = df\n",
        "df = original_df.drop_duplicates()\n",
        "\n",
        "print(\"Red Wine\\n\")\n",
        "print(\"Original dataset shape: \" + str(original_df.shape))\n",
        "print(\"Valid dataset shape: \" + str(df.shape))"
      ],
      "execution_count": 5,
      "outputs": [
        {
          "output_type": "stream",
          "text": [
            "Red Wine\n",
            "\n",
            "Original dataset shape: (1599, 12)\n",
            "Valid dataset shape: (1359, 12)\n"
          ],
          "name": "stdout"
        }
      ]
    },
    {
      "cell_type": "markdown",
      "metadata": {
        "id": "QHoJJJZS1O1r"
      },
      "source": [
        "## Normalização das variáveis\n",
        "\n",
        "Se evidencia então a necessidade de pré-processamento das variáveis consistindo de transformação das mesmas em variáveis com distribuição normal antes de serem utilizadas para aprendizagem dos modelos. A transformação em questão é denominada normalização (ou padronização) das variáveis, que dentre os diversos métodos existentes, o mais popular e adotado aqui é o z-score, expresso por:\n",
        "\n",
        "$z_{x_{i}} = \\dfrac{x_i-\\bar{x}}{\\sigma}$,\n",
        "\n",
        "com $i=1,2,..., N$\n",
        "\n",
        "Onde,\n",
        "\n",
        "$N$ é o número de amostras da variável $x$\n",
        "\n",
        "$x_i$ é a amostra da variável $x$,\n",
        "\n",
        "$\\bar{x}$ é a média do conjunto de amostras da variável $x$,\n",
        "\n",
        "$\\sigma$ é o desvio padrão do conjunto de amostras da variável $x$\n",
        "\n",
        "$z_{x_{i}}$ é a o valor normalizado da amostra $x_i$\n",
        "\n",
        "\n",
        "É importante lembrar que após procedimento, os valores de skew, Kurtosis e Shapiro p não se alteram, pois a distribuição em si não foi alterada, apenas os valores das observações.\n"
      ]
    },
    {
      "cell_type": "code",
      "metadata": {
        "id": "CM8c0_WNE5wD",
        "colab": {
          "base_uri": "https://localhost:8080/",
          "height": 654
        },
        "outputId": "04f949b7-86f2-45ca-cf9c-7bebc3dd7315"
      },
      "source": [
        "#@title { form-width: \"20%\" }\n",
        "\n",
        "# https://scikit-learn.org/stable/modules/generated/sklearn.preprocessing.StandardScaler.html#sklearn.preprocessing.StandardScaler\n",
        "std_scaler = preprocessing.StandardScaler()\n",
        "std_df =std_scaler.fit_transform(df)\n",
        "\n",
        "# DataFrame com as variáveis padronizadas\n",
        "std_df = pd.DataFrame(data=std_df,columns=df.columns)\n",
        "\n",
        "plt.figure(figsize=(5,5))\n",
        "#std_df['quality'].hist()\n",
        "df['quality'].hist()\n",
        "plt.title(\"Red Wine Quality\",{'color': 'white'})\n",
        "plt.grid(False)\n",
        "\n",
        "print(\"Red Wine normalized\\n\")\n",
        "dataframeStatNormAnalysis(std_df)"
      ],
      "execution_count": 6,
      "outputs": [
        {
          "output_type": "stream",
          "text": [
            "Red Wine normalized\n",
            "\n",
            "\n",
            "Variable                       Mean      StdDev        Min        Max       skew     Kurtosis    Shapiro p\n",
            "\n",
            "fixed acidity                 -0.000      1.000     -2.137      4.371       0.94        1.041        0.000\n",
            "volatile acidity               0.000      1.000     -2.238      5.742      0.728         1.24        0.000\n",
            "citric acid                   -0.000      1.000     -1.393      3.723      0.312        -0.79        0.000\n",
            "residual sugar                -0.000      1.000     -1.201      9.599      4.543       29.252        0.000\n",
            "chlorides                      0.000      1.000     -1.542     10.593      5.496       38.478        0.000\n",
            "free sulfur dioxide           -0.000      1.000     -1.426      5.372      1.225        1.881        0.000\n",
            "total sulfur dioxide           0.000      1.000     -1.222      7.251      1.539        4.023        0.000\n",
            "density                        0.000      1.000     -3.554      3.737      0.045        0.823        0.000\n",
            "pH                            -0.000      1.000     -3.677      4.518      0.232        0.872        0.000\n",
            "sulphates                     -0.000      1.000     -1.927      7.862      2.404       11.057        0.000\n",
            "alcohol                        0.000      1.000     -1.879      4.130      0.859        0.155        0.000\n",
            "quality                        0.000      1.000     -3.186      2.887      0.192        0.335        0.000\n",
            "\n",
            "12 variables, 1359 samples.\n"
          ],
          "name": "stdout"
        },
        {
          "output_type": "display_data",
          "data": {
            "image/png": "[encoded data removed]",
            "text/plain": [
              "<Figure size 360x360 with 1 Axes>"
            ]
          },
          "metadata": {
            "tags": [],
            "needs_background": "light"
          }
        }
      ]
    },
    {
      "cell_type": "markdown",
      "metadata": {
        "id": "QHotnRZA0iXZ"
      },
      "source": [
        "Pode-se observar que as médias e desvios padrão de todas as variáveis estão como esperado, além de também possuirem valores de magnitudes compatíveis.\n",
        "\n",
        "Se beneficiam da normalização de variáveis algoritmos como KNN, que classificam ou estimam observações com base e métricas dimensionais e modelos de SVM, que maximizam a distância entre o plano de separação e os supporntig vectors. Em ambos os casos, a normalização evita que variáveis que alcancem valores absolutos muito altos dominem sobre as outras indevidamente.\n",
        "\n",
        "A normalização também é fundamental ao agir como um atenuador de ruído, evitando que este se propague na saída de algoritmos e modelos.\n",
        "\n",
        "Além disso, é uma etapa crucial para análise de componente principal, PCA, pois as variáveis originais com escalas muito diferentes prejudicam a análise covariâncias entre as mesmas. Este impacto pode ser visto comparando-se os heatmaps do dataset original e normalizado.\n"
      ]
    },
    {
      "cell_type": "code",
      "metadata": {
        "id": "5G6s-cIjcqrW",
        "colab": {
          "base_uri": "https://localhost:8080/",
          "height": 361
        },
        "outputId": "d092394f-ddf7-4e5b-d925-79dbf3e9e994"
      },
      "source": [
        "#@title\n",
        "plt.figure(figsize=(20,5))\n",
        "\n",
        "axis1 = plt.subplot(1,2,1)\n",
        "axis1.set_title(\"Original red wine covariance map\",{'color': 'white'})\n",
        "sns.heatmap(data=df.cov(),cmap= 'Blues')\n",
        "\n",
        "axis2 = plt.subplot(1,2,2)\n",
        "axis2.set_title(\"Normalized red wine covariance map\",{'color': 'white'})\n",
        "sns.heatmap(data=std_df.cov(),cmap= 'Blues')\n"
      ],
      "execution_count": 7,
      "outputs": [
        {
          "output_type": "execute_result",
          "data": {
            "text/plain": [
              "<matplotlib.axes._subplots.AxesSubplot at 0x7fdfd0767e48>"
            ]
          },
          "metadata": {
            "tags": []
          },
          "execution_count": 7
        },
        {
          "output_type": "display_data",
          "data": {
            "image/png": "[encoded data removed]",
            "text/plain": [
              "<Figure size 1440x360 with 4 Axes>"
            ]
          },
          "metadata": {
            "tags": [],
            "needs_background": "light"
          }
        }
      ]
    },
    {
      "cell_type": "markdown",
      "metadata": {
        "id": "t-hxkJLwH2LN"
      },
      "source": [
        "## Dependência entre as variáveis\r\n",
        "\r\n",
        "Para avaliar a dependência entre as variáveis podemos empregar a análise por heatmap da correlação entre elas.\r\n",
        "\r\n"
      ]
    },
    {
      "cell_type": "code",
      "metadata": {
        "id": "0rFKP-BKE8Vb",
        "colab": {
          "base_uri": "https://localhost:8080/",
          "height": 723
        },
        "outputId": "d90224ee-ed5b-47b7-cbdc-791de8949dda"
      },
      "source": [
        "#@title { form-width: \"20%\" }\n",
        "plt.figure(figsize=(25,10))\n",
        "\n",
        "axis1 = plt.subplot(1,2,1)\n",
        "axis1.set_title(\"RED WINE\\n\")\n",
        "sns.heatmap(data=std_df.corr(),cmap= 'bwr_r',annot=True)"
      ],
      "execution_count": 8,
      "outputs": [
        {
          "output_type": "execute_result",
          "data": {
            "text/plain": [
              "<matplotlib.axes._subplots.AxesSubplot at 0x7fdfd0d52668>"
            ]
          },
          "metadata": {
            "tags": []
          },
          "execution_count": 8
        },
        {
          "output_type": "display_data",
          "data": {
            "image/png": "[encoded data removed]",
            "text/plain": [
              "<Figure size 1800x720 with 2 Axes>"
            ]
          },
          "metadata": {
            "tags": [],
            "needs_background": "light"
          }
        }
      ]
    },
    {
      "cell_type": "markdown",
      "metadata": {
        "id": "2OU_aMWkVRkA"
      },
      "source": [
        "No heatmap acima, quanto mais próximo de zero for a correlação entre duas variáveis, mais indepedentes elas são entre si. Pode-se observar que, as variáveis de entrada são pouco correlacionadas. Para vinho tinto, 'pH' guarda uma correlação negativa relevante com 'fixed acid' e 'citric acid', ocorrendo o mesmo entre 'volatile acid' e 'citric acid'. Por sua vez, a variável de saída, 'quality' tem uma relação considerável com 'alchool'.\n",
        "\n"
      ]
    },
    {
      "cell_type": "markdown",
      "metadata": {
        "id": "cg61v2ZIioqv"
      },
      "source": [
        "## Análise de Componente Principal, PCA\r\n",
        "\r\n",
        "Trata-se uma das técnicas de redução de dimensionalidade mais amplamente utilizadas para reduzir a quantidade de variáveis de um dataset ao identificar evetuais correlações padrões entre as mesmas, porém preservando a maioria das informações valiosas.\r\n",
        "\r\n",
        "**Tem o intuito de eliminar a redundância de dados no dataset, bem como capturar informações que expliquem a variabiliade das variáveis.**\r\n",
        "\r\n",
        "Como explicado acima, antes proceder para PCA, os dados devem estar normalizados. Como pretendemos identificar a depedêncida entre variáveis supostamente independentes, devemos excluir a saída (quality), pois naturalmente ela depende das demais.\r\n",
        "\r\n",
        "\r\n"
      ]
    },
    {
      "cell_type": "code",
      "metadata": {
        "id": "JMVvu2mZiniU"
      },
      "source": [
        "input_std_df = std_df.drop(columns = 'quality')"
      ],
      "execution_count": 9,
      "outputs": []
    },
    {
      "cell_type": "markdown",
      "metadata": {
        "id": "RPwu8lhetzoy"
      },
      "source": [
        "O primeiro passo da análise consiste em estabelecer a quantidade de variáveis a ser preservadas por terem maior relevância que as demais. Isso pode ser feito pela análise da covariância entre as variáveis, conforme a equação:\r\n",
        "\r\n",
        "$cov(X,Y) = \\dfrac{1}{N}[{\\Sigma_{i=1}^N x_i y_i}-\\dfrac{1}{N}({\\Sigma_{i=1}^N x_i})({\\Sigma_{i=1}^N y_i})]$\r\n",
        "\r\n",
        "Onde $X$ e $Y$ são as variáveis consideradas para o cálculo, $n$, quantidade total de amostras, e $x_i$ e $y_i$, os respectivos valores das amostras $i... n$.\r\n",
        "\r\n",
        "Fazendo cálculo duas a duas obtemos a matriz de covariâncias das variáveis, cujo heatmap mostrado a seguir.\r\n"
      ]
    },
    {
      "cell_type": "code",
      "metadata": {
        "colab": {
          "base_uri": "https://localhost:8080/",
          "height": 723
        },
        "id": "hWBuO9hWwbAl",
        "outputId": "d2c21aa1-9093-438b-cea8-f15d91f637a8"
      },
      "source": [
        "input_std_cov = input_std_df.cov()\r\n",
        "\r\n",
        "plt.figure(figsize=(25,10))\r\n",
        "\r\n",
        "axis1 = plt.subplot(1,2,1)\r\n",
        "axis1.set_title(\"Normalized red wine covariance map\\n\")\r\n",
        "sns.heatmap(data=input_std_cov,cmap='bwr_r')"
      ],
      "execution_count": 10,
      "outputs": [
        {
          "output_type": "execute_result",
          "data": {
            "text/plain": [
              "<matplotlib.axes._subplots.AxesSubplot at 0x7fdfcdbecc50>"
            ]
          },
          "metadata": {
            "tags": []
          },
          "execution_count": 10
        },
        {
          "output_type": "display_data",
          "data": {
            "image/png": "[encoded data removed]",
            "text/plain": [
              "<Figure size 1800x720 with 2 Axes>"
            ]
          },
          "metadata": {
            "tags": [],
            "needs_background": "light"
          }
        }
      ]
    },
    {
      "cell_type": "markdown",
      "metadata": {
        "id": "YGOS4Y0EyY4D"
      },
      "source": [
        "Uma vez que uma matriz quadrada de dimensão $n$ define um espaço com $n$ dimensões, ela pode ser decomposta em $n$ autovetores, que identificam a direção dessas dimensões, e $n$ autovalores, associados a cada autovetor, que por suavez definem a escala desse espaço na respectiva dimensão.\r\n",
        "\r\n",
        "Intuitivamente, a matriz de covariâncias generaliza a noção de variância para múltiplas dimensões. Assim, os autovetores dessa matriz indicam para 'onde' as variações estão ocorrendo e os autovalores indicam a 'intensidade' dessas variações.\r\n",
        "\r\n",
        "Essas duas informações permitem entender quais são as variáveis, ou componentes, com maior influência sobre a variabilidade do conjunto e construir um novo espaço com dimensões reduzidas com as componentes mais siginificativas.\r\n",
        "\r\n",
        "### Autovalores e componentes\r\n",
        "\r\n",
        "Nesse sentido os autovalores com maior valor definem as componentes que mais contribuem para a variância, de forma que o maior autovalor é a intensidade da primeira componente principal, o segundo maior, da segunda componente principal, e assim por diante.\r\n",
        "\r\n",
        "Dito isto, é possível calcular a contribuição relativa de cada componente divindo seu valor pelo valor total de todas as componentes e seguida avaliar a cumulativa das variáveis em ordem crescente de contribuição."
      ]
    },
    {
      "cell_type": "code",
      "metadata": {
        "colab": {
          "base_uri": "https://localhost:8080/",
          "height": 719
        },
        "id": "Ei9Xv3Wftdl6",
        "outputId": "77398312-2355-4635-87ba-36ec0a744de7"
      },
      "source": [
        "# Cálculo dos autovalores e autovetores da matriz de covarianças do dataset normalizado (apenas entradas)\n",
        "\n",
        "(eigval,eigvec) = np.linalg.eig(input_std_cov)\n",
        "\n",
        "# Montagem do DataFrama de análise de autovalores\n",
        "\n",
        "temp = pd.Series(eigval, index=input_std_df.columns, name='lambda').sort_values(ascending=False)\n",
        "\n",
        "eigval_info = pd.DataFrame(temp)\n",
        "eigval_info.insert(loc=1,column='relative_lambda',value=temp.values/temp.sum())\n",
        "eigval_info.insert(loc=2,column='cumulative_lambda',value=(temp.values/temp.sum()).cumsum())\n",
        "\n",
        "print(\"\\nEigenvalues and their contribution analysis:\\n\")\n",
        "print(eigval_info)\n",
        "\n",
        "plt.figure(figsize=(8,5))\n",
        "#plt.xkcd()\n",
        "plt.plot(eigval_info['cumulative_lambda'])\n",
        "plt.xlabel(\"Components\")\n",
        "plt.xticks(rotation=90)\n",
        "plt.ylabel(\"Cumulative lambda\")\n",
        "plt.grid(True)\n",
        "print(\"\\nCumulative eigenvalues over the variables:\\n\")\n",
        "plt.show()\n"
      ],
      "execution_count": 11,
      "outputs": [
        {
          "output_type": "stream",
          "text": [
            "\n",
            "Eigenvalues and their contribution analysis:\n",
            "\n",
            "                        lambda  relative_lambda  cumulative_lambda\n",
            "fixed acidity         3.114631         0.282940           0.282940\n",
            "volatile acidity      1.909631         0.173475           0.456415\n",
            "citric acid           1.548489         0.140668           0.597083\n",
            "residual sugar        1.251402         0.113680           0.710763\n",
            "chlorides             0.961591         0.087353           0.798116\n",
            "alcohol               0.638078         0.057964           0.856081\n",
            "sulphates             0.587336         0.053355           0.909436\n",
            "pH                    0.412384         0.037462           0.946897\n",
            "density               0.344191         0.031267           0.978164\n",
            "total sulfur dioxide  0.181338         0.016473           0.994638\n",
            "free sulfur dioxide   0.059030         0.005362           1.000000\n",
            "\n",
            "Cumulative eigenvalues over the variables:\n",
            "\n"
          ],
          "name": "stdout"
        },
        {
          "output_type": "display_data",
          "data": {
            "image/png": "[encoded data removed]",
            "text/plain": [
              "<Figure size 576x360 with 1 Axes>"
            ]
          },
          "metadata": {
            "tags": [],
            "needs_background": "light"
          }
        }
      ]
    },
    {
      "cell_type": "markdown",
      "metadata": {
        "id": "f4GA1gJP9eSZ"
      },
      "source": [
        "Pelos valores acumulados percebe-se que 'fixed acidity' contribui com cerca de 28,2% para a variabilidade do conjunto, sendo esta variável primeira componente principal e 'volatile acidity' com 17,5%. As duas juntas a 45,7% das contribuições. Na outra ponta, é possível encontrar as variáveis a ser removidas, sendo quantidade correspondete ao nível de contribuições do conjunto original.\r\n",
        "\r\n",
        "Será considerado o nível de 90% além de 100% (sem eliminação) para treinamento e avaliação dos modelos. Isso significa que para o primeiro caso as variáveis 'free sulfur dioxide', 'total sulfur dioxide', 'density' e 'pH' serão eliminadas. Desta forma serão mantidas as 7 variáveis principais.\r\n",
        "\r\n",
        "O ponto é que ao escolher manter as variáveis de maior contribuição é assumida a hipótese de que a varianica corresponde a elas é suficiente para descrever a variancia do dataset original.\r\n",
        "\r\n",
        "Por outro lado, as perdas de informação de variancia correspondente às variáveis removidas não são relevantes ou são aceitáveis para o problema proposto de acordo com um trade off específico para cada situação."
      ]
    },
    {
      "cell_type": "markdown",
      "metadata": {
        "id": "72vJQU5BJ0ld"
      },
      "source": [
        "### Redução da dimensão da entrada\r\n",
        "\r\n",
        "Uma vez escolhidas as variáveis a serem eliminadas, a próxima etapa é obter um espaço com dimensões reduzidas $F$ correspondentes à componentes remanescentes. Isso pode ser feito projetando o espaço original $X$ sobre uma matriz de transformação $T$ formada pelos autovetores associados a tais componentes, os quais carregam consigo a informação da direção das dimensões do novo espaço. Matematicamente:\r\n",
        "\r\n",
        "$F = XT$\r\n",
        "\r\n",
        "com\r\n",
        "\r\n",
        "$T = [v_1 : v_2: \\ ... \\ :v_{n-e}]$\r\n",
        "\r\n",
        "Onde\r\n",
        "\r\n",
        "$v_i$ é o autovetor da componente principal $i=1,2 \\ ... \\ n-e$\r\n",
        "\r\n",
        "$n$ é a dimensão do dataset original, e\r\n",
        "\r\n",
        "$e$ é a quantidade de variáveis eliminadas.\r\n",
        "\r\n",
        "Assim serão estabelecidos três conjuntos de entradas, conforme mencionado anteriormente:\r\n",
        "\r\n",
        "$F_{11} = X$\r\n",
        "\r\n",
        "$F_{7} = XT_{7}$\r\n",
        "\r\n",
        "onde\r\n",
        "\r\n",
        "$T_{7} = [v_1 : v_2: \\ ... \\ :v_7]$\r\n",
        "\r\n",
        "\r\n"
      ]
    },
    {
      "cell_type": "markdown",
      "metadata": {
        "id": "sN971xVNO6nA"
      },
      "source": [
        "Os autovetores da matriz de covarâncias são:"
      ]
    },
    {
      "cell_type": "code",
      "metadata": {
        "colab": {
          "base_uri": "https://localhost:8080/"
        },
        "id": "sg7HuMuvVEqY",
        "outputId": "641fa75b-dbf1-4f31-95da-bb6aa74ae180"
      },
      "source": [
        "# Impressão dos autovetores\r\n",
        "\r\n",
        "print(\"\\nRed wine normalized covariance matrix EIGENVECTORS:\\n\")\r\n",
        "\r\n",
        "text = \"\"\r\n",
        "for i in range(1,12):\r\n",
        "  text = text + \"{:>7}  \".format(i)\r\n",
        "print(text+\"\\n\")\r\n",
        "\r\n",
        "matrixPrint(eigvec,\"> 7.4f\")\r\n",
        "\r\n",
        "print(\"\\nLegend:\\n\")\r\n",
        "i=1\r\n",
        "for column in input_std_df.columns:\r\n",
        "  print(\"{:>2}: {:<}\".format(i,column))\r\n",
        "  i=i+1"
      ],
      "execution_count": 12,
      "outputs": [
        {
          "output_type": "stream",
          "text": [
            "\n",
            "Red wine normalized covariance matrix EIGENVECTORS:\n",
            "\n",
            "      1        2        3        4        5        6        7        8        9       10       11  \n",
            "\n",
            "-0.4853   0.1112   0.1286   0.2357   0.0878  -0.6436  -0.2392   0.1791  -0.1628  -0.3615   0.1079  \n",
            " 0.2394  -0.2765   0.4439  -0.0728  -0.2518   0.0069   0.3608  -0.1357  -0.0643  -0.5209   0.4199  \n",
            "-0.4625   0.1554  -0.2365   0.0746   0.0547   0.0819   0.6089  -0.3945  -0.3868   0.0979   0.0720  \n",
            "-0.1344  -0.2379  -0.1143   0.4052  -0.7385  -0.1743   0.0998   0.0417   0.2647   0.3007   0.0123  \n",
            "-0.2141  -0.1308   0.0923  -0.6538  -0.2857  -0.0598  -0.2237   0.1337  -0.3785   0.3581   0.2764  \n",
            " 0.0231  -0.5125  -0.4368   0.0222   0.1601   0.0496   0.2532   0.6206  -0.2083  -0.1545  -0.0304  \n",
            "-0.0360  -0.5763  -0.3273   0.0282   0.1783  -0.0691  -0.3819  -0.5871   0.0378  -0.0681   0.1597  \n",
            "-0.3917  -0.2306   0.3498   0.1798  -0.1361   0.5597  -0.2457   0.0137  -0.2259  -0.1820  -0.4026  \n",
            " 0.4443  -0.0022  -0.0551   0.0028  -0.2320  -0.3420  -0.0144  -0.1895  -0.5479  -0.0606  -0.5374  \n",
            "-0.2505   0.0547  -0.2629  -0.5403  -0.2383  -0.0696   0.1106  -0.0795   0.4053  -0.4336  -0.3752  \n",
            " 0.1179   0.4030  -0.4653   0.1280  -0.3350   0.3206  -0.3148   0.0449  -0.2148  -0.3412   0.3348  \n",
            "\n",
            "Legend:\n",
            "\n",
            " 1: fixed acidity\n",
            " 2: volatile acidity\n",
            " 3: citric acid\n",
            " 4: residual sugar\n",
            " 5: chlorides\n",
            " 6: free sulfur dioxide\n",
            " 7: total sulfur dioxide\n",
            " 8: density\n",
            " 9: pH\n",
            "10: sulphates\n",
            "11: alcohol\n"
          ],
          "name": "stdout"
        }
      ]
    },
    {
      "cell_type": "code",
      "metadata": {
        "id": "4rjRy81OJz8H"
      },
      "source": [
        "# dataset de entrada sem alterações\r\n",
        "X = input_std_df\r\n",
        "\r\n",
        "# Nota sobre autovetor de linalg.eig:\r\n",
        "# v : (..., M, M) array The normalized (unit \"length\") eigenvectors, such that\r\n",
        "# the column v[:,i] is the eigenvector corresponding to the eigenvalue w[i].\r\n",
        "\r\n",
        "# Entrada com todas as variáveis\r\n",
        "F11 = X\r\n",
        "\r\n",
        "\r\n",
        "# Ajusta o dataset original no analisador\r\n",
        "\r\n",
        "pca = PCA().fit(X)\r\n",
        "\r\n",
        "# Entrada com as nove variáveis que correposnde a 90% da variância do conjunto\r\n",
        "\r\n",
        "pca = PCA(n_components = 7)\r\n",
        "pcs = pca.fit_transform(F11)\r\n",
        "F7 = pd.DataFrame(data=pcs)"
      ],
      "execution_count": 13,
      "outputs": []
    },
    {
      "cell_type": "markdown",
      "metadata": {
        "id": "77_awu-fazF2"
      },
      "source": [
        "Os novos datasets de entrada com 9 e 7 dimensões são:"
      ]
    },
    {
      "cell_type": "code",
      "metadata": {
        "colab": {
          "base_uri": "https://localhost:8080/"
        },
        "id": "fKUy_8c7anrr",
        "outputId": "7656b67b-d600-46ff-9d16-e1c5d73aae84"
      },
      "source": [
        "print(\"\\nF11\\n\")\r\n",
        "\r\n",
        "print(F11)\r\n",
        "\r\n",
        "print(\"\\nF7\\n\")\r\n",
        "\r\n",
        "print(F7)"
      ],
      "execution_count": 14,
      "outputs": [
        {
          "output_type": "stream",
          "text": [
            "\n",
            "F11\n",
            "\n",
            "      fixed acidity  volatile acidity  ...  sulphates   alcohol\n",
            "0         -0.524431          0.932000  ...  -0.578561 -0.954374\n",
            "1         -0.294063          1.915800  ...   0.124822 -0.584575\n",
            "2         -0.294063          1.259934  ...  -0.051024 -0.584575\n",
            "3          1.664067         -1.363534  ...  -0.461331 -0.584575\n",
            "4         -0.524431          0.713378  ...  -0.578561 -0.954374\n",
            "...             ...               ...  ...        ...       ...\n",
            "1354      -0.869983          0.494756  ...   0.945435 -0.861924\n",
            "1355      -1.215536          0.385444  ...  -0.461331  0.062574\n",
            "1356      -1.388312          0.112167  ...   0.593744  0.709723\n",
            "1357      -1.388312          0.631395  ...   0.300667 -0.214775\n",
            "1358      -1.330720         -1.199567  ...   0.007591  0.524824\n",
            "\n",
            "[1359 rows x 11 columns]\n",
            "\n",
            "F7\n",
            "\n",
            "             0         1         2         3         4         5         6\n",
            "0    -1.617185  0.483047 -1.765381  0.043742  0.011270 -0.918062 -0.168433\n",
            "1    -0.759750  1.851902 -0.870782  0.519611  0.112362  0.917032 -0.935958\n",
            "2    -0.729912  0.890227 -1.153382  0.383922  0.022574  0.401729 -0.476731\n",
            "3     2.361030 -0.235496  0.198337 -0.897565 -1.509746 -0.087904  0.307927\n",
            "4    -1.577087  0.604042 -1.532463  0.035250 -0.166895 -0.993503 -0.125875\n",
            "...        ...       ...       ...       ...       ...       ...       ...\n",
            "1354 -1.200620  0.937793 -0.011716  0.854740 -0.253711 -1.135343 -0.624853\n",
            "1355 -2.124125  0.827858  0.647146  0.452104 -0.260273  0.002947  0.107065\n",
            "1356 -2.171305  0.890541  1.807679  0.478447  0.072095 -0.734304 -0.681637\n",
            "1357 -2.238165  0.985685  0.643872  0.686969  0.028699 -0.899445 -0.385546\n",
            "1358 -0.430874 -0.548429  1.617107 -0.399192  0.427711 -0.554914  1.174913\n",
            "\n",
            "[1359 rows x 7 columns]\n"
          ],
          "name": "stdout"
        }
      ]
    },
    {
      "cell_type": "markdown",
      "metadata": {
        "id": "2RorWQ-cbakp"
      },
      "source": [
        "# Modelos de Regressão\r\n",
        "\r\n",
        "O objetivo deste trabalho é encontrar algum modelo de regressão que consiga prever o valor da variável de saída 'quality' de forma que o erro médio absoluto (MAE) entre os valores previstos e verdadeiros seja o menor possível.\r\n",
        "\r\n",
        "Em todos os casos, o dataset foi separado em três partes, uma para treino e validação cruzada com 4/5 do total de amostras e uma para teste com 1/5 restante. "
      ]
    },
    {
      "cell_type": "code",
      "metadata": {
        "id": "Clel4TgOeGH3"
      },
      "source": [
        "# Holdout\r\n",
        "\r\n",
        "# Entradas\r\n",
        "\r\n",
        "(F11_train,F11_test) = train_test_split(F11, test_size = 0.20)\r\n",
        "( F7_train, F7_test) = train_test_split( F7, test_size = 0.20)\r\n",
        "\r\n",
        "# Saída\r\n",
        "\r\n",
        "Y = std_df['quality']\r\n",
        "(Y_train, Y_test) = train_test_split(Y,test_size = 0.20)\r\n",
        "\r\n",
        "# DataFrame para armazenar valores de métricas obtidos\r\n",
        "\r\n",
        "results = pd.DataFrame(index=['MLP','Deep NN', 'SVM', 'DT'], columns=['F11','F7'])\r\n",
        "\r\n"
      ],
      "execution_count": 15,
      "outputs": []
    },
    {
      "cell_type": "markdown",
      "metadata": {
        "id": "1W1xP74vWghd"
      },
      "source": [
        "## Multi-layer Perceptron\r\n",
        "\r\n",
        "[Multi-layer Perceptron (MLP)](https://scikit-learn.org/stable/modules/neural_networks_supervised.html#multi-layer-perceptron) é um algoritmo de aprendizado supervisionado que ao treinar sobre um dataset ajusta uma função\r\n",
        "\r\n",
        "$f(\\cdot):R^m \\rightarrow R^o$, onde $m$ é o número de dimensões (variáveis) da entrada e $o$ é o número de dimensões da saída.\r\n",
        "\r\n",
        "Dado um conjunto de features $X = {x_1, x_2, ..., x_m}$ e target $y$, pode aprender um aproximador de função não-linear tanto para classificação quanto para regressão.\r\n",
        "\r\n",
        "É diferente de regressão logística, uma vez que entre as camadas de entrada e de saída pode haver um ou mais camadas internas (hidden layers).\r\n",
        "\r\n",
        "As disvantagens de MLP incluem:\r\n",
        "\r\n",
        "1. MLP com camadas internas possuem loss não convexa, onde pode haver mais de um mínimo local. Logo, diferentes pesos na inicialização podem levar a diferentes valores de acurácia na validação.\r\n",
        "\r\n",
        "2. MLP necessita de sintonia de hiperparâmetros, tais como quantidade de camadas internas, de neurônios nas mesmas e de iterações.\r\n",
        "\r\n",
        "3. MLP é sensível às magnitudes numéricas das variáveis, o que pode ser contornado com normalização das mesmas."
      ]
    },
    {
      "cell_type": "markdown",
      "metadata": {
        "id": "-3h8PLWCeicP"
      },
      "source": [
        "### Definição do modelo e ajustes de sintonia\r\n",
        "\r\n",
        "Como dito acima, será considerado como hiperparâmetro a ser sintonizado a quantidade de neurônios, H, em uma camada interna. Foi adotado para tal camada a função de ativação logística e a loss utilizada para treino e validação é a squared-loss. Além disso, dos dados apresentados para treino, 20% será reservado para validação dentro localmente pelo MLPRegressor.\r\n",
        "\r\n",
        "O range para sintonia é de 1 a 11 neurônios, e a avaliação de cada modelo é realizada por validação cruzada com 5 folds adotando como métrica de scoring o erro médio absoluto, MAE. O modelo escolhido com menor MAE é então retreinado com todo o dataset de treino."
      ]
    },
    {
      "cell_type": "code",
      "metadata": {
        "id": "q5xf5J8gaxCC"
      },
      "source": [
        "# Define o modelo de rede neural sobre o qual será realizada a sintonia de H (hiperparâmetro)\r\n",
        "\r\n",
        "# MLPRegressor:\r\n",
        "#   Multi-layer Perceptron regressor. This model optimizes the squared-loss using\r\n",
        "#   LBFGS or stochastic gradient descent.\r\n",
        "# Rede neural com uma camada interna (hidden layer) cuja quantidade de neurônios\r\n",
        "# Função de ativação logistic e otimizador bfgs foram escolhidos por Cortez, et al.\r\n",
        "\r\n",
        "# Notas sobre MLPRegressor\r\n",
        "\r\n",
        "# The default solver ‘adam’ works pretty well on relatively large datasets (with thousands of training\r\n",
        "# samples or more) in terms of both training time and validation score. For small datasets, however,\r\n",
        "# ‘lbfgs’ can converge faster and perform better.\r\n",
        "\r\n",
        "# batch_sizeint, default=’auto’: Size of minibatches for stochastic optimizers.\r\n",
        "# If the solver is ‘lbfgs’, the classifier will not use minibatch. When set to “auto”, batch_size=min(200, n_samples)\r\n",
        "\r\n",
        "# https://scikit-learn.org/stable/modules/generated/sklearn.neural_network.MLPRegressor.html\r\n",
        "\r\n",
        "NN_regressor = MLPRegressor(hidden_layer_sizes=[1],\r\n",
        "                            activation='logistic',\r\n",
        "                            solver='sgd',\r\n",
        "                            max_fun = 15000,\r\n",
        "                            max_iter = 1000000,       # epochs\r\n",
        "                            tol = 1e-4,\r\n",
        "                            early_stopping = True,\r\n",
        "                            validation_fraction = 0.2,\r\n",
        "                            verbose = False,\r\n",
        "                            random_state = 3,\r\n",
        "                            batch_size = 200\r\n",
        "                          )\r\n",
        "\r\n",
        "# Configura o processo de tunnig de H no modelo de rede neural\r\n",
        "# GridSearchCV\r\n",
        "# Executa cross-validation em um estimator de forma iterativa sobre um conjunto de hiperparâmetros\r\n",
        "# O range de H é o mesmo adotado por Cortez, et al. como de 1 a 11.\r\n",
        "# https://scikit-learn.org/stable/modules/generated/sklearn.model_selection.GridSearchCV.html\r\n",
        "\r\n",
        "parameters = {'hidden_layer_sizes': [1,2,3,4,5,6,7,8,9,10,11]}\r\n",
        "Kcv = 5\r\n",
        "modelNN = GridSearchCV(estimator= NN_regressor,\r\n",
        "                       param_grid= parameters,\r\n",
        "                       cv= Kcv,\r\n",
        "                       scoring= 'neg_mean_absolute_error',\r\n",
        "                      )\r\n",
        "\r\n"
      ],
      "execution_count": 16,
      "outputs": []
    },
    {
      "cell_type": "markdown",
      "metadata": {
        "id": "X1Bj_7YveZ2K"
      },
      "source": [
        "### Treinamento e teste com dataset F11"
      ]
    },
    {
      "cell_type": "code",
      "metadata": {
        "colab": {
          "base_uri": "https://localhost:8080/",
          "height": 386
        },
        "id": "DAdxn4xtzIEG",
        "outputId": "93d1d14c-e40d-4684-c38e-dae7d3663f8d"
      },
      "source": [
        "bestNN_11 = modelNN.fit(F11_train,Y_train)\r\n",
        "\r\n",
        "# Exibe resultados do processo de validação cruzada com 5 folds\r\n",
        "\r\n",
        "cv_results = pd.DataFrame(data=bestNN_11.cv_results_).drop('params',axis=1)\r\n",
        "cv_results = cv_results[['rank_test_score','param_hidden_layer_sizes','mean_test_score','std_test_score',\r\n",
        "                                       'split0_test_score', 'split1_test_score','split2_test_score','split3_test_score','split4_test_score']]\r\n",
        "\r\n",
        "MAE = metrics.mean_absolute_error(Y_test, bestNN_11.predict(F11_test))\r\n",
        "\r\n",
        "results['F11']['MLP'] = MAE\r\n",
        "\r\n",
        "print(\"\\n Mean absolute error of predictions made by model fitted with F11: \"\r\n",
        "      + str(round(MAE,4))\r\n",
        "      + \"\\n\"\r\n",
        ")\r\n",
        "\r\n",
        "cv_results.sort_values(by='rank_test_score').transpose()"
      ],
      "execution_count": 17,
      "outputs": [
        {
          "output_type": "stream",
          "text": [
            "\n",
            " Mean absolute error of predictions made by model fitted with F11: 0.8289\n",
            "\n"
          ],
          "name": "stdout"
        },
        {
          "output_type": "execute_result",
          "data": {
            "text/html": [
              "<div>\n",
              "<style scoped>\n",
              "    .dataframe tbody tr th:only-of-type {\n",
              "        vertical-align: middle;\n",
              "    }\n",
              "\n",
              "    .dataframe tbody tr th {\n",
              "        vertical-align: top;\n",
              "    }\n",
              "\n",
              "    .dataframe thead th {\n",
              "        text-align: right;\n",
              "    }\n",
              "</style>\n",
              "<table border=\"1\" class=\"dataframe\">\n",
              "  <thead>\n",
              "    <tr style=\"text-align: right;\">\n",
              "      <th></th>\n",
              "      <th>6</th>\n",
              "      <th>7</th>\n",
              "      <th>0</th>\n",
              "      <th>9</th>\n",
              "      <th>5</th>\n",
              "      <th>3</th>\n",
              "      <th>10</th>\n",
              "      <th>8</th>\n",
              "      <th>1</th>\n",
              "      <th>2</th>\n",
              "      <th>4</th>\n",
              "    </tr>\n",
              "  </thead>\n",
              "  <tbody>\n",
              "    <tr>\n",
              "      <th>rank_test_score</th>\n",
              "      <td>1</td>\n",
              "      <td>2</td>\n",
              "      <td>3</td>\n",
              "      <td>4</td>\n",
              "      <td>5</td>\n",
              "      <td>6</td>\n",
              "      <td>7</td>\n",
              "      <td>8</td>\n",
              "      <td>9</td>\n",
              "      <td>10</td>\n",
              "      <td>11</td>\n",
              "    </tr>\n",
              "    <tr>\n",
              "      <th>param_hidden_layer_sizes</th>\n",
              "      <td>7</td>\n",
              "      <td>8</td>\n",
              "      <td>1</td>\n",
              "      <td>10</td>\n",
              "      <td>6</td>\n",
              "      <td>4</td>\n",
              "      <td>11</td>\n",
              "      <td>9</td>\n",
              "      <td>2</td>\n",
              "      <td>3</td>\n",
              "      <td>5</td>\n",
              "    </tr>\n",
              "    <tr>\n",
              "      <th>mean_test_score</th>\n",
              "      <td>-0.842955</td>\n",
              "      <td>-0.844417</td>\n",
              "      <td>-0.848001</td>\n",
              "      <td>-0.848866</td>\n",
              "      <td>-0.849006</td>\n",
              "      <td>-0.849067</td>\n",
              "      <td>-0.849375</td>\n",
              "      <td>-0.849558</td>\n",
              "      <td>-0.850474</td>\n",
              "      <td>-0.851042</td>\n",
              "      <td>-0.851237</td>\n",
              "    </tr>\n",
              "    <tr>\n",
              "      <th>std_test_score</th>\n",
              "      <td>0.020596</td>\n",
              "      <td>0.0186689</td>\n",
              "      <td>0.0178764</td>\n",
              "      <td>0.0249762</td>\n",
              "      <td>0.0176463</td>\n",
              "      <td>0.0203269</td>\n",
              "      <td>0.022541</td>\n",
              "      <td>0.0235848</td>\n",
              "      <td>0.017683</td>\n",
              "      <td>0.0162209</td>\n",
              "      <td>0.0198926</td>\n",
              "    </tr>\n",
              "    <tr>\n",
              "      <th>split0_test_score</th>\n",
              "      <td>-0.873389</td>\n",
              "      <td>-0.871247</td>\n",
              "      <td>-0.876844</td>\n",
              "      <td>-0.888387</td>\n",
              "      <td>-0.878478</td>\n",
              "      <td>-0.884121</td>\n",
              "      <td>-0.8878</td>\n",
              "      <td>-0.885052</td>\n",
              "      <td>-0.877754</td>\n",
              "      <td>-0.878912</td>\n",
              "      <td>-0.881493</td>\n",
              "    </tr>\n",
              "    <tr>\n",
              "      <th>split1_test_score</th>\n",
              "      <td>-0.832479</td>\n",
              "      <td>-0.834107</td>\n",
              "      <td>-0.839591</td>\n",
              "      <td>-0.850571</td>\n",
              "      <td>-0.845251</td>\n",
              "      <td>-0.847096</td>\n",
              "      <td>-0.848739</td>\n",
              "      <td>-0.857902</td>\n",
              "      <td>-0.850712</td>\n",
              "      <td>-0.847576</td>\n",
              "      <td>-0.849652</td>\n",
              "    </tr>\n",
              "    <tr>\n",
              "      <th>split2_test_score</th>\n",
              "      <td>-0.849356</td>\n",
              "      <td>-0.854669</td>\n",
              "      <td>-0.849486</td>\n",
              "      <td>-0.846268</td>\n",
              "      <td>-0.850664</td>\n",
              "      <td>-0.842091</td>\n",
              "      <td>-0.839611</td>\n",
              "      <td>-0.850761</td>\n",
              "      <td>-0.845956</td>\n",
              "      <td>-0.845425</td>\n",
              "      <td>-0.85005</td>\n",
              "    </tr>\n",
              "    <tr>\n",
              "      <th>split3_test_score</th>\n",
              "      <td>-0.811112</td>\n",
              "      <td>-0.815981</td>\n",
              "      <td>-0.821996</td>\n",
              "      <td>-0.809534</td>\n",
              "      <td>-0.823136</td>\n",
              "      <td>-0.821117</td>\n",
              "      <td>-0.818399</td>\n",
              "      <td>-0.812273</td>\n",
              "      <td>-0.82263</td>\n",
              "      <td>-0.829022</td>\n",
              "      <td>-0.819035</td>\n",
              "    </tr>\n",
              "    <tr>\n",
              "      <th>split4_test_score</th>\n",
              "      <td>-0.848441</td>\n",
              "      <td>-0.846081</td>\n",
              "      <td>-0.852087</td>\n",
              "      <td>-0.849572</td>\n",
              "      <td>-0.847504</td>\n",
              "      <td>-0.850911</td>\n",
              "      <td>-0.852327</td>\n",
              "      <td>-0.841804</td>\n",
              "      <td>-0.855319</td>\n",
              "      <td>-0.854273</td>\n",
              "      <td>-0.855953</td>\n",
              "    </tr>\n",
              "  </tbody>\n",
              "</table>\n",
              "</div>"
            ],
            "text/plain": [
              "                                 6          7  ...          2          4\n",
              "rank_test_score                  1          2  ...         10         11\n",
              "param_hidden_layer_sizes         7          8  ...          3          5\n",
              "mean_test_score          -0.842955  -0.844417  ...  -0.851042  -0.851237\n",
              "std_test_score            0.020596  0.0186689  ...  0.0162209  0.0198926\n",
              "split0_test_score        -0.873389  -0.871247  ...  -0.878912  -0.881493\n",
              "split1_test_score        -0.832479  -0.834107  ...  -0.847576  -0.849652\n",
              "split2_test_score        -0.849356  -0.854669  ...  -0.845425   -0.85005\n",
              "split3_test_score        -0.811112  -0.815981  ...  -0.829022  -0.819035\n",
              "split4_test_score        -0.848441  -0.846081  ...  -0.854273  -0.855953\n",
              "\n",
              "[9 rows x 11 columns]"
            ]
          },
          "metadata": {
            "tags": []
          },
          "execution_count": 17
        }
      ]
    },
    {
      "cell_type": "code",
      "metadata": {
        "colab": {
          "base_uri": "https://localhost:8080/",
          "height": 384
        },
        "id": "vQFo1QjmA-oD",
        "outputId": "0c9b5de7-7711-425b-de78-6d9c7946bac5"
      },
      "source": [
        "print(\"\\nBest estimator loss and validation:\\n\")\r\n",
        "\r\n",
        "plt.figure(figsize=(15,5))\r\n",
        "\r\n",
        "axis1 = plt.subplot(1,2,1)\r\n",
        "plt.plot(bestNN_11.best_estimator_.loss_curve_)\r\n",
        "plt.xlabel(\"Epochs\")\r\n",
        "plt.grid(True)\r\n",
        "plt.xticks(rotation=0)\r\n",
        "plt.ylabel(\"Loss\")\r\n",
        "\r\n",
        "axis2 = plt.subplot(1,2,2)\r\n",
        "plt.plot(bestNN_11.best_estimator_.validation_scores_)\r\n",
        "plt.xlabel(\"Epochs\")\r\n",
        "plt.grid(True)\r\n",
        "plt.xticks(rotation=0)\r\n",
        "plt.ylabel(\"Validation\")\r\n",
        "\r\n",
        "plt.show()"
      ],
      "execution_count": 18,
      "outputs": [
        {
          "output_type": "stream",
          "text": [
            "\n",
            "Best estimator loss and validation:\n",
            "\n"
          ],
          "name": "stdout"
        },
        {
          "output_type": "display_data",
          "data": {
            "image/png": "[encoded data removed]",
            "text/plain": [
              "<Figure size 1080x360 with 2 Axes>"
            ]
          },
          "metadata": {
            "tags": [],
            "needs_background": "light"
          }
        }
      ]
    },
    {
      "cell_type": "markdown",
      "metadata": {
        "id": "2BX5_ZqKpIp-"
      },
      "source": [
        "### Treinamento e teste com dataset F7"
      ]
    },
    {
      "cell_type": "code",
      "metadata": {
        "colab": {
          "base_uri": "https://localhost:8080/",
          "height": 386
        },
        "id": "4HMj1NViqq8v",
        "outputId": "81dc0ecd-ea43-4332-ae11-b1657ce495c7"
      },
      "source": [
        "bestNN_7 = modelNN.fit(F7_train,Y_train)\r\n",
        "\r\n",
        "# Exibe resultados do processo de validação cruzada com 5 folds\r\n",
        "\r\n",
        "cv_results = pd.DataFrame(data=bestNN_7.cv_results_).drop('params',axis=1)\r\n",
        "cv_results = cv_results[['rank_test_score','param_hidden_layer_sizes','mean_test_score','std_test_score',\r\n",
        "                                       'split0_test_score', 'split1_test_score','split2_test_score','split3_test_score','split4_test_score']]\r\n",
        "\r\n",
        "MAE = metrics.mean_absolute_error(Y_test, bestNN_11.predict(F7_test))\r\n",
        "\r\n",
        "results['F7']['MLP'] = MAE\r\n",
        "\r\n",
        "print(\"\\n Mean absolute error of predictions made by model fitted with F7: \"\r\n",
        "      + str(round(MAE,4))\r\n",
        "      + \"\\n\"\r\n",
        ")\r\n",
        "\r\n",
        "cv_results.sort_values(by='rank_test_score').transpose()"
      ],
      "execution_count": 19,
      "outputs": [
        {
          "output_type": "stream",
          "text": [
            "\n",
            " Mean absolute error of predictions made by model fitted with F7: 0.8284\n",
            "\n"
          ],
          "name": "stdout"
        },
        {
          "output_type": "execute_result",
          "data": {
            "text/html": [
              "<div>\n",
              "<style scoped>\n",
              "    .dataframe tbody tr th:only-of-type {\n",
              "        vertical-align: middle;\n",
              "    }\n",
              "\n",
              "    .dataframe tbody tr th {\n",
              "        vertical-align: top;\n",
              "    }\n",
              "\n",
              "    .dataframe thead th {\n",
              "        text-align: right;\n",
              "    }\n",
              "</style>\n",
              "<table border=\"1\" class=\"dataframe\">\n",
              "  <thead>\n",
              "    <tr style=\"text-align: right;\">\n",
              "      <th></th>\n",
              "      <th>7</th>\n",
              "      <th>9</th>\n",
              "      <th>10</th>\n",
              "      <th>3</th>\n",
              "      <th>4</th>\n",
              "      <th>5</th>\n",
              "      <th>6</th>\n",
              "      <th>0</th>\n",
              "      <th>2</th>\n",
              "      <th>1</th>\n",
              "      <th>8</th>\n",
              "    </tr>\n",
              "  </thead>\n",
              "  <tbody>\n",
              "    <tr>\n",
              "      <th>rank_test_score</th>\n",
              "      <td>1</td>\n",
              "      <td>2</td>\n",
              "      <td>3</td>\n",
              "      <td>4</td>\n",
              "      <td>5</td>\n",
              "      <td>6</td>\n",
              "      <td>7</td>\n",
              "      <td>8</td>\n",
              "      <td>9</td>\n",
              "      <td>10</td>\n",
              "      <td>11</td>\n",
              "    </tr>\n",
              "    <tr>\n",
              "      <th>param_hidden_layer_sizes</th>\n",
              "      <td>8</td>\n",
              "      <td>10</td>\n",
              "      <td>11</td>\n",
              "      <td>4</td>\n",
              "      <td>5</td>\n",
              "      <td>6</td>\n",
              "      <td>7</td>\n",
              "      <td>1</td>\n",
              "      <td>3</td>\n",
              "      <td>2</td>\n",
              "      <td>9</td>\n",
              "    </tr>\n",
              "    <tr>\n",
              "      <th>mean_test_score</th>\n",
              "      <td>-0.842689</td>\n",
              "      <td>-0.843882</td>\n",
              "      <td>-0.844649</td>\n",
              "      <td>-0.844739</td>\n",
              "      <td>-0.845932</td>\n",
              "      <td>-0.84634</td>\n",
              "      <td>-0.846722</td>\n",
              "      <td>-0.846984</td>\n",
              "      <td>-0.847671</td>\n",
              "      <td>-0.849035</td>\n",
              "      <td>-0.851571</td>\n",
              "    </tr>\n",
              "    <tr>\n",
              "      <th>std_test_score</th>\n",
              "      <td>0.0124226</td>\n",
              "      <td>0.0234837</td>\n",
              "      <td>0.0170458</td>\n",
              "      <td>0.0131992</td>\n",
              "      <td>0.0167598</td>\n",
              "      <td>0.0161017</td>\n",
              "      <td>0.0161298</td>\n",
              "      <td>0.0182406</td>\n",
              "      <td>0.0125633</td>\n",
              "      <td>0.0167006</td>\n",
              "      <td>0.0171931</td>\n",
              "    </tr>\n",
              "    <tr>\n",
              "      <th>split0_test_score</th>\n",
              "      <td>-0.858405</td>\n",
              "      <td>-0.872054</td>\n",
              "      <td>-0.87172</td>\n",
              "      <td>-0.859908</td>\n",
              "      <td>-0.870702</td>\n",
              "      <td>-0.87323</td>\n",
              "      <td>-0.873321</td>\n",
              "      <td>-0.875606</td>\n",
              "      <td>-0.8653</td>\n",
              "      <td>-0.875175</td>\n",
              "      <td>-0.880732</td>\n",
              "    </tr>\n",
              "    <tr>\n",
              "      <th>split1_test_score</th>\n",
              "      <td>-0.844838</td>\n",
              "      <td>-0.836647</td>\n",
              "      <td>-0.837853</td>\n",
              "      <td>-0.84959</td>\n",
              "      <td>-0.842694</td>\n",
              "      <td>-0.839509</td>\n",
              "      <td>-0.837895</td>\n",
              "      <td>-0.839001</td>\n",
              "      <td>-0.85503</td>\n",
              "      <td>-0.843058</td>\n",
              "      <td>-0.850537</td>\n",
              "    </tr>\n",
              "    <tr>\n",
              "      <th>split2_test_score</th>\n",
              "      <td>-0.848601</td>\n",
              "      <td>-0.862013</td>\n",
              "      <td>-0.848268</td>\n",
              "      <td>-0.848619</td>\n",
              "      <td>-0.84625</td>\n",
              "      <td>-0.844308</td>\n",
              "      <td>-0.849027</td>\n",
              "      <td>-0.851111</td>\n",
              "      <td>-0.840196</td>\n",
              "      <td>-0.846194</td>\n",
              "      <td>-0.849834</td>\n",
              "    </tr>\n",
              "    <tr>\n",
              "      <th>split3_test_score</th>\n",
              "      <td>-0.820742</td>\n",
              "      <td>-0.804106</td>\n",
              "      <td>-0.819005</td>\n",
              "      <td>-0.820203</td>\n",
              "      <td>-0.818551</td>\n",
              "      <td>-0.82391</td>\n",
              "      <td>-0.824263</td>\n",
              "      <td>-0.819486</td>\n",
              "      <td>-0.828546</td>\n",
              "      <td>-0.82429</td>\n",
              "      <td>-0.826642</td>\n",
              "    </tr>\n",
              "    <tr>\n",
              "      <th>split4_test_score</th>\n",
              "      <td>-0.840858</td>\n",
              "      <td>-0.844591</td>\n",
              "      <td>-0.846399</td>\n",
              "      <td>-0.845377</td>\n",
              "      <td>-0.851463</td>\n",
              "      <td>-0.850741</td>\n",
              "      <td>-0.849107</td>\n",
              "      <td>-0.849718</td>\n",
              "      <td>-0.849285</td>\n",
              "      <td>-0.856458</td>\n",
              "      <td>-0.85011</td>\n",
              "    </tr>\n",
              "  </tbody>\n",
              "</table>\n",
              "</div>"
            ],
            "text/plain": [
              "                                  7          9  ...          1          8\n",
              "rank_test_score                   1          2  ...         10         11\n",
              "param_hidden_layer_sizes          8         10  ...          2          9\n",
              "mean_test_score           -0.842689  -0.843882  ...  -0.849035  -0.851571\n",
              "std_test_score            0.0124226  0.0234837  ...  0.0167006  0.0171931\n",
              "split0_test_score         -0.858405  -0.872054  ...  -0.875175  -0.880732\n",
              "split1_test_score         -0.844838  -0.836647  ...  -0.843058  -0.850537\n",
              "split2_test_score         -0.848601  -0.862013  ...  -0.846194  -0.849834\n",
              "split3_test_score         -0.820742  -0.804106  ...   -0.82429  -0.826642\n",
              "split4_test_score         -0.840858  -0.844591  ...  -0.856458   -0.85011\n",
              "\n",
              "[9 rows x 11 columns]"
            ]
          },
          "metadata": {
            "tags": []
          },
          "execution_count": 19
        }
      ]
    },
    {
      "cell_type": "code",
      "metadata": {
        "colab": {
          "base_uri": "https://localhost:8080/",
          "height": 384
        },
        "id": "S8sIOsrsqqsq",
        "outputId": "09e6e421-505f-4df5-b40f-e7df054098ad"
      },
      "source": [
        "print(\"\\nBest estimator loss and validation:\\n\")\r\n",
        "\r\n",
        "plt.figure(figsize=(15,5))\r\n",
        "\r\n",
        "axis1 = plt.subplot(1,2,1)\r\n",
        "plt.plot(bestNN_7.best_estimator_.loss_curve_)\r\n",
        "plt.xlabel(\"Epochs\")\r\n",
        "plt.grid(True)\r\n",
        "plt.xticks(rotation=0)\r\n",
        "plt.ylabel(\"Loss\")\r\n",
        "\r\n",
        "axis2 = plt.subplot(1,2,2)\r\n",
        "plt.plot(bestNN_7.best_estimator_.validation_scores_)\r\n",
        "plt.grid(True)\r\n",
        "plt.xlabel(\"Epochs\")\r\n",
        "plt.xticks(rotation=0)\r\n",
        "plt.ylabel(\"Validation\")\r\n",
        "#plt.ylim(top=0.0)\r\n",
        "\r\n",
        "plt.show()"
      ],
      "execution_count": 20,
      "outputs": [
        {
          "output_type": "stream",
          "text": [
            "\n",
            "Best estimator loss and validation:\n",
            "\n"
          ],
          "name": "stdout"
        },
        {
          "output_type": "display_data",
          "data": {
            "image/png": "[encoded data removed]",
            "text/plain": [
              "<Figure size 1080x360 with 2 Axes>"
            ]
          },
          "metadata": {
            "tags": [],
            "needs_background": "light"
          }
        }
      ]
    },
    {
      "cell_type": "markdown",
      "metadata": {
        "id": "UBfMii-b1NL0"
      },
      "source": [
        "## Deep Neural Network\r\n",
        "\r\n",
        "Rede com duas camadas internas e, para o caso com dataset original, pesos inicializados tentanto explorar a correlação entre a variável de saída 'quality' e as variáveis de entrada 'volatile acidity' e 'alcohol'."
      ]
    },
    {
      "cell_type": "markdown",
      "metadata": {
        "id": "aP2KWNFI2zyU"
      },
      "source": [
        "### Treinamento e teste com dataset F11"
      ]
    },
    {
      "cell_type": "code",
      "metadata": {
        "colab": {
          "base_uri": "https://localhost:8080/",
          "height": 856
        },
        "id": "ZZtsMCqfwUwN",
        "outputId": "b881de31-84b9-4d5d-fa98-aaca873ecd1c"
      },
      "source": [
        "deep_regressor11 = Sequential()\r\n",
        "\r\n",
        "# Camada de entrada\r\n",
        "\r\n",
        "# Alterando pesos para alcohool e volatile acidity, os quais possuem correlação\r\n",
        "# com quality de 0.48 e -0.40, respectivamente.\r\n",
        "\r\n",
        "w1 = np.identity(11)\r\n",
        "for i in range(0,11):\r\n",
        "  for j in range(0,11):\r\n",
        "    w1[i][j] = 1\r\n",
        "    w1[i][j] = 1\r\n",
        "\r\n",
        "for i in range(0,11):\r\n",
        "  w1[1][i] = -1\r\n",
        "  w1[10][i] = 2\r\n",
        "\r\n",
        "kinit = tf.constant_initializer(w1)\r\n",
        "\r\n",
        "input_layer = Dense(units=11,activation='relu', kernel_initializer=kinit)\r\n",
        "input_layer = Dense(units=11,activation='relu')\r\n",
        "deep_regressor11.add(input_layer)\r\n",
        "\r\n",
        "# Duas camadas internas com dropout\r\n",
        "deep_regressor11.add(Dense(units=8, activation= 'softmax'))\r\n",
        "deep_regressor11.add(Dropout(rate=0.25))\r\n",
        "deep_regressor11.add(Dense(4, activation='softmax'))\r\n",
        "#Camada de saída\r\n",
        "deep_regressor11.add(Dense(1, activation='sigmoid'))\r\n",
        "\r\n",
        "# Compilação, treinamento e estimativa\r\n",
        "deep_regressor11.compile(optimizer='adam', loss='mse', metrics='mae')\r\n",
        "history = deep_regressor11.fit(F11_train, Y_train, epochs= 5000, batch_size= 100, verbose=0)\r\n",
        "deep_regressor11.summary()\r\n",
        "\r\n",
        "# Métrica\r\n",
        "Y_pred = deep_regressor11.predict(F11_test)\r\n",
        "\r\n",
        "MAE = metrics.mean_absolute_error(Y_test,Y_pred)\r\n",
        "\r\n",
        "results['F11']['Deep NN'] = MAE\r\n",
        "\r\n",
        "print(\"\\n\\nMAE: \" + str(round(MAE,4)))\r\n",
        "\r\n",
        "# Plot\r\n",
        "print(\"\\nDeep Neural Network loss and metrics:\\n\")\r\n",
        "\r\n",
        "plt.figure(figsize=(15,5))\r\n",
        "\r\n",
        "axis1 = plt.subplot(1,2,1)\r\n",
        "plt.plot(history.history['loss'])\r\n",
        "plt.xlabel(\"Epochs\")\r\n",
        "plt.grid(True)\r\n",
        "plt.xticks(rotation=0)\r\n",
        "plt.ylabel(\"Loss\")\r\n",
        "\r\n",
        "axis2 = plt.subplot(1,2,2)\r\n",
        "plt.plot(history.history['mae'])\r\n",
        "plt.xlabel(\"Epochs\")\r\n",
        "plt.grid(True)\r\n",
        "plt.xticks(rotation=0)\r\n",
        "plt.ylabel(\"MAE\")\r\n",
        "\r\n",
        "plt.show()"
      ],
      "execution_count": 21,
      "outputs": [
        {
          "output_type": "stream",
          "text": [
            "WARNING:tensorflow:Layer dense_1 is casting an input tensor from dtype float64 to the layer's dtype of float32, which is new behavior in TensorFlow 2.  The layer has dtype float32 because its dtype defaults to floatx.\n",
            "\n",
            "If you intended to run this layer in float32, you can safely ignore this warning. If in doubt, this warning is likely only an issue if you are porting a TensorFlow 1.X model to TensorFlow 2.\n",
            "\n",
            "To change all layers to have dtype float64 by default, call `tf.keras.backend.set_floatx('float64')`. To change just this layer, pass dtype='float64' to the layer constructor. If you are the author of this layer, you can disable autocasting by passing autocast=False to the base Layer constructor.\n",
            "\n",
            "Model: \"sequential\"\n",
            "_________________________________________________________________\n",
            "Layer (type)                 Output Shape              Param #   \n",
            "=================================================================\n",
            "dense_1 (Dense)              (None, 11)                132       \n",
            "_________________________________________________________________\n",
            "dense_2 (Dense)              (None, 8)                 96        \n",
            "_________________________________________________________________\n",
            "dropout (Dropout)            (None, 8)                 0         \n",
            "_________________________________________________________________\n",
            "dense_3 (Dense)              (None, 4)                 36        \n",
            "_________________________________________________________________\n",
            "dense_4 (Dense)              (None, 1)                 5         \n",
            "=================================================================\n",
            "Total params: 269\n",
            "Trainable params: 269\n",
            "Non-trainable params: 0\n",
            "_________________________________________________________________\n",
            "\n",
            "\n",
            "MAE: 0.8597\n",
            "\n",
            "Deep Neural Network loss and metrics:\n",
            "\n"
          ],
          "name": "stdout"
        },
        {
          "output_type": "display_data",
          "data": {
            "image/png": "[encoded data removed]",
            "text/plain": [
              "<Figure size 1080x360 with 2 Axes>"
            ]
          },
          "metadata": {
            "tags": [],
            "needs_background": "light"
          }
        }
      ]
    },
    {
      "cell_type": "markdown",
      "metadata": {
        "id": "KpdSXGXt25xn"
      },
      "source": [
        "### Treinamento e teste com dataset F7"
      ]
    },
    {
      "cell_type": "code",
      "metadata": {
        "colab": {
          "base_uri": "https://localhost:8080/",
          "height": 856
        },
        "id": "FMbVlQDa27Oy",
        "outputId": "608a1d03-2c87-4199-dbe7-a38a9bb5cc9c"
      },
      "source": [
        "deep_regressor7 = Sequential()\r\n",
        "\r\n",
        "# Camada de entrada\r\n",
        "deep_regressor7.add(Dense(units=7,activation='relu'))\r\n",
        "# Duas camadas internas com dropout\r\n",
        "deep_regressor7.add(Dense(units=8, activation='softmax'))\r\n",
        "deep_regressor7.add(Dropout(rate=0.25))\r\n",
        "deep_regressor7.add(Dense(4, activation='softmax'))\r\n",
        "#Camada de saída\r\n",
        "deep_regressor7.add(Dense(1, activation='sigmoid'))\r\n",
        "\r\n",
        "# Compilação, treinamento e estimativa\r\n",
        "deep_regressor7.compile(optimizer='adam', loss='mse', metrics='mae')\r\n",
        "history = deep_regressor7.fit(F7_train, Y_train, epochs=5000, batch_size=100, verbose=0)\r\n",
        "deep_regressor7.summary()\r\n",
        "\r\n",
        "# Métrica\r\n",
        "Y_pred = deep_regressor7.predict(F7_test)\r\n",
        "\r\n",
        "MAE = metrics.mean_absolute_error(Y_test,Y_pred)\r\n",
        "\r\n",
        "results['F7']['Deep NN'] = MAE\r\n",
        "\r\n",
        "print(\"\\n\\nMAE: \" + str(round(MAE,4)))\r\n",
        "\r\n",
        "# Plot\r\n",
        "print(\"\\nDeep Neural Network loss and metrics:\\n\")\r\n",
        "\r\n",
        "plt.figure(figsize=(15,5))\r\n",
        "\r\n",
        "axis1 = plt.subplot(1,2,1)\r\n",
        "plt.plot(history.history['loss'])\r\n",
        "plt.xlabel(\"Epochs\")\r\n",
        "plt.grid(True)\r\n",
        "plt.xticks(rotation=0)\r\n",
        "plt.ylabel(\"Loss\")\r\n",
        "\r\n",
        "axis2 = plt.subplot(1,2,2)\r\n",
        "plt.plot(history.history['mae'])\r\n",
        "plt.xlabel(\"Epochs\")\r\n",
        "plt.grid(True)\r\n",
        "plt.xticks(rotation=0)\r\n",
        "plt.ylabel(\"MAE\")\r\n",
        "\r\n",
        "plt.show()"
      ],
      "execution_count": 22,
      "outputs": [
        {
          "output_type": "stream",
          "text": [
            "WARNING:tensorflow:Layer dense_5 is casting an input tensor from dtype float64 to the layer's dtype of float32, which is new behavior in TensorFlow 2.  The layer has dtype float32 because its dtype defaults to floatx.\n",
            "\n",
            "If you intended to run this layer in float32, you can safely ignore this warning. If in doubt, this warning is likely only an issue if you are porting a TensorFlow 1.X model to TensorFlow 2.\n",
            "\n",
            "To change all layers to have dtype float64 by default, call `tf.keras.backend.set_floatx('float64')`. To change just this layer, pass dtype='float64' to the layer constructor. If you are the author of this layer, you can disable autocasting by passing autocast=False to the base Layer constructor.\n",
            "\n",
            "Model: \"sequential_1\"\n",
            "_________________________________________________________________\n",
            "Layer (type)                 Output Shape              Param #   \n",
            "=================================================================\n",
            "dense_5 (Dense)              (None, 7)                 56        \n",
            "_________________________________________________________________\n",
            "dense_6 (Dense)              (None, 8)                 64        \n",
            "_________________________________________________________________\n",
            "dropout_1 (Dropout)          (None, 8)                 0         \n",
            "_________________________________________________________________\n",
            "dense_7 (Dense)              (None, 4)                 36        \n",
            "_________________________________________________________________\n",
            "dense_8 (Dense)              (None, 1)                 5         \n",
            "=================================================================\n",
            "Total params: 161\n",
            "Trainable params: 161\n",
            "Non-trainable params: 0\n",
            "_________________________________________________________________\n",
            "\n",
            "\n",
            "MAE: 0.8408\n",
            "\n",
            "Deep Neural Network loss and metrics:\n",
            "\n"
          ],
          "name": "stdout"
        },
        {
          "output_type": "display_data",
          "data": {
            "image/png": "[encoded data removed]",
            "text/plain": [
              "<Figure size 1080x360 with 2 Axes>"
            ]
          },
          "metadata": {
            "tags": [],
            "needs_background": "light"
          }
        }
      ]
    },
    {
      "cell_type": "markdown",
      "metadata": {
        "id": "qyeeH90FjHsg"
      },
      "source": [
        "## Support Vector Machines, SVM\r\n",
        "\r\n",
        "O objetivo de uma SVM é encontrar o melhor hiperplano que separa dois grupos de dados com uma pequena tolerância ε no processo de treinamento. A função custo (loss) ε-insensitive define um região retangular em torno de resíduos e os pequenos erros dentro dessa região são descartados.\r\n",
        "\r\n",
        "$Loss(y,\\hat{y}) = \\{ \\begin {align*} 0, \\ \\ \\ \\ &y-\\hat{y} \\leq \\varepsilon,\r\n",
        "\\\\ ky, \\ \\     &y-\\hat{y} > \\varepsilon, \\ k \\in \\Re \\end {align*}$\r\n",
        "                                  \r\n",
        "Foi adotado também o kernel gaussiano, o qual necessita apenas a definição do parâmetro $\\gamma$.\r\n",
        "\r\n",
        "$K(x,x') = e^{-\\gamma ||x-x'||^{2}}, \\gamma > 0$\r\n",
        "\r\n",
        "Neste caso, a performance do modelo é influenciada por três parâmetros:\r\n",
        "\r\n",
        "1. $\\gamma$, relacionado ao kernel gaussiano;\r\n",
        "2. $\\varepsilon$, relacionado à função de custo; e\r\n",
        "3. C, comum a todas as SVM, conhecido como parâmetro de regularização.\r\n",
        "\r\n",
        "Dos três parâmetros, $\\gamma$ exerce o maior impacto no desempenho de SVM, e o elegem como único hiperparâmetro para o modelo, definindo C = 3 por heurística, e $\\varepsilon = \\hat{\\sigma}/\\sqrt{N}$, onde\r\n",
        "\r\n",
        "$\\hat{\\sigma} = \\dfrac{1.5}{N} \\Sigma_{i=1}^{N}(y_i-\\hat{y_i})^2$\r\n",
        "\r\n",
        "Com $\\hat{y_i}$ estimado por algoritimo KNN, $K=3$."
      ]
    },
    {
      "cell_type": "markdown",
      "metadata": {
        "id": "wvrL8d9V_JEq"
      },
      "source": [
        "### Definição do modelo e ajustes de sintonia\r\n",
        "\r\n",
        "Como dito acima, será considerado como hiperparâmetro a ser sintonizado o parâmetro $\\gamma$, relacionao ao kernel da SVM. os parâmetros relacionados à função loss ε-insensitive e regularização serão mantidos constantes.\r\n",
        "\r\n",
        "O range para sintonia é de $2^{3}, 2^{1},..., 2^{-13}, 2^{-15}$ , e a avaliação de cada modelo é realizada por validação cruzada com 5 folds adotando como métrica de scoring o erro médio absoluto, MAE. O modelo escolhido com menor MAE é então retreinado com todo o dataset de treino."
      ]
    },
    {
      "cell_type": "code",
      "metadata": {
        "id": "aqyVZKj__hoE"
      },
      "source": [
        "# Regressor KNN com métrica de distância euclidiana (padrão)\r\n",
        "# https://scikit-learn.org/stable/modules/generated/sklearn.neighbors.KNeighborsRegressor.html#\r\n",
        "\r\n",
        "K = 3\r\n",
        "KNN_regressor = KNeighborsRegressor(n_neighbors=K,weights='uniform')\r\n",
        "KNN_regressor.fit(F11_train,Y_train)\r\n",
        "Y_pred = KNN_regressor.predict(F11_test)\r\n",
        "\r\n",
        "# Define a SVM base para sobre a qual será realizada a sintonia de gamma (hiperparâmetro)\r\n",
        "# Epsilon Support Vector Machine para regressão empregando kernel gaussiano (RBF)\r\n",
        "# C = 3 e metodologia de obtenção de sigma_hat com uso de KNN definido por Cortez et al.\r\n",
        "# https://scikit-learn.org/stable/modules/generated/sklearn.svm.SVR.html#\r\n",
        "\r\n",
        "sigma_hat = 1.5*metrics.mean_squared_error(Y_test,Y_pred)\r\n",
        "epsilon = sigma_hat/math.sqrt(len(Y_test))\r\n",
        "C = 3\r\n",
        "gamma = 0 # Hiperparâmetro\r\n",
        "SVM_regressor = SVR(kernel= 'rbf', C= 3.0, gamma= 'auto', epsilon= epsilon)\r\n",
        "\r\n",
        "# Configura o processo de tunnig de gamma no modelo de SVM\r\n",
        "# GridSearchCV\r\n",
        "# Treina e avalia com cross-validation um estimator de forma iterativa sobre um conjunto de hiperparâmetros\r\n",
        "# O range de gamm é definido por Cortez, et al. como 2^(3), 2^(1) ... 2^(-15).\r\n",
        "# https://scikit-learn.org/stable/modules/generated/sklearn.model_selection.GridSearchCV.html\r\n",
        "\r\n",
        "parameters = {'gamma': [2**3, 2**1, 2**-1,2**-3,2**-5,2**-7,2**-9,2**-11,2**-13,2**-15]}\r\n",
        "Kcv = 5     \r\n",
        "modelSVM = GridSearchCV(estimator= SVM_regressor,\r\n",
        "                        param_grid= parameters,\r\n",
        "                        cv= Kcv,\r\n",
        "                        scoring= 'neg_mean_absolute_error',\r\n",
        "                       )"
      ],
      "execution_count": 23,
      "outputs": []
    },
    {
      "cell_type": "markdown",
      "metadata": {
        "id": "rXtOp596AObg"
      },
      "source": [
        "### Treinamento e teste com dataset F11"
      ]
    },
    {
      "cell_type": "code",
      "metadata": {
        "colab": {
          "base_uri": "https://localhost:8080/",
          "height": 366
        },
        "id": "DZaK9iplAW4T",
        "outputId": "d074f27f-59eb-4275-bf45-006658424b2c"
      },
      "source": [
        "bestSVM_11 = modelSVM.fit(F11_train,Y_train)\r\n",
        "\r\n",
        "# Exibe resultados do processo de validação cruzada com 5 folds\r\n",
        "\r\n",
        "cv_results = pd.DataFrame(data=bestSVM_11.cv_results_).drop('params',axis=1)\r\n",
        "cv_results = cv_results[['rank_test_score','param_gamma','mean_test_score','std_test_score',\r\n",
        "                                       'split0_test_score', 'split1_test_score','split2_test_score','split3_test_score','split4_test_score']]\r\n",
        "\r\n",
        "MAE = metrics.mean_absolute_error(Y_test, bestSVM_11.predict(F11_test))\r\n",
        "\r\n",
        "results['F11']['SVM'] = MAE\r\n",
        "\r\n",
        "print(\"\\n Mean absolute error of predictions made by model fitted with F11: \"\r\n",
        "      + str(round(MAE,4))\r\n",
        "      + \"\\n\"\r\n",
        ")\r\n",
        "\r\n",
        "cv_results.sort_values(by='rank_test_score').transpose()"
      ],
      "execution_count": 24,
      "outputs": [
        {
          "output_type": "stream",
          "text": [
            "\n",
            " Mean absolute error of predictions made by model fitted with F11: 0.8279\n",
            "\n"
          ],
          "name": "stdout"
        },
        {
          "output_type": "execute_result",
          "data": {
            "text/html": [
              "<div>\n",
              "<style scoped>\n",
              "    .dataframe tbody tr th:only-of-type {\n",
              "        vertical-align: middle;\n",
              "    }\n",
              "\n",
              "    .dataframe tbody tr th {\n",
              "        vertical-align: top;\n",
              "    }\n",
              "\n",
              "    .dataframe thead th {\n",
              "        text-align: right;\n",
              "    }\n",
              "</style>\n",
              "<table border=\"1\" class=\"dataframe\">\n",
              "  <thead>\n",
              "    <tr style=\"text-align: right;\">\n",
              "      <th></th>\n",
              "      <th>9</th>\n",
              "      <th>8</th>\n",
              "      <th>7</th>\n",
              "      <th>6</th>\n",
              "      <th>5</th>\n",
              "      <th>0</th>\n",
              "      <th>4</th>\n",
              "      <th>1</th>\n",
              "      <th>3</th>\n",
              "      <th>2</th>\n",
              "    </tr>\n",
              "  </thead>\n",
              "  <tbody>\n",
              "    <tr>\n",
              "      <th>rank_test_score</th>\n",
              "      <td>1</td>\n",
              "      <td>2</td>\n",
              "      <td>3</td>\n",
              "      <td>4</td>\n",
              "      <td>5</td>\n",
              "      <td>6</td>\n",
              "      <td>7</td>\n",
              "      <td>8</td>\n",
              "      <td>9</td>\n",
              "      <td>10</td>\n",
              "    </tr>\n",
              "    <tr>\n",
              "      <th>param_gamma</th>\n",
              "      <td>3.05176e-05</td>\n",
              "      <td>0.00012207</td>\n",
              "      <td>0.000488281</td>\n",
              "      <td>0.00195312</td>\n",
              "      <td>0.0078125</td>\n",
              "      <td>8</td>\n",
              "      <td>0.03125</td>\n",
              "      <td>2</td>\n",
              "      <td>0.125</td>\n",
              "      <td>0.5</td>\n",
              "    </tr>\n",
              "    <tr>\n",
              "      <th>mean_test_score</th>\n",
              "      <td>-0.823174</td>\n",
              "      <td>-0.823221</td>\n",
              "      <td>-0.823536</td>\n",
              "      <td>-0.825852</td>\n",
              "      <td>-0.839744</td>\n",
              "      <td>-0.852103</td>\n",
              "      <td>-0.858754</td>\n",
              "      <td>-0.870728</td>\n",
              "      <td>-0.892988</td>\n",
              "      <td>-0.904343</td>\n",
              "    </tr>\n",
              "    <tr>\n",
              "      <th>std_test_score</th>\n",
              "      <td>0.0293081</td>\n",
              "      <td>0.0292776</td>\n",
              "      <td>0.0290673</td>\n",
              "      <td>0.0279741</td>\n",
              "      <td>0.0256871</td>\n",
              "      <td>0.012621</td>\n",
              "      <td>0.0232565</td>\n",
              "      <td>0.0200736</td>\n",
              "      <td>0.0113787</td>\n",
              "      <td>0.0260399</td>\n",
              "    </tr>\n",
              "    <tr>\n",
              "      <th>split0_test_score</th>\n",
              "      <td>-0.846005</td>\n",
              "      <td>-0.846025</td>\n",
              "      <td>-0.846174</td>\n",
              "      <td>-0.84797</td>\n",
              "      <td>-0.864954</td>\n",
              "      <td>-0.86947</td>\n",
              "      <td>-0.883502</td>\n",
              "      <td>-0.898791</td>\n",
              "      <td>-0.903285</td>\n",
              "      <td>-0.912359</td>\n",
              "    </tr>\n",
              "    <tr>\n",
              "      <th>split1_test_score</th>\n",
              "      <td>-0.800424</td>\n",
              "      <td>-0.800576</td>\n",
              "      <td>-0.801381</td>\n",
              "      <td>-0.805745</td>\n",
              "      <td>-0.82626</td>\n",
              "      <td>-0.849357</td>\n",
              "      <td>-0.854444</td>\n",
              "      <td>-0.862878</td>\n",
              "      <td>-0.873074</td>\n",
              "      <td>-0.912027</td>\n",
              "    </tr>\n",
              "    <tr>\n",
              "      <th>split2_test_score</th>\n",
              "      <td>-0.865815</td>\n",
              "      <td>-0.865824</td>\n",
              "      <td>-0.86584</td>\n",
              "      <td>-0.866216</td>\n",
              "      <td>-0.869505</td>\n",
              "      <td>-0.847247</td>\n",
              "      <td>-0.883046</td>\n",
              "      <td>-0.874552</td>\n",
              "      <td>-0.904824</td>\n",
              "      <td>-0.919174</td>\n",
              "    </tr>\n",
              "    <tr>\n",
              "      <th>split3_test_score</th>\n",
              "      <td>-0.785609</td>\n",
              "      <td>-0.785656</td>\n",
              "      <td>-0.786077</td>\n",
              "      <td>-0.788977</td>\n",
              "      <td>-0.799824</td>\n",
              "      <td>-0.832798</td>\n",
              "      <td>-0.820852</td>\n",
              "      <td>-0.837948</td>\n",
              "      <td>-0.89083</td>\n",
              "      <td>-0.853154</td>\n",
              "    </tr>\n",
              "    <tr>\n",
              "      <th>split4_test_score</th>\n",
              "      <td>-0.81802</td>\n",
              "      <td>-0.818025</td>\n",
              "      <td>-0.818205</td>\n",
              "      <td>-0.820352</td>\n",
              "      <td>-0.838177</td>\n",
              "      <td>-0.861645</td>\n",
              "      <td>-0.851926</td>\n",
              "      <td>-0.879472</td>\n",
              "      <td>-0.892926</td>\n",
              "      <td>-0.925001</td>\n",
              "    </tr>\n",
              "  </tbody>\n",
              "</table>\n",
              "</div>"
            ],
            "text/plain": [
              "                             9           8  ...          3          2\n",
              "rank_test_score              1           2  ...          9         10\n",
              "param_gamma        3.05176e-05  0.00012207  ...      0.125        0.5\n",
              "mean_test_score      -0.823174   -0.823221  ...  -0.892988  -0.904343\n",
              "std_test_score       0.0293081   0.0292776  ...  0.0113787  0.0260399\n",
              "split0_test_score    -0.846005   -0.846025  ...  -0.903285  -0.912359\n",
              "split1_test_score    -0.800424   -0.800576  ...  -0.873074  -0.912027\n",
              "split2_test_score    -0.865815   -0.865824  ...  -0.904824  -0.919174\n",
              "split3_test_score    -0.785609   -0.785656  ...   -0.89083  -0.853154\n",
              "split4_test_score     -0.81802   -0.818025  ...  -0.892926  -0.925001\n",
              "\n",
              "[9 rows x 10 columns]"
            ]
          },
          "metadata": {
            "tags": []
          },
          "execution_count": 24
        }
      ]
    },
    {
      "cell_type": "markdown",
      "metadata": {
        "id": "WgNnGmSGCjBq"
      },
      "source": [
        "### Treinamento e teste com dataset F7"
      ]
    },
    {
      "cell_type": "code",
      "metadata": {
        "colab": {
          "base_uri": "https://localhost:8080/",
          "height": 402
        },
        "id": "73THYUYVCmpn",
        "outputId": "0d673569-83b3-4743-864b-2c5d84dcf0f3"
      },
      "source": [
        "bestSVM_7 = modelSVM.fit(F7_train,Y_train)\r\n",
        "\r\n",
        "# Exibe resultados do processo de validação cruzada com 5 folds\r\n",
        "\r\n",
        "cv_results = pd.DataFrame(data=bestSVM_7.cv_results_).drop('params',axis=1)\r\n",
        "cv_results = cv_results[['rank_test_score','param_gamma','mean_test_score','std_test_score',\r\n",
        "                                       'split0_test_score', 'split1_test_score','split2_test_score','split3_test_score','split4_test_score']]\r\n",
        "\r\n",
        "MAE = metrics.mean_absolute_error(Y_test, bestSVM_7.predict(F7_test))\r\n",
        "\r\n",
        "results['F7']['SVM'] = MAE\r\n",
        "\r\n",
        "print(\"\\n Mean absolute error of predictions made by model fitted with F7: \"\r\n",
        "      + str(round(MAE,4))\r\n",
        "      + \"\\n\"\r\n",
        ")\r\n",
        "\r\n",
        "cv_results.sort_values(by='rank_test_score').transpose()"
      ],
      "execution_count": 25,
      "outputs": [
        {
          "output_type": "stream",
          "text": [
            "\n",
            " Mean absolute error of predictions made by model fitted with F7: 0.828\n",
            "\n"
          ],
          "name": "stdout"
        },
        {
          "output_type": "execute_result",
          "data": {
            "text/html": [
              "<div>\n",
              "<style scoped>\n",
              "    .dataframe tbody tr th:only-of-type {\n",
              "        vertical-align: middle;\n",
              "    }\n",
              "\n",
              "    .dataframe tbody tr th {\n",
              "        vertical-align: top;\n",
              "    }\n",
              "\n",
              "    .dataframe thead th {\n",
              "        text-align: right;\n",
              "    }\n",
              "</style>\n",
              "<table border=\"1\" class=\"dataframe\">\n",
              "  <thead>\n",
              "    <tr style=\"text-align: right;\">\n",
              "      <th></th>\n",
              "      <th>9</th>\n",
              "      <th>8</th>\n",
              "      <th>7</th>\n",
              "      <th>6</th>\n",
              "      <th>5</th>\n",
              "      <th>0</th>\n",
              "      <th>4</th>\n",
              "      <th>1</th>\n",
              "      <th>3</th>\n",
              "      <th>2</th>\n",
              "    </tr>\n",
              "  </thead>\n",
              "  <tbody>\n",
              "    <tr>\n",
              "      <th>rank_test_score</th>\n",
              "      <td>1</td>\n",
              "      <td>2</td>\n",
              "      <td>3</td>\n",
              "      <td>4</td>\n",
              "      <td>5</td>\n",
              "      <td>6</td>\n",
              "      <td>7</td>\n",
              "      <td>8</td>\n",
              "      <td>9</td>\n",
              "      <td>10</td>\n",
              "    </tr>\n",
              "    <tr>\n",
              "      <th>param_gamma</th>\n",
              "      <td>3.05176e-05</td>\n",
              "      <td>0.00012207</td>\n",
              "      <td>0.000488281</td>\n",
              "      <td>0.00195312</td>\n",
              "      <td>0.0078125</td>\n",
              "      <td>8</td>\n",
              "      <td>0.03125</td>\n",
              "      <td>2</td>\n",
              "      <td>0.125</td>\n",
              "      <td>0.5</td>\n",
              "    </tr>\n",
              "    <tr>\n",
              "      <th>mean_test_score</th>\n",
              "      <td>-0.823163</td>\n",
              "      <td>-0.823185</td>\n",
              "      <td>-0.823445</td>\n",
              "      <td>-0.826424</td>\n",
              "      <td>-0.8393</td>\n",
              "      <td>-0.844307</td>\n",
              "      <td>-0.845173</td>\n",
              "      <td>-0.859627</td>\n",
              "      <td>-0.865295</td>\n",
              "      <td>-0.923193</td>\n",
              "    </tr>\n",
              "    <tr>\n",
              "      <th>std_test_score</th>\n",
              "      <td>0.0293056</td>\n",
              "      <td>0.0293066</td>\n",
              "      <td>0.029165</td>\n",
              "      <td>0.0275995</td>\n",
              "      <td>0.0224567</td>\n",
              "      <td>0.0136196</td>\n",
              "      <td>0.0234663</td>\n",
              "      <td>0.00563982</td>\n",
              "      <td>0.00872417</td>\n",
              "      <td>0.0154702</td>\n",
              "    </tr>\n",
              "    <tr>\n",
              "      <th>split0_test_score</th>\n",
              "      <td>-0.845975</td>\n",
              "      <td>-0.846002</td>\n",
              "      <td>-0.846247</td>\n",
              "      <td>-0.84963</td>\n",
              "      <td>-0.863036</td>\n",
              "      <td>-0.870627</td>\n",
              "      <td>-0.881733</td>\n",
              "      <td>-0.869082</td>\n",
              "      <td>-0.877716</td>\n",
              "      <td>-0.915793</td>\n",
              "    </tr>\n",
              "    <tr>\n",
              "      <th>split1_test_score</th>\n",
              "      <td>-0.800422</td>\n",
              "      <td>-0.800515</td>\n",
              "      <td>-0.801094</td>\n",
              "      <td>-0.806428</td>\n",
              "      <td>-0.825801</td>\n",
              "      <td>-0.837657</td>\n",
              "      <td>-0.821572</td>\n",
              "      <td>-0.853543</td>\n",
              "      <td>-0.865665</td>\n",
              "      <td>-0.935408</td>\n",
              "    </tr>\n",
              "    <tr>\n",
              "      <th>split2_test_score</th>\n",
              "      <td>-0.865811</td>\n",
              "      <td>-0.865828</td>\n",
              "      <td>-0.865831</td>\n",
              "      <td>-0.865556</td>\n",
              "      <td>-0.864501</td>\n",
              "      <td>-0.83736</td>\n",
              "      <td>-0.85802</td>\n",
              "      <td>-0.861726</td>\n",
              "      <td>-0.861072</td>\n",
              "      <td>-0.898954</td>\n",
              "    </tr>\n",
              "    <tr>\n",
              "      <th>split3_test_score</th>\n",
              "      <td>-0.785598</td>\n",
              "      <td>-0.785574</td>\n",
              "      <td>-0.785912</td>\n",
              "      <td>-0.790377</td>\n",
              "      <td>-0.805568</td>\n",
              "      <td>-0.832408</td>\n",
              "      <td>-0.818823</td>\n",
              "      <td>-0.854317</td>\n",
              "      <td>-0.851748</td>\n",
              "      <td>-0.922503</td>\n",
              "    </tr>\n",
              "    <tr>\n",
              "      <th>split4_test_score</th>\n",
              "      <td>-0.818009</td>\n",
              "      <td>-0.818007</td>\n",
              "      <td>-0.818139</td>\n",
              "      <td>-0.820129</td>\n",
              "      <td>-0.837596</td>\n",
              "      <td>-0.843485</td>\n",
              "      <td>-0.84572</td>\n",
              "      <td>-0.859467</td>\n",
              "      <td>-0.870274</td>\n",
              "      <td>-0.94331</td>\n",
              "    </tr>\n",
              "  </tbody>\n",
              "</table>\n",
              "</div>"
            ],
            "text/plain": [
              "                             9           8  ...           3          2\n",
              "rank_test_score              1           2  ...           9         10\n",
              "param_gamma        3.05176e-05  0.00012207  ...       0.125        0.5\n",
              "mean_test_score      -0.823163   -0.823185  ...   -0.865295  -0.923193\n",
              "std_test_score       0.0293056   0.0293066  ...  0.00872417  0.0154702\n",
              "split0_test_score    -0.845975   -0.846002  ...   -0.877716  -0.915793\n",
              "split1_test_score    -0.800422   -0.800515  ...   -0.865665  -0.935408\n",
              "split2_test_score    -0.865811   -0.865828  ...   -0.861072  -0.898954\n",
              "split3_test_score    -0.785598   -0.785574  ...   -0.851748  -0.922503\n",
              "split4_test_score    -0.818009   -0.818007  ...   -0.870274   -0.94331\n",
              "\n",
              "[9 rows x 10 columns]"
            ]
          },
          "metadata": {
            "tags": []
          },
          "execution_count": 25
        }
      ]
    },
    {
      "cell_type": "markdown",
      "metadata": {
        "id": "qTG7mRoxq_E1"
      },
      "source": [
        "## Decision Tree, DT\r\n",
        "\r\n",
        "Decision Trees (DTs) são métodos de aprendizado supervisionado usados para classificação e regressão. O objetivo é criar um modelo que estime o valor de um variável alvo ao aprender simples regras de decisão inferidas a partir das variáveis"
      ]
    },
    {
      "cell_type": "markdown",
      "metadata": {
        "id": "OCmdE-kBkGWn"
      },
      "source": [
        "### Definição do modelo e ajustes de sintonia\r\n",
        "\r\n",
        "O hiperparâmetro para sintonia da Decision Tree é max_depth, que determina a profundida máxima onde uma folha não é mais dividida em um node."
      ]
    },
    {
      "cell_type": "code",
      "metadata": {
        "id": "mvFTNq-BEluD"
      },
      "source": [
        "# Define o modelo de Decision Tree sobre o qual será realizada a sintonia de max_depth (hiperparâmetro)\r\n",
        "\r\n",
        "# DecisionTreeRegressor:\r\n",
        "#   A decision tree regressor.\r\n",
        "#   \r\n",
        "# Foi definida como função para avaliar a qualidade da folha o MAE. Todos os parâmetros foram deixados\r\n",
        "# por padrão, exceto a profundidade (ou altura) da árvore.\r\n",
        "\r\n",
        "# https://scikit-learn.org/stable/modules/generated/sklearn.tree.DecisionTreeRegressor.html\r\n",
        "\r\n",
        "Tree_regressor = tree.DecisionTreeRegressor(criterion='mae')\r\n",
        "\r\n",
        "# Configura o processo de tunnig de max_depth no modelo Decision Tree\r\n",
        "# GridSearchCV\r\n",
        "# Executa cross-validation em um estimator de forma iterativa sobre um conjunto de hiperparâmetros\r\n",
        "# O range fo definido empiricamente após testes\r\n",
        "# https://scikit-learn.org/stable/modules/generated/sklearn.model_selection.GridSearchCV.html\r\n",
        "\r\n",
        "parameters = {'max_depth': [5,10,15,20,25,30,35,40,45]}\r\n",
        "Kcv = 5\r\n",
        "modelTree = GridSearchCV(estimator= Tree_regressor,\r\n",
        "                       param_grid= parameters,\r\n",
        "                       cv= Kcv,\r\n",
        "                       scoring= 'neg_mean_absolute_error',\r\n",
        "                      )"
      ],
      "execution_count": 26,
      "outputs": []
    },
    {
      "cell_type": "markdown",
      "metadata": {
        "id": "HmFyl_phr1tA"
      },
      "source": [
        "### Treinamento e teste com dataset F11"
      ]
    },
    {
      "cell_type": "code",
      "metadata": {
        "colab": {
          "base_uri": "https://localhost:8080/",
          "height": 366
        },
        "id": "gASwqk-BrBFN",
        "outputId": "0464c507-cdbb-49aa-d051-ded5ab1d05d2"
      },
      "source": [
        "bestTree_11 = modelTree.fit(F11_train,Y_train)\r\n",
        "\r\n",
        "# Exibe resultados do processo de validação cruzada com 5 folds\r\n",
        "\r\n",
        "cv_results = pd.DataFrame(data=bestTree_11.cv_results_).drop('params',axis=1)\r\n",
        "cv_results = cv_results[['rank_test_score','param_max_depth','mean_test_score','std_test_score',\r\n",
        "                                       'split0_test_score', 'split1_test_score','split2_test_score','split3_test_score','split4_test_score']]\r\n",
        "\r\n",
        "MAE = metrics.mean_absolute_error(Y_test, bestTree_11.predict(F11_test))\r\n",
        "\r\n",
        "results['F11']['DT'] = MAE\r\n",
        "\r\n",
        "print(\"\\n Mean absolute error of predictions made by model fitted with F11: \"\r\n",
        "      + str(round(MAE,4))\r\n",
        "      + \"\\n\"\r\n",
        ")\r\n",
        "\r\n",
        "cv_results.sort_values(by='rank_test_score').transpose()"
      ],
      "execution_count": 27,
      "outputs": [
        {
          "output_type": "stream",
          "text": [
            "\n",
            " Mean absolute error of predictions made by model fitted with F11: 0.8083\n",
            "\n"
          ],
          "name": "stdout"
        },
        {
          "output_type": "execute_result",
          "data": {
            "text/html": [
              "<div>\n",
              "<style scoped>\n",
              "    .dataframe tbody tr th:only-of-type {\n",
              "        vertical-align: middle;\n",
              "    }\n",
              "\n",
              "    .dataframe tbody tr th {\n",
              "        vertical-align: top;\n",
              "    }\n",
              "\n",
              "    .dataframe thead th {\n",
              "        text-align: right;\n",
              "    }\n",
              "</style>\n",
              "<table border=\"1\" class=\"dataframe\">\n",
              "  <thead>\n",
              "    <tr style=\"text-align: right;\">\n",
              "      <th></th>\n",
              "      <th>0</th>\n",
              "      <th>1</th>\n",
              "      <th>3</th>\n",
              "      <th>2</th>\n",
              "      <th>7</th>\n",
              "      <th>4</th>\n",
              "      <th>6</th>\n",
              "      <th>5</th>\n",
              "      <th>8</th>\n",
              "    </tr>\n",
              "  </thead>\n",
              "  <tbody>\n",
              "    <tr>\n",
              "      <th>rank_test_score</th>\n",
              "      <td>1</td>\n",
              "      <td>2</td>\n",
              "      <td>3</td>\n",
              "      <td>4</td>\n",
              "      <td>5</td>\n",
              "      <td>6</td>\n",
              "      <td>7</td>\n",
              "      <td>8</td>\n",
              "      <td>9</td>\n",
              "    </tr>\n",
              "    <tr>\n",
              "      <th>param_max_depth</th>\n",
              "      <td>5</td>\n",
              "      <td>10</td>\n",
              "      <td>20</td>\n",
              "      <td>15</td>\n",
              "      <td>40</td>\n",
              "      <td>25</td>\n",
              "      <td>35</td>\n",
              "      <td>30</td>\n",
              "      <td>45</td>\n",
              "    </tr>\n",
              "    <tr>\n",
              "      <th>mean_test_score</th>\n",
              "      <td>-0.856497</td>\n",
              "      <td>-0.891669</td>\n",
              "      <td>-0.909566</td>\n",
              "      <td>-0.910665</td>\n",
              "      <td>-0.930202</td>\n",
              "      <td>-0.944211</td>\n",
              "      <td>-0.967189</td>\n",
              "      <td>-0.969901</td>\n",
              "      <td>-1.01356</td>\n",
              "    </tr>\n",
              "    <tr>\n",
              "      <th>std_test_score</th>\n",
              "      <td>0.0326069</td>\n",
              "      <td>0.0587737</td>\n",
              "      <td>0.0334125</td>\n",
              "      <td>0.0461011</td>\n",
              "      <td>0.0465427</td>\n",
              "      <td>0.0584963</td>\n",
              "      <td>0.0454471</td>\n",
              "      <td>0.0323822</td>\n",
              "      <td>0.0493899</td>\n",
              "    </tr>\n",
              "    <tr>\n",
              "      <th>split0_test_score</th>\n",
              "      <td>-0.874779</td>\n",
              "      <td>-0.941641</td>\n",
              "      <td>-0.919354</td>\n",
              "      <td>-0.90821</td>\n",
              "      <td>-0.927711</td>\n",
              "      <td>-0.902638</td>\n",
              "      <td>-0.885923</td>\n",
              "      <td>-0.9695</td>\n",
              "      <td>-0.936069</td>\n",
              "    </tr>\n",
              "    <tr>\n",
              "      <th>split1_test_score</th>\n",
              "      <td>-0.863635</td>\n",
              "      <td>-0.897066</td>\n",
              "      <td>-0.936069</td>\n",
              "      <td>-0.9695</td>\n",
              "      <td>-1.0085</td>\n",
              "      <td>-1.01686</td>\n",
              "      <td>-1.00293</td>\n",
              "      <td>-1.01407</td>\n",
              "      <td>-1.04751</td>\n",
              "    </tr>\n",
              "    <tr>\n",
              "      <th>split2_test_score</th>\n",
              "      <td>-0.903999</td>\n",
              "      <td>-0.912395</td>\n",
              "      <td>-0.912395</td>\n",
              "      <td>-0.929188</td>\n",
              "      <td>-0.929188</td>\n",
              "      <td>-1.01035</td>\n",
              "      <td>-0.993559</td>\n",
              "      <td>-0.99076</td>\n",
              "      <td>-1.05793</td>\n",
              "    </tr>\n",
              "    <tr>\n",
              "      <th>split3_test_score</th>\n",
              "      <td>-0.817237</td>\n",
              "      <td>-0.929188</td>\n",
              "      <td>-0.934785</td>\n",
              "      <td>-0.917993</td>\n",
              "      <td>-0.92359</td>\n",
              "      <td>-0.917993</td>\n",
              "      <td>-1.00475</td>\n",
              "      <td>-0.957175</td>\n",
              "      <td>-0.973968</td>\n",
              "    </tr>\n",
              "    <tr>\n",
              "      <th>split4_test_score</th>\n",
              "      <td>-0.822835</td>\n",
              "      <td>-0.778055</td>\n",
              "      <td>-0.845225</td>\n",
              "      <td>-0.828432</td>\n",
              "      <td>-0.862018</td>\n",
              "      <td>-0.873213</td>\n",
              "      <td>-0.948779</td>\n",
              "      <td>-0.917993</td>\n",
              "      <td>-1.05233</td>\n",
              "    </tr>\n",
              "  </tbody>\n",
              "</table>\n",
              "</div>"
            ],
            "text/plain": [
              "                           0          1  ...          5          8\n",
              "rank_test_score            1          2  ...          8          9\n",
              "param_max_depth            5         10  ...         30         45\n",
              "mean_test_score    -0.856497  -0.891669  ...  -0.969901   -1.01356\n",
              "std_test_score     0.0326069  0.0587737  ...  0.0323822  0.0493899\n",
              "split0_test_score  -0.874779  -0.941641  ...    -0.9695  -0.936069\n",
              "split1_test_score  -0.863635  -0.897066  ...   -1.01407   -1.04751\n",
              "split2_test_score  -0.903999  -0.912395  ...   -0.99076   -1.05793\n",
              "split3_test_score  -0.817237  -0.929188  ...  -0.957175  -0.973968\n",
              "split4_test_score  -0.822835  -0.778055  ...  -0.917993   -1.05233\n",
              "\n",
              "[9 rows x 9 columns]"
            ]
          },
          "metadata": {
            "tags": []
          },
          "execution_count": 27
        }
      ]
    },
    {
      "cell_type": "markdown",
      "metadata": {
        "id": "7I6Mkrr6r3_1"
      },
      "source": [
        "### Treinamento e teste com dataset F7"
      ]
    },
    {
      "cell_type": "code",
      "metadata": {
        "colab": {
          "base_uri": "https://localhost:8080/",
          "height": 366
        },
        "id": "FHdhJlzxFvqi",
        "outputId": "6343e1ff-a350-4ee6-865a-56fde8c975c3"
      },
      "source": [
        "bestTree_7 = modelTree.fit(F7_train,Y_train)\r\n",
        "\r\n",
        "# Exibe resultados do processo de validação cruzada com 5 folds\r\n",
        "\r\n",
        "cv_results = pd.DataFrame(data=bestTree_7.cv_results_).drop('params',axis=1)\r\n",
        "cv_results = cv_results[['rank_test_score','param_max_depth','mean_test_score','std_test_score',\r\n",
        "                                       'split0_test_score', 'split1_test_score','split2_test_score','split3_test_score','split4_test_score']]\r\n",
        "\r\n",
        "MAE = metrics.mean_absolute_error(Y_test, bestTree_7.predict(F7_test))\r\n",
        "\r\n",
        "results['F7']['DT'] = MAE\r\n",
        "\r\n",
        "print(\"\\n Mean absolute error of predictions made by model fitted with F7: \"\r\n",
        "      + str(round(MAE,4))\r\n",
        "      + \"\\n\"\r\n",
        ")\r\n",
        "\r\n",
        "cv_results.sort_values(by='rank_test_score').transpose()\r\n"
      ],
      "execution_count": 28,
      "outputs": [
        {
          "output_type": "stream",
          "text": [
            "\n",
            " Mean absolute error of predictions made by model fitted with F7: 0.8128\n",
            "\n"
          ],
          "name": "stdout"
        },
        {
          "output_type": "execute_result",
          "data": {
            "text/html": [
              "<div>\n",
              "<style scoped>\n",
              "    .dataframe tbody tr th:only-of-type {\n",
              "        vertical-align: middle;\n",
              "    }\n",
              "\n",
              "    .dataframe tbody tr th {\n",
              "        vertical-align: top;\n",
              "    }\n",
              "\n",
              "    .dataframe thead th {\n",
              "        text-align: right;\n",
              "    }\n",
              "</style>\n",
              "<table border=\"1\" class=\"dataframe\">\n",
              "  <thead>\n",
              "    <tr style=\"text-align: right;\">\n",
              "      <th></th>\n",
              "      <th>0</th>\n",
              "      <th>1</th>\n",
              "      <th>3</th>\n",
              "      <th>2</th>\n",
              "      <th>4</th>\n",
              "      <th>7</th>\n",
              "      <th>5</th>\n",
              "      <th>6</th>\n",
              "      <th>8</th>\n",
              "    </tr>\n",
              "  </thead>\n",
              "  <tbody>\n",
              "    <tr>\n",
              "      <th>rank_test_score</th>\n",
              "      <td>1</td>\n",
              "      <td>2</td>\n",
              "      <td>3</td>\n",
              "      <td>4</td>\n",
              "      <td>5</td>\n",
              "      <td>6</td>\n",
              "      <td>7</td>\n",
              "      <td>8</td>\n",
              "      <td>9</td>\n",
              "    </tr>\n",
              "    <tr>\n",
              "      <th>param_max_depth</th>\n",
              "      <td>5</td>\n",
              "      <td>10</td>\n",
              "      <td>20</td>\n",
              "      <td>15</td>\n",
              "      <td>25</td>\n",
              "      <td>40</td>\n",
              "      <td>30</td>\n",
              "      <td>35</td>\n",
              "      <td>45</td>\n",
              "    </tr>\n",
              "    <tr>\n",
              "      <th>mean_test_score</th>\n",
              "      <td>-0.862654</td>\n",
              "      <td>-0.89172</td>\n",
              "      <td>-0.911815</td>\n",
              "      <td>-0.925223</td>\n",
              "      <td>-0.926327</td>\n",
              "      <td>-0.929609</td>\n",
              "      <td>-0.931909</td>\n",
              "      <td>-0.931935</td>\n",
              "      <td>-0.943048</td>\n",
              "    </tr>\n",
              "    <tr>\n",
              "      <th>std_test_score</th>\n",
              "      <td>0.0214117</td>\n",
              "      <td>0.0359731</td>\n",
              "      <td>0.0201048</td>\n",
              "      <td>0.0304596</td>\n",
              "      <td>0.0436446</td>\n",
              "      <td>0.0629091</td>\n",
              "      <td>0.0308694</td>\n",
              "      <td>0.0314366</td>\n",
              "      <td>0.0483866</td>\n",
              "    </tr>\n",
              "    <tr>\n",
              "      <th>split0_test_score</th>\n",
              "      <td>-0.880351</td>\n",
              "      <td>-0.90821</td>\n",
              "      <td>-0.924925</td>\n",
              "      <td>-0.963928</td>\n",
              "      <td>-0.936069</td>\n",
              "      <td>-0.980644</td>\n",
              "      <td>-0.975072</td>\n",
              "      <td>-0.9695</td>\n",
              "      <td>-0.941641</td>\n",
              "    </tr>\n",
              "    <tr>\n",
              "      <th>split1_test_score</th>\n",
              "      <td>-0.858063</td>\n",
              "      <td>-0.874779</td>\n",
              "      <td>-0.919354</td>\n",
              "      <td>-0.90821</td>\n",
              "      <td>-0.952785</td>\n",
              "      <td>-0.991787</td>\n",
              "      <td>-0.930497</td>\n",
              "      <td>-0.90821</td>\n",
              "      <td>-1.02522</td>\n",
              "    </tr>\n",
              "    <tr>\n",
              "      <th>split2_test_score</th>\n",
              "      <td>-0.873213</td>\n",
              "      <td>-0.951578</td>\n",
              "      <td>-0.929188</td>\n",
              "      <td>-0.957175</td>\n",
              "      <td>-0.979565</td>\n",
              "      <td>-0.957175</td>\n",
              "      <td>-0.957175</td>\n",
              "      <td>-0.940383</td>\n",
              "      <td>-0.940383</td>\n",
              "    </tr>\n",
              "    <tr>\n",
              "      <th>split3_test_score</th>\n",
              "      <td>-0.87881</td>\n",
              "      <td>-0.87881</td>\n",
              "      <td>-0.912395</td>\n",
              "      <td>-0.912395</td>\n",
              "      <td>-0.912395</td>\n",
              "      <td>-0.895603</td>\n",
              "      <td>-0.895603</td>\n",
              "      <td>-0.957175</td>\n",
              "      <td>-0.934785</td>\n",
              "    </tr>\n",
              "    <tr>\n",
              "      <th>split4_test_score</th>\n",
              "      <td>-0.822835</td>\n",
              "      <td>-0.845225</td>\n",
              "      <td>-0.873213</td>\n",
              "      <td>-0.884408</td>\n",
              "      <td>-0.850822</td>\n",
              "      <td>-0.822835</td>\n",
              "      <td>-0.9012</td>\n",
              "      <td>-0.884408</td>\n",
              "      <td>-0.873213</td>\n",
              "    </tr>\n",
              "  </tbody>\n",
              "</table>\n",
              "</div>"
            ],
            "text/plain": [
              "                           0          1  ...          6          8\n",
              "rank_test_score            1          2  ...          8          9\n",
              "param_max_depth            5         10  ...         35         45\n",
              "mean_test_score    -0.862654   -0.89172  ...  -0.931935  -0.943048\n",
              "std_test_score     0.0214117  0.0359731  ...  0.0314366  0.0483866\n",
              "split0_test_score  -0.880351   -0.90821  ...    -0.9695  -0.941641\n",
              "split1_test_score  -0.858063  -0.874779  ...   -0.90821   -1.02522\n",
              "split2_test_score  -0.873213  -0.951578  ...  -0.940383  -0.940383\n",
              "split3_test_score   -0.87881   -0.87881  ...  -0.957175  -0.934785\n",
              "split4_test_score  -0.822835  -0.845225  ...  -0.884408  -0.873213\n",
              "\n",
              "[9 rows x 9 columns]"
            ]
          },
          "metadata": {
            "tags": []
          },
          "execution_count": 28
        }
      ]
    },
    {
      "cell_type": "markdown",
      "metadata": {
        "id": "G-Maum-WjV6G"
      },
      "source": [
        "# Resumo"
      ]
    },
    {
      "cell_type": "code",
      "metadata": {
        "colab": {
          "base_uri": "https://localhost:8080/"
        },
        "id": "HSVw5SqXjjJi",
        "outputId": "21ef5c0c-e70e-44c6-dfa5-df93a5e5543b"
      },
      "source": [
        "print(results)"
      ],
      "execution_count": 29,
      "outputs": [
        {
          "output_type": "stream",
          "text": [
            "              F11        F7\n",
            "MLP      0.828897   0.82841\n",
            "Deep NN  0.859682  0.840773\n",
            "SVM       0.82794  0.827964\n",
            "DT       0.808285  0.812751\n"
          ],
          "name": "stdout"
        }
      ]
    }
  ]
}