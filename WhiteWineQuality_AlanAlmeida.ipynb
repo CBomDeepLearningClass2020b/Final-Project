{
  "nbformat": 4,
  "nbformat_minor": 0,
  "metadata": {
    "colab": {
      "name": "WhiteWineQuality-AlanAlmeida.ipynb",
      "provenance": [],
      "collapsed_sections": [],
      "toc_visible": true
    },
    "kernelspec": {
      "name": "python3",
      "display_name": "Python 3"
    }
  },
  "cells": [
    {
      "cell_type": "markdown",
      "metadata": {
        "id": "sYUmsOiUz1By"
      },
      "source": [
        "# Biblioteca"
      ]
    },
    {
      "cell_type": "code",
      "metadata": {
        "id": "RUVp2lBCSgKR",
        "colab": {
          "base_uri": "https://localhost:8080/"
        },
        "outputId": "bab00217-1b0f-4356-9b00-76b3455030c6"
      },
      "source": [
        "#@title Bibliotecas importadas { form-width: \"20%\" }\n",
        "\n",
        "# Manipulação de dados\n",
        "import pandas as pd\n",
        "from sklearn.model_selection import train_test_split\n",
        "\n",
        "# Manipuação de vetores e matrizes\n",
        "import numpy as np\n",
        "\n",
        "# Modelos\n",
        "from sklearn.svm import SVR\n",
        "from sklearn.neural_network import MLPRegressor\n",
        "from sklearn.neighbors import KNeighborsRegressor\n",
        "from sklearn.model_selection import GridSearchCV\n",
        "from sklearn import tree\n",
        "from sklearn import ensemble\n",
        "import tensorflow as tf\n",
        "from keras.layers import Dense, Dropout\n",
        "from keras.models import Sequential\n",
        "\n",
        "# Análise matemática e estatística\n",
        "from sklearn import preprocessing\n",
        "from sklearn import metrics\n",
        "import scipy.stats as stats\n",
        "import statsmodels.api as sm\n",
        "import math\n",
        "from sklearn.decomposition import PCA\n",
        "\n",
        "# Visualização\n",
        "import matplotlib.pyplot as plt\n",
        "import seaborn as sns\n",
        "import pylab"
      ],
      "execution_count": 1,
      "outputs": [
        {
          "output_type": "stream",
          "text": [
            "/usr/local/lib/python3.6/dist-packages/statsmodels/tools/_testing.py:19: FutureWarning: pandas.util.testing is deprecated. Use the functions in the public API at pandas.testing instead.\n",
            "  import pandas.util.testing as tm\n"
          ],
          "name": "stderr"
        }
      ]
    },
    {
      "cell_type": "code",
      "metadata": {
        "id": "GuGhcFi_aBqw"
      },
      "source": [
        "#@title Biblioteca própria { form-width: \"20%\" }\n",
        "    \n",
        "def matrixPrint(mat, fmt=\"g\"):\n",
        "    \"\"\"Imprime matriz mat utilizando formação de string fmt.\n",
        "    \"\"\"\n",
        "    col_maxes = [max([len((\"{:\"+fmt+\"}\").format(x)) for x in col]) for col in mat.T]\n",
        "    for x in mat:\n",
        "        for i, y in enumerate(x):\n",
        "            print((\"{:\"+str(col_maxes[i])+fmt+\"}\").format(y), end=\"  \")\n",
        "        print(\"\")\n",
        "\n",
        "def dataframeNormAnalysis(df):\n",
        "    \"\"\"Analisa as variáveis calculando Kurtosis, skewness e teste de Shapiro-Wilker sobre os dados de cada coluna do DataFrame df e imprime o resultado.\\n\n",
        "    \"\"\"\n",
        "    result = {}\n",
        "\n",
        "    print (\"\\nVariable                       skew     Kurtosis    Shapiro p\\n\")\n",
        "\n",
        "    for column_name in df:\n",
        "      skew = round(stats.skew(df[column_name]),3)\n",
        "      kurtosis = round(stats.kurtosis(df[column_name]),3)\n",
        "      W,p = stats.shapiro(df[column_name])\n",
        "      print(\"{:<25} {:>10} {:>10} {:>10.3f}\".format(column_name,skew,kurtosis,p))\n",
        "\n",
        "    print(\"\\n{} variables, {} samples.\".format(variables,samples))\n",
        "\n",
        "def dataframeStatNormAnalysis(df):\n",
        "    \"\"\"Exibe estatísticas básicas e análise de normalidade das variáveis de um Pandas Dataset.\\n\n",
        "    \"\"\"\n",
        "    result = {}\n",
        "\n",
        "    print (\"\\nVariable                       Mean      StdDev        Min        Max       skew     Kurtosis    Shapiro p\\n\")\n",
        "\n",
        "    for column_name in df:\n",
        "      (samples, variables) = df.shape\n",
        "      mean = df[column_name].mean()\n",
        "      std  = df[column_name].std()\n",
        "      min  = df[column_name].min()\n",
        "      max  = df[column_name].max()\n",
        "      skew = round(stats.skew(df[column_name]),3)\n",
        "      kurtosis = round(stats.kurtosis(df[column_name]),3)\n",
        "      W,p = stats.shapiro(df[column_name])\n",
        "\n",
        "      print(\"{:<25} {:>10.3f} {:>10.3f} {:>10.3f} {:>10.3f} {:>10} {:>12} {:>12.3f}\".format(\n",
        "          column_name,mean,std,min,max,skew,kurtosis,p))\n",
        "      \n",
        "    print(\"\\n{} variables, {} samples.\".format(variables,samples))\n",
        "\n"
      ],
      "execution_count": 2,
      "outputs": []
    },
    {
      "cell_type": "markdown",
      "metadata": {
        "id": "irBGfcSImike"
      },
      "source": [
        "# 1. Deep wine tasting\n",
        "\n",
        "O objetivo do projeto é obter modelos de regressão destinados a estimar a qualidade de vinhos portugues com base em um dataset com 1599 amostras de vinho tinto e 4898 de vinho branco, ambos compostos de 11 variáveis de entrada com características bioquímicas de cada uma das amostras e a qualidade atribuida às mesmas por enólogos como variável de saída."
      ]
    },
    {
      "cell_type": "markdown",
      "metadata": {
        "id": "8jo21biDkYCA"
      },
      "source": [
        "# 2. Análise do dataset"
      ]
    },
    {
      "cell_type": "code",
      "metadata": {
        "id": "3pc2eODGTnxd",
        "colab": {
          "base_uri": "https://localhost:8080/",
          "height": 438
        },
        "cellView": "form",
        "outputId": "640bcb3d-3ecf-456f-80aa-8e03080451d9"
      },
      "source": [
        "#@title\n",
        "df = pd.read_csv(\"https://archive.ics.uci.edu/ml/machine-learning-databases/wine-quality/winequality-white.csv\",\n",
        "                         sep=';')\n",
        "round(df,3)\n"
      ],
      "execution_count": 3,
      "outputs": [
        {
          "output_type": "execute_result",
          "data": {
            "text/html": [
              "<div>\n",
              "<style scoped>\n",
              "    .dataframe tbody tr th:only-of-type {\n",
              "        vertical-align: middle;\n",
              "    }\n",
              "\n",
              "    .dataframe tbody tr th {\n",
              "        vertical-align: top;\n",
              "    }\n",
              "\n",
              "    .dataframe thead th {\n",
              "        text-align: right;\n",
              "    }\n",
              "</style>\n",
              "<table border=\"1\" class=\"dataframe\">\n",
              "  <thead>\n",
              "    <tr style=\"text-align: right;\">\n",
              "      <th></th>\n",
              "      <th>fixed acidity</th>\n",
              "      <th>volatile acidity</th>\n",
              "      <th>citric acid</th>\n",
              "      <th>residual sugar</th>\n",
              "      <th>chlorides</th>\n",
              "      <th>free sulfur dioxide</th>\n",
              "      <th>total sulfur dioxide</th>\n",
              "      <th>density</th>\n",
              "      <th>pH</th>\n",
              "      <th>sulphates</th>\n",
              "      <th>alcohol</th>\n",
              "      <th>quality</th>\n",
              "    </tr>\n",
              "  </thead>\n",
              "  <tbody>\n",
              "    <tr>\n",
              "      <th>0</th>\n",
              "      <td>7.0</td>\n",
              "      <td>0.27</td>\n",
              "      <td>0.36</td>\n",
              "      <td>20.7</td>\n",
              "      <td>0.045</td>\n",
              "      <td>45.0</td>\n",
              "      <td>170.0</td>\n",
              "      <td>1.001</td>\n",
              "      <td>3.00</td>\n",
              "      <td>0.45</td>\n",
              "      <td>8.8</td>\n",
              "      <td>6</td>\n",
              "    </tr>\n",
              "    <tr>\n",
              "      <th>1</th>\n",
              "      <td>6.3</td>\n",
              "      <td>0.30</td>\n",
              "      <td>0.34</td>\n",
              "      <td>1.6</td>\n",
              "      <td>0.049</td>\n",
              "      <td>14.0</td>\n",
              "      <td>132.0</td>\n",
              "      <td>0.994</td>\n",
              "      <td>3.30</td>\n",
              "      <td>0.49</td>\n",
              "      <td>9.5</td>\n",
              "      <td>6</td>\n",
              "    </tr>\n",
              "    <tr>\n",
              "      <th>2</th>\n",
              "      <td>8.1</td>\n",
              "      <td>0.28</td>\n",
              "      <td>0.40</td>\n",
              "      <td>6.9</td>\n",
              "      <td>0.050</td>\n",
              "      <td>30.0</td>\n",
              "      <td>97.0</td>\n",
              "      <td>0.995</td>\n",
              "      <td>3.26</td>\n",
              "      <td>0.44</td>\n",
              "      <td>10.1</td>\n",
              "      <td>6</td>\n",
              "    </tr>\n",
              "    <tr>\n",
              "      <th>3</th>\n",
              "      <td>7.2</td>\n",
              "      <td>0.23</td>\n",
              "      <td>0.32</td>\n",
              "      <td>8.5</td>\n",
              "      <td>0.058</td>\n",
              "      <td>47.0</td>\n",
              "      <td>186.0</td>\n",
              "      <td>0.996</td>\n",
              "      <td>3.19</td>\n",
              "      <td>0.40</td>\n",
              "      <td>9.9</td>\n",
              "      <td>6</td>\n",
              "    </tr>\n",
              "    <tr>\n",
              "      <th>4</th>\n",
              "      <td>7.2</td>\n",
              "      <td>0.23</td>\n",
              "      <td>0.32</td>\n",
              "      <td>8.5</td>\n",
              "      <td>0.058</td>\n",
              "      <td>47.0</td>\n",
              "      <td>186.0</td>\n",
              "      <td>0.996</td>\n",
              "      <td>3.19</td>\n",
              "      <td>0.40</td>\n",
              "      <td>9.9</td>\n",
              "      <td>6</td>\n",
              "    </tr>\n",
              "    <tr>\n",
              "      <th>...</th>\n",
              "      <td>...</td>\n",
              "      <td>...</td>\n",
              "      <td>...</td>\n",
              "      <td>...</td>\n",
              "      <td>...</td>\n",
              "      <td>...</td>\n",
              "      <td>...</td>\n",
              "      <td>...</td>\n",
              "      <td>...</td>\n",
              "      <td>...</td>\n",
              "      <td>...</td>\n",
              "      <td>...</td>\n",
              "    </tr>\n",
              "    <tr>\n",
              "      <th>4893</th>\n",
              "      <td>6.2</td>\n",
              "      <td>0.21</td>\n",
              "      <td>0.29</td>\n",
              "      <td>1.6</td>\n",
              "      <td>0.039</td>\n",
              "      <td>24.0</td>\n",
              "      <td>92.0</td>\n",
              "      <td>0.991</td>\n",
              "      <td>3.27</td>\n",
              "      <td>0.50</td>\n",
              "      <td>11.2</td>\n",
              "      <td>6</td>\n",
              "    </tr>\n",
              "    <tr>\n",
              "      <th>4894</th>\n",
              "      <td>6.6</td>\n",
              "      <td>0.32</td>\n",
              "      <td>0.36</td>\n",
              "      <td>8.0</td>\n",
              "      <td>0.047</td>\n",
              "      <td>57.0</td>\n",
              "      <td>168.0</td>\n",
              "      <td>0.995</td>\n",
              "      <td>3.15</td>\n",
              "      <td>0.46</td>\n",
              "      <td>9.6</td>\n",
              "      <td>5</td>\n",
              "    </tr>\n",
              "    <tr>\n",
              "      <th>4895</th>\n",
              "      <td>6.5</td>\n",
              "      <td>0.24</td>\n",
              "      <td>0.19</td>\n",
              "      <td>1.2</td>\n",
              "      <td>0.041</td>\n",
              "      <td>30.0</td>\n",
              "      <td>111.0</td>\n",
              "      <td>0.993</td>\n",
              "      <td>2.99</td>\n",
              "      <td>0.46</td>\n",
              "      <td>9.4</td>\n",
              "      <td>6</td>\n",
              "    </tr>\n",
              "    <tr>\n",
              "      <th>4896</th>\n",
              "      <td>5.5</td>\n",
              "      <td>0.29</td>\n",
              "      <td>0.30</td>\n",
              "      <td>1.1</td>\n",
              "      <td>0.022</td>\n",
              "      <td>20.0</td>\n",
              "      <td>110.0</td>\n",
              "      <td>0.989</td>\n",
              "      <td>3.34</td>\n",
              "      <td>0.38</td>\n",
              "      <td>12.8</td>\n",
              "      <td>7</td>\n",
              "    </tr>\n",
              "    <tr>\n",
              "      <th>4897</th>\n",
              "      <td>6.0</td>\n",
              "      <td>0.21</td>\n",
              "      <td>0.38</td>\n",
              "      <td>0.8</td>\n",
              "      <td>0.020</td>\n",
              "      <td>22.0</td>\n",
              "      <td>98.0</td>\n",
              "      <td>0.989</td>\n",
              "      <td>3.26</td>\n",
              "      <td>0.32</td>\n",
              "      <td>11.8</td>\n",
              "      <td>6</td>\n",
              "    </tr>\n",
              "  </tbody>\n",
              "</table>\n",
              "<p>4898 rows × 12 columns</p>\n",
              "</div>"
            ],
            "text/plain": [
              "      fixed acidity  volatile acidity  citric acid  ...  sulphates  alcohol  quality\n",
              "0               7.0              0.27         0.36  ...       0.45      8.8        6\n",
              "1               6.3              0.30         0.34  ...       0.49      9.5        6\n",
              "2               8.1              0.28         0.40  ...       0.44     10.1        6\n",
              "3               7.2              0.23         0.32  ...       0.40      9.9        6\n",
              "4               7.2              0.23         0.32  ...       0.40      9.9        6\n",
              "...             ...               ...          ...  ...        ...      ...      ...\n",
              "4893            6.2              0.21         0.29  ...       0.50     11.2        6\n",
              "4894            6.6              0.32         0.36  ...       0.46      9.6        5\n",
              "4895            6.5              0.24         0.19  ...       0.46      9.4        6\n",
              "4896            5.5              0.29         0.30  ...       0.38     12.8        7\n",
              "4897            6.0              0.21         0.38  ...       0.32     11.8        6\n",
              "\n",
              "[4898 rows x 12 columns]"
            ]
          },
          "metadata": {
            "tags": []
          },
          "execution_count": 3
        }
      ]
    },
    {
      "cell_type": "markdown",
      "metadata": {
        "id": "FSawEXsBreNV"
      },
      "source": [
        "## Normalidade das distribuições \n",
        "\n",
        "O dataset apresenta variáveis (features) com grandes diferenças entre suas magnitudes. Além disso, há diversas unidades de medidas envolvidas. As medidas de skew e Kurtosis, bem como o teste de Shapiro-Witker permitem avaliar numericamente a forma das distribuições das variáveis.\n",
        "\n",
        "Kurtosis é uma medida do \"pico\" ou \"achatamento\"de uma distribuição. Um valor de Kurtosis próximo de zero (0) indica uma forma próxima do normal, enquanto que valores positivos indicam uma distribuição mais pontiaguda e valores negativos, uma forma mais plana.\n",
        "\n",
        "Skew é uma medida da assimetria da distribuição em torno da média. Distribuições com skew próximo a zero são consideradas simétricas. Valores positivos indicam que grande parte das observações estão no campo negativo da distribuição enquanto que valores positivos, no campo positivo.\n",
        "\n",
        "Por sua vez, o teste de Shapiro-Witker para normalidade também permite verificar o quão próximo está a distribuição testada de uma distribuição normal ideal com média e desvio padrão iguais. Quando o parâmetro p do teste for maior que 0.05, a distribuição é considerada próxima da distribuição normal ideal ora descrita.\n",
        "\n",
        "\n",
        "\n",
        "\n",
        "\n"
      ]
    },
    {
      "cell_type": "code",
      "metadata": {
        "colab": {
          "base_uri": "https://localhost:8080/"
        },
        "id": "eJc_fiZn4f7r",
        "outputId": "e936bc83-ba94-4c03-cf8f-ab0de954dacd"
      },
      "source": [
        "print(\"White Wine\\n\")\n",
        "dataframeStatNormAnalysis(df)"
      ],
      "execution_count": 4,
      "outputs": [
        {
          "output_type": "stream",
          "text": [
            "White Wine\n",
            "\n",
            "\n",
            "Variable                       Mean      StdDev        Min        Max       skew     Kurtosis    Shapiro p\n",
            "\n",
            "fixed acidity                  6.855      0.844      3.800     14.200      0.648        2.169        0.000\n",
            "volatile acidity               0.278      0.101      0.080      1.100      1.576        5.085        0.000\n",
            "citric acid                    0.334      0.121      0.000      1.660      1.282        6.167        0.000\n",
            "residual sugar                 6.391      5.072      0.600     65.800      1.077        3.465        0.000\n",
            "chlorides                      0.046      0.022      0.009      0.346      5.022       37.525        0.000\n",
            "free sulfur dioxide           35.308     17.007      2.000    289.000      1.406       11.453        0.000\n",
            "total sulfur dioxide         138.361     42.498      9.000    440.000      0.391         0.57        0.000\n",
            "density                        0.994      0.003      0.987      1.039      0.977        9.783        0.000\n",
            "pH                             3.188      0.151      2.720      3.820      0.458        0.529        0.000\n",
            "sulphates                      0.490      0.114      0.220      1.080      0.977        1.588        0.000\n",
            "alcohol                       10.514      1.231      8.000     14.200      0.487       -0.699        0.000\n",
            "quality                        5.878      0.886      3.000      9.000      0.156        0.215        0.000\n",
            "\n",
            "12 variables, 4898 samples.\n"
          ],
          "name": "stdout"
        }
      ]
    },
    {
      "cell_type": "markdown",
      "metadata": {
        "id": "ms7KHWVM82Go"
      },
      "source": [
        "\r\n",
        "Variáveis com essas características podem prejudicar a convergência da função custo (loss) e deixar o processo de apresendizagem dos modelos lentos e/ou instáveis. Particulamente em problemas de regressão, isso pode resultar em gradientes abruptos levando à falha do processo.\r\n",
        "\r\n",
        "Para evitar tal cenário, convém que as variáveis possuam escalas compáráveis e sejam relativamente isentas de ruídos. Essa condição existe quando as variáveis obecedem a uma distribuição gaussiana normal, ou seja, quando a média e o desvio padrão das amostras são respectivamente iguais a zero e um."
      ]
    },
    {
      "cell_type": "markdown",
      "metadata": {
        "id": "AAGT9yeXbYUo"
      },
      "source": [
        ""
      ]
    },
    {
      "cell_type": "markdown",
      "metadata": {
        "id": "IvftpEaCtgej"
      },
      "source": [
        "Não há amostras nulas ou com defeito, porém há amostras duplicadas."
      ]
    },
    {
      "cell_type": "code",
      "metadata": {
        "colab": {
          "base_uri": "https://localhost:8080/"
        },
        "id": "Hv8Z1eyHsxcH",
        "outputId": "a063d430-ffa9-422d-cc30-bfde7a2a265e"
      },
      "source": [
        "#@title\n",
        "# #@title\n",
        "original_df = df\n",
        "df = original_df.drop_duplicates()\n",
        "\n",
        "print(\"White Wine\\n\")\n",
        "print(\"Original dataset shape: \" + str(original_df.shape))\n",
        "print(\"Valid dataset shape: \" + str(df.shape))"
      ],
      "execution_count": 5,
      "outputs": [
        {
          "output_type": "stream",
          "text": [
            "White Wine\n",
            "\n",
            "Original dataset shape: (4898, 12)\n",
            "Valid dataset shape: (3961, 12)\n"
          ],
          "name": "stdout"
        }
      ]
    },
    {
      "cell_type": "markdown",
      "metadata": {
        "id": "QHoJJJZS1O1r"
      },
      "source": [
        "## Normalização das variáveis\n",
        "\n",
        "Se evidencia então a necessidade de pré-processamento das variáveis consistindo de transformação das mesmas em variáveis com distribuição normal antes de serem utilizadas para aprendizagem dos modelos. A transformação em questão é denominada normalização (ou padronização) das variáveis, que dentre os diversos métodos existentes, o mais popular e adotado aqui é o z-score, expresso por:\n",
        "\n",
        "$z_{x_{i}} = \\dfrac{x_i-\\bar{x}}{\\sigma}$,\n",
        "\n",
        "com $i=1,2,..., N$\n",
        "\n",
        "Onde,\n",
        "\n",
        "$N$ é o número de amostras da variável $x$\n",
        "\n",
        "$x_i$ é a amostra da variável $x$,\n",
        "\n",
        "$\\bar{x}$ é a média do conjunto de amostras da variável $x$,\n",
        "\n",
        "$\\sigma$ é o desvio padrão do conjunto de amostras da variável $x$\n",
        "\n",
        "$z_{x_{i}}$ é a o valor normalizado da amostra $x_i$\n",
        "\n",
        "\n",
        "É importante lembrar que após procedimento, os valores de skew, Kurtosis e Shapiro p não se alteram, pois a distribuição em si não foi alterada, apenas os valores das observações.\n"
      ]
    },
    {
      "cell_type": "code",
      "metadata": {
        "id": "CM8c0_WNE5wD",
        "colab": {
          "base_uri": "https://localhost:8080/",
          "height": 654
        },
        "outputId": "e80147e8-298a-4c43-f18f-2d8092f3c7ba"
      },
      "source": [
        "#@title { form-width: \"20%\" }\n",
        "\n",
        "# https://scikit-learn.org/stable/modules/generated/sklearn.preprocessing.StandardScaler.html#sklearn.preprocessing.StandardScaler\n",
        "std_scaler = preprocessing.StandardScaler()\n",
        "std_df =std_scaler.fit_transform(df)\n",
        "\n",
        "# DataFrame com as variáveis padronizadas\n",
        "std_df = pd.DataFrame(data=std_df,columns=df.columns)\n",
        "\n",
        "plt.figure(figsize=(5,5))\n",
        "#std_df['quality'].hist()\n",
        "df['quality'].hist()\n",
        "plt.title(\"White Wine Quality\",{'color': 'white'})\n",
        "plt.grid(False)\n",
        "\n",
        "print(\"White Wine normalized\\n\")\n",
        "dataframeStatNormAnalysis(std_df)"
      ],
      "execution_count": 6,
      "outputs": [
        {
          "output_type": "stream",
          "text": [
            "White Wine normalized\n",
            "\n",
            "\n",
            "Variable                       Mean      StdDev        Min        Max       skew     Kurtosis    Shapiro p\n",
            "\n",
            "fixed acidity                  0.000      1.000     -3.507      8.492      0.696        2.249        0.000\n",
            "volatile acidity               0.000      1.000     -1.939      7.923       1.64         5.32        0.000\n",
            "citric acid                   -0.000      1.000     -2.731     10.828       1.31        6.835        0.000\n",
            "residual sugar                 0.000      1.000     -1.093     12.319      1.333        5.673        0.000\n",
            "chlorides                     -0.000      1.000     -1.598     12.991      4.967       35.484        0.000\n",
            "free sulfur dioxide            0.000      1.000     -1.911     14.767      1.566       13.416        0.000\n",
            "total sulfur dioxide           0.000      1.000     -2.973      7.022      0.457        0.733        0.000\n",
            "density                       -0.000      1.000     -2.300     15.560      1.273       14.165        0.000\n",
            "pH                             0.000      1.000     -3.138      4.122      0.455        0.548        0.000\n",
            "sulphates                     -0.000      1.000     -2.382      5.195      0.937        1.562        0.000\n",
            "alcohol                       -0.000      1.000     -2.128      2.967      0.451       -0.697        0.000\n",
            "quality                       -0.000      1.000     -3.206      3.532      0.112        0.297        0.000\n",
            "\n",
            "12 variables, 3961 samples.\n"
          ],
          "name": "stdout"
        },
        {
          "output_type": "display_data",
          "data": {
            "image/png": "[encoded data removed]",
            "text/plain": [
              "<Figure size 360x360 with 1 Axes>"
            ]
          },
          "metadata": {
            "tags": [],
            "needs_background": "light"
          }
        }
      ]
    },
    {
      "cell_type": "markdown",
      "metadata": {
        "id": "QHotnRZA0iXZ"
      },
      "source": [
        "Pode-se observar que as médias e desvios padrão de todas as variáveis estão como esperado, além de também possuirem valores de magnitudes compatíveis.\n",
        "\n",
        "Se beneficiam da normalização de variáveis algoritmos como KNN, que classificam ou estimam observações com base e métricas dimensionais e modelos de SVM, que maximizam a distância entre o plano de separação e os supporntig vectors. Em ambos os casos, a normalização evita que variáveis que alcancem valores absolutos muito altos dominem sobre as outras indevidamente.\n",
        "\n",
        "A normalização também é fundamental ao agir como um atenuador de ruído, evitando que este se propague na saída de algoritmos e modelos.\n",
        "\n",
        "Além disso, é uma etapa crucial para análise de componente principal, PCA, pois as variáveis originais com escalas muito diferentes prejudicam a análise covariâncias entre as mesmas. Este impacto pode ser visto comparando-se os heatmaps do dataset original e normalizado.\n"
      ]
    },
    {
      "cell_type": "code",
      "metadata": {
        "id": "5G6s-cIjcqrW",
        "colab": {
          "base_uri": "https://localhost:8080/",
          "height": 361
        },
        "outputId": "d188c947-f5da-4829-c5a5-20c3584dc20e"
      },
      "source": [
        "#@title\n",
        "plt.figure(figsize=(20,5))\n",
        "\n",
        "axis1 = plt.subplot(1,2,1)\n",
        "axis1.set_title(\"Original white wine covariance map\",{'color': 'white'})\n",
        "sns.heatmap(data=df.cov(),cmap= 'Blues')\n",
        "\n",
        "axis2 = plt.subplot(1,2,2)\n",
        "axis2.set_title(\"Normalized white wine covariance map\",{'color': 'white'})\n",
        "sns.heatmap(data=std_df.cov(),cmap= 'Blues')\n"
      ],
      "execution_count": 7,
      "outputs": [
        {
          "output_type": "execute_result",
          "data": {
            "text/plain": [
              "<matplotlib.axes._subplots.AxesSubplot at 0x7f7b7485abe0>"
            ]
          },
          "metadata": {
            "tags": []
          },
          "execution_count": 7
        },
        {
          "output_type": "display_data",
          "data": {
            "image/png": "[encoded data removed]",
            "text/plain": [
              "<Figure size 1440x360 with 4 Axes>"
            ]
          },
          "metadata": {
            "tags": [],
            "needs_background": "light"
          }
        }
      ]
    },
    {
      "cell_type": "markdown",
      "metadata": {
        "id": "t-hxkJLwH2LN"
      },
      "source": [
        "## Dependência entre as variáveis\r\n",
        "\r\n",
        "Para avaliar a dependência entre as variáveis podemos empregar a análise por heatmap da correlação entre elas.\r\n",
        "\r\n"
      ]
    },
    {
      "cell_type": "code",
      "metadata": {
        "id": "0rFKP-BKE8Vb",
        "colab": {
          "base_uri": "https://localhost:8080/",
          "height": 723
        },
        "outputId": "3d0502fa-ab00-4f1f-d2c9-ba3710678559"
      },
      "source": [
        "#@title { form-width: \"20%\" }\n",
        "plt.figure(figsize=(25,10))\n",
        "\n",
        "axis1 = plt.subplot(1,2,1)\n",
        "axis1.set_title(\"RED WINE\\n\")\n",
        "sns.heatmap(data=std_df.corr(),cmap= 'bwr_r',annot=True)"
      ],
      "execution_count": 8,
      "outputs": [
        {
          "output_type": "execute_result",
          "data": {
            "text/plain": [
              "<matplotlib.axes._subplots.AxesSubplot at 0x7f7b74e43978>"
            ]
          },
          "metadata": {
            "tags": []
          },
          "execution_count": 8
        },
        {
          "output_type": "display_data",
          "data": {
            "image/png": "[encoded data removed]",
            "text/plain": [
              "<Figure size 1800x720 with 2 Axes>"
            ]
          },
          "metadata": {
            "tags": [],
            "needs_background": "light"
          }
        }
      ]
    },
    {
      "cell_type": "markdown",
      "metadata": {
        "id": "2OU_aMWkVRkA"
      },
      "source": [
        "No heatmap acima, quanto mais próximo de zero for a correlação entre duas variáveis, mais indepedentes elas são entre si. Pode-se observar que, as variáveis de entrada são pouco correlacionadas. Para vinho tinto, 'pH' guarda uma correlação negativa relevante com 'fixed acid' e 'citric acid', ocorrendo o mesmo entre 'volatile acid' e 'citric acid'. Por sua vez, a variável de saída, 'quality' tem uma relação considerável com 'alchool'.\n",
        "\n"
      ]
    },
    {
      "cell_type": "markdown",
      "metadata": {
        "id": "cg61v2ZIioqv"
      },
      "source": [
        "## Análise de Componente Principal, PCA\r\n",
        "\r\n",
        "Trata-se uma das técnicas de redução de dimensionalidade mais amplamente utilizadas para reduzir a quantidade de variáveis de um dataset ao identificar evetuais correlações padrões entre as mesmas, porém preservando a maioria das informações valiosas.\r\n",
        "\r\n",
        "**Tem o intuito de eliminar a redundância de dados no dataset, bem como capturar informações que expliquem a variabiliade das variáveis.**\r\n",
        "\r\n",
        "Como explicado acima, antes proceder para PCA, os dados devem estar normalizados. Como pretendemos identificar a depedêncida entre variáveis supostamente independentes, devemos excluir a saída (quality), pois naturalmente ela depende das demais.\r\n",
        "\r\n",
        "\r\n"
      ]
    },
    {
      "cell_type": "code",
      "metadata": {
        "id": "JMVvu2mZiniU"
      },
      "source": [
        "input_std_df = std_df.drop(columns = 'quality')"
      ],
      "execution_count": 9,
      "outputs": []
    },
    {
      "cell_type": "markdown",
      "metadata": {
        "id": "RPwu8lhetzoy"
      },
      "source": [
        "O primeiro passo da análise consiste em estabelecer a quantidade de variáveis a ser preservadas por terem maior relevância que as demais. Isso pode ser feito pela análise da covariância entre as variáveis, conforme a equação:\r\n",
        "\r\n",
        "$cov(X,Y) = \\dfrac{1}{N}[{\\Sigma_{i=1}^N x_i y_i}-\\dfrac{1}{N}({\\Sigma_{i=1}^N x_i})({\\Sigma_{i=1}^N y_i})]$\r\n",
        "\r\n",
        "Onde $X$ e $Y$ são as variáveis consideradas para o cálculo, $n$, quantidade total de amostras, e $x_i$ e $y_i$, os respectivos valores das amostras $i... n$.\r\n",
        "\r\n",
        "Fazendo cálculo duas a duas obtemos a matriz de covariâncias das variáveis, cujo heatmap mostrado a seguir.\r\n"
      ]
    },
    {
      "cell_type": "code",
      "metadata": {
        "colab": {
          "base_uri": "https://localhost:8080/",
          "height": 723
        },
        "id": "hWBuO9hWwbAl",
        "outputId": "04a44a5e-1e32-490b-bd41-5b7951b5a1a5"
      },
      "source": [
        "input_std_cov = input_std_df.cov()\r\n",
        "\r\n",
        "plt.figure(figsize=(25,10))\r\n",
        "\r\n",
        "axis1 = plt.subplot(1,2,1)\r\n",
        "axis1.set_title(\"Normalized white wine covariance map\\n\")\r\n",
        "sns.heatmap(data=input_std_cov,cmap='bwr_r')"
      ],
      "execution_count": 10,
      "outputs": [
        {
          "output_type": "execute_result",
          "data": {
            "text/plain": [
              "<matplotlib.axes._subplots.AxesSubplot at 0x7f7b71ce2208>"
            ]
          },
          "metadata": {
            "tags": []
          },
          "execution_count": 10
        },
        {
          "output_type": "display_data",
          "data": {
            "image/png": "[encoded data removed]",
            "text/plain": [
              "<Figure size 1800x720 with 2 Axes>"
            ]
          },
          "metadata": {
            "tags": [],
            "needs_background": "light"
          }
        }
      ]
    },
    {
      "cell_type": "markdown",
      "metadata": {
        "id": "YGOS4Y0EyY4D"
      },
      "source": [
        "Uma vez que uma matriz quadrada de dimensão $n$ define um espaço com $n$ dimensões, ela pode ser decomposta em $n$ autovetores, que identificam a direção dessas dimensões, e $n$ autovalores, associados a cada autovetor, que por suavez definem a escala desse espaço na respectiva dimensão.\r\n",
        "\r\n",
        "Intuitivamente, a matriz de covariâncias generaliza a noção de variância para múltiplas dimensões. Assim, os autovetores dessa matriz indicam para 'onde' as variações estão ocorrendo e os autovalores indicam a 'intensidade' dessas variações.\r\n",
        "\r\n",
        "Essas duas informações permitem entender quais são as variáveis, ou componentes, com maior influência sobre a variabilidade do conjunto e construir um novo espaço com dimensões reduzidas com as componentes mais siginificativas.\r\n",
        "\r\n",
        "### Autovalores e componentes\r\n",
        "\r\n",
        "Nesse sentido os autovalores com maior valor definem as componentes que mais contribuem para a variância, de forma que o maior autovalor é a intensidade da primeira componente principal, o segundo maior, da segunda componente principal, e assim por diante.\r\n",
        "\r\n",
        "Dito isto, é possível calcular a contribuição relativa de cada componente divindo seu valor pelo valor total de todas as componentes e seguida avaliar a cumulativa das variáveis em ordem crescente de contribuição."
      ]
    },
    {
      "cell_type": "code",
      "metadata": {
        "colab": {
          "base_uri": "https://localhost:8080/",
          "height": 719
        },
        "id": "Ei9Xv3Wftdl6",
        "outputId": "c61f5c69-f10f-496f-95a3-c8a367ba8dd4"
      },
      "source": [
        "# Cálculo dos autovalores e autovetores da matriz de covarianças do dataset normalizado (apenas entradas)\n",
        "\n",
        "(eigval,eigvec) = np.linalg.eig(input_std_cov)\n",
        "\n",
        "# Montagem do DataFrama de análise de autovalores\n",
        "\n",
        "temp = pd.Series(eigval, index=input_std_df.columns, name='lambda').sort_values(ascending=False)\n",
        "\n",
        "eigval_info = pd.DataFrame(temp)\n",
        "eigval_info.insert(loc=1,column='relative_lambda',value=temp.values/temp.sum())\n",
        "eigval_info.insert(loc=2,column='cumulative_lambda',value=(temp.values/temp.sum()).cumsum())\n",
        "\n",
        "print(\"\\nEigenvalues and their contribution analysis:\\n\")\n",
        "print(eigval_info)\n",
        "\n",
        "plt.figure(figsize=(8,5))\n",
        "#plt.xkcd()\n",
        "plt.plot(eigval_info['cumulative_lambda'])\n",
        "plt.xlabel(\"Components\")\n",
        "plt.xticks(rotation=90)\n",
        "plt.ylabel(\"Cumulative lambda\")\n",
        "plt.grid(True)\n",
        "print(\"\\nCumulative eigenvalues over the variables:\\n\")\n",
        "plt.show()\n"
      ],
      "execution_count": 11,
      "outputs": [
        {
          "output_type": "stream",
          "text": [
            "\n",
            "Eigenvalues and their contribution analysis:\n",
            "\n",
            "                        lambda  relative_lambda  cumulative_lambda\n",
            "fixed acidity         3.184340         0.289412           0.289412\n",
            "volatile acidity      1.596869         0.145133           0.434546\n",
            "free sulfur dioxide   1.213353         0.110277           0.544823\n",
            "sulphates             1.039310         0.094459           0.639281\n",
            "pH                    0.981379         0.089194           0.728475\n",
            "alcohol               0.929534         0.084482           0.812957\n",
            "density               0.722229         0.065641           0.878598\n",
            "total sulfur dioxide  0.602192         0.054731           0.933329\n",
            "chlorides             0.428942         0.038985           0.972313\n",
            "residual sugar        0.280976         0.025537           0.997850\n",
            "citric acid           0.023653         0.002150           1.000000\n",
            "\n",
            "Cumulative eigenvalues over the variables:\n",
            "\n"
          ],
          "name": "stdout"
        },
        {
          "output_type": "display_data",
          "data": {
            "image/png": "[encoded data removed]",
            "text/plain": [
              "<Figure size 576x360 with 1 Axes>"
            ]
          },
          "metadata": {
            "tags": [],
            "needs_background": "light"
          }
        }
      ]
    },
    {
      "cell_type": "markdown",
      "metadata": {
        "id": "f4GA1gJP9eSZ"
      },
      "source": [
        "Pelos valores acumulados percebe-se que 'fixed acidity' contribui com cerca de 28,9% para a variabilidade do conjunto, sendo esta variável primeira componente principal e 'volatile acidity' com 14,5%. As duas juntas a 43,5% das contribuições. Na outra ponta, é possível encontrar as variáveis a ser removidas, sendo quantidade correspondete ao nível de contribuições do conjunto original.\r\n",
        "\r\n",
        "Será considerado o nível de 90% além de 100% (sem eliminação) para treinamento e avaliação dos modelos. Isso significa que para o primeiro caso as variáveis 'total sulfur dioxide', 'chlorides', 'residual sugar' e 'citric acid' serão eliminadas. Desta forma serão mantidas as 7 variáveis principais.\r\n",
        "\r\n",
        "O ponto é que ao escolher manter as variáveis de maior contribuição é assumida a hipótese de que a varianica corresponde a elas é suficiente para descrever a variancia do dataset original.\r\n",
        "\r\n",
        "Por outro lado, as perdas de informação de variancia correspondente às variáveis removidas não são relevantes ou são aceitáveis para o problema proposto de acordo com um trade off específico para cada situação."
      ]
    },
    {
      "cell_type": "markdown",
      "metadata": {
        "id": "72vJQU5BJ0ld"
      },
      "source": [
        "### Redução da dimensão da entrada\r\n",
        "\r\n",
        "Uma vez escolhidas as variáveis a serem eliminadas, a próxima etapa é obter um espaço com dimensões reduzidas $F$ correspondentes à componentes remanescentes. Isso pode ser feito projetando o espaço original $X$ sobre uma matriz de transformação $T$ formada pelos autovetores associados a tais componentes, os quais carregam consigo a informação da direção das dimensões do novo espaço. Matematicamente:\r\n",
        "\r\n",
        "$F = XT$\r\n",
        "\r\n",
        "com\r\n",
        "\r\n",
        "$T = [v_1 : v_2: \\ ... \\ :v_{n-e}]$\r\n",
        "\r\n",
        "Onde\r\n",
        "\r\n",
        "$v_i$ é o autovetor da componente principal $i=1,2 \\ ... \\ n-e$\r\n",
        "\r\n",
        "$n$ é a dimensão do dataset original, e\r\n",
        "\r\n",
        "$e$ é a quantidade de variáveis eliminadas.\r\n",
        "\r\n",
        "Assim serão estabelecidos três conjuntos de entradas, conforme mencionado anteriormente:\r\n",
        "\r\n",
        "$F_{11} = X$\r\n",
        "\r\n",
        "$F_{7} = XT_{7}$\r\n",
        "\r\n",
        "onde\r\n",
        "\r\n",
        "$T_{7} = [v_1 : v_2: \\ ... \\ :v_7]$\r\n",
        "\r\n",
        "\r\n"
      ]
    },
    {
      "cell_type": "markdown",
      "metadata": {
        "id": "sN971xVNO6nA"
      },
      "source": [
        "Os autovetores da matriz de covarâncias são:"
      ]
    },
    {
      "cell_type": "code",
      "metadata": {
        "colab": {
          "base_uri": "https://localhost:8080/"
        },
        "id": "sg7HuMuvVEqY",
        "outputId": "a93e2dbf-1de5-4053-bbd7-582717a2f8f8"
      },
      "source": [
        "# Impressão dos autovetores\r\n",
        "\r\n",
        "print(\"\\nWhite wine normalized covariance matrix EIGENVECTORS:\\n\")\r\n",
        "\r\n",
        "text = \"\"\r\n",
        "for i in range(1,12):\r\n",
        "  text = text + \"{:>7}  \".format(i)\r\n",
        "print(text+\"\\n\")\r\n",
        "\r\n",
        "matrixPrint(eigvec,\"> 7.4f\")\r\n",
        "\r\n",
        "print(\"\\nLegend:\\n\")\r\n",
        "i=1\r\n",
        "for column in input_std_df.columns:\r\n",
        "  print(\"{:>2}: {:<}\".format(i,column))\r\n",
        "  i=i+1"
      ],
      "execution_count": 12,
      "outputs": [
        {
          "output_type": "stream",
          "text": [
            "\n",
            "White wine normalized covariance matrix EIGENVECTORS:\n",
            "\n",
            "      1        2        3        4        5        6        7        8        9       10       11  \n",
            "\n",
            "-0.1528   0.5960   0.1798  -0.1362   0.3705   0.0555  -0.5639   0.2111  -0.2601  -0.0031  -0.0028  \n",
            "-0.0268  -0.0633   0.0196  -0.2334  -0.1800  -0.6722  -0.1081  -0.2852  -0.3839  -0.1683  -0.4330  \n",
            "-0.1519   0.3840   0.0110  -0.0503  -0.2610   0.4615   0.0722  -0.7111  -0.0009  -0.1423  -0.1206  \n",
            "-0.4221  -0.0245   0.4869   0.0723   0.3586  -0.2022   0.4222  -0.2412  -0.1590   0.2801   0.2632  \n",
            "-0.2120   0.0297   0.0261   0.0529   0.4177  -0.1086   0.1370   0.0230   0.4871  -0.6694  -0.2446  \n",
            "-0.3082  -0.2604  -0.0317  -0.5756   0.1253   0.3099   0.0581   0.1428   0.0998   0.3376  -0.4955  \n",
            "-0.4168  -0.2252   0.0329   0.7116  -0.1105   0.1234  -0.2741   0.0555  -0.1099   0.0939  -0.3762  \n",
            "-0.5120  -0.0131  -0.7552  -0.0749   0.0798  -0.1288  -0.0503  -0.0800  -0.0854  -0.0062   0.3499  \n",
            " 0.1140  -0.5783   0.1464  -0.1232   0.2697   0.1450  -0.5264  -0.4009   0.0035  -0.1341   0.2577  \n",
            "-0.0474  -0.1913   0.0430  -0.0705  -0.0098   0.3528   0.2741   0.2625  -0.6586  -0.4979   0.0633  \n",
            " 0.4285   0.0460  -0.3656   0.2302   0.5933   0.0779   0.1868  -0.2240  -0.2437   0.1900  -0.2982  \n",
            "\n",
            "Legend:\n",
            "\n",
            " 1: fixed acidity\n",
            " 2: volatile acidity\n",
            " 3: citric acid\n",
            " 4: residual sugar\n",
            " 5: chlorides\n",
            " 6: free sulfur dioxide\n",
            " 7: total sulfur dioxide\n",
            " 8: density\n",
            " 9: pH\n",
            "10: sulphates\n",
            "11: alcohol\n"
          ],
          "name": "stdout"
        }
      ]
    },
    {
      "cell_type": "code",
      "metadata": {
        "id": "4rjRy81OJz8H"
      },
      "source": [
        "# dataset de entrada sem alterações\r\n",
        "X = input_std_df\r\n",
        "\r\n",
        "# Nota sobre autovetor de linalg.eig:\r\n",
        "# v : (..., M, M) array The normalized (unit \"length\") eigenvectors, such that\r\n",
        "# the column v[:,i] is the eigenvector corresponding to the eigenvalue w[i].\r\n",
        "\r\n",
        "# Entrada com todas as variáveis\r\n",
        "F11 = X\r\n",
        "\r\n",
        "\r\n",
        "# Ajusta o dataset original no analisador\r\n",
        "\r\n",
        "pca = PCA().fit(X)\r\n",
        "\r\n",
        "# Entrada com as nove variáveis que correposnde a 90% da variância do conjunto\r\n",
        "\r\n",
        "pca = PCA(n_components = 7)\r\n",
        "pcs = pca.fit_transform(F11)\r\n",
        "F7 = pd.DataFrame(data=pcs)"
      ],
      "execution_count": 13,
      "outputs": []
    },
    {
      "cell_type": "markdown",
      "metadata": {
        "id": "77_awu-fazF2"
      },
      "source": [
        "Os novos datasets de entrada com 9 e 7 dimensões são:"
      ]
    },
    {
      "cell_type": "code",
      "metadata": {
        "colab": {
          "base_uri": "https://localhost:8080/"
        },
        "id": "fKUy_8c7anrr",
        "outputId": "c9c633b7-9319-486c-f983-7a68b119a81c"
      },
      "source": [
        "print(\"\\nF11\\n\")\r\n",
        "\r\n",
        "print(F11)\r\n",
        "\r\n",
        "print(\"\\nF7\\n\")\r\n",
        "\r\n",
        "print(F7)"
      ],
      "execution_count": 14,
      "outputs": [
        {
          "output_type": "stream",
          "text": [
            "\n",
            "F11\n",
            "\n",
            "      fixed acidity  volatile acidity  ...  sulphates   alcohol\n",
            "0          0.185352         -0.101889  ...  -0.355488 -1.470396\n",
            "1         -0.622262          0.188179  ...  -0.003092 -0.895174\n",
            "2          1.454460         -0.005199  ...  -0.443587 -0.402127\n",
            "3          0.416099         -0.488646  ...  -0.795984 -0.566476\n",
            "4         -0.737636          0.381558  ...  -0.179290 -0.813000\n",
            "...             ...               ...  ...        ...       ...\n",
            "3956      -0.737636         -0.682025  ...   0.085008  0.501792\n",
            "3957      -0.276142          0.381558  ...  -0.267389 -0.813000\n",
            "3958      -0.391515         -0.391957  ...  -0.267389 -0.977349\n",
            "3959      -1.545250          0.091490  ...  -0.972182  1.816584\n",
            "3960      -0.968383         -0.682025  ...  -1.500777  0.994839\n",
            "\n",
            "[3961 rows x 11 columns]\n",
            "\n",
            "F7\n",
            "\n",
            "             0         1         2         3         4         5         6\n",
            "0     3.862702 -0.511138  0.906204 -1.189948  0.160987 -1.203505  0.134813\n",
            "1    -0.511673  0.436496  0.345879  1.057328 -0.404488 -0.764931  0.263452\n",
            "2     0.284474 -1.171489  0.115821  0.240730 -0.104588 -0.794319  0.443306\n",
            "3     1.585098  0.062778 -0.080411 -0.529644 -0.804770  0.210587 -0.240052\n",
            "4     0.215305  0.886144  1.277464 -0.077055 -0.249904 -0.566766 -0.796586\n",
            "...        ...       ...       ...       ...       ...       ...       ...\n",
            "3956 -1.990064  0.387486 -0.394920  0.199352 -0.402816 -0.551671 -0.140656\n",
            "3957  1.450374  0.430615  0.030991 -0.512681 -0.270321  0.711809 -0.006212\n",
            "3958 -0.704114 -0.362944  0.557689 -0.084418 -0.788728 -0.253462 -1.748987\n",
            "3959 -3.275646  0.932599  0.146880 -0.805388 -0.354239  0.314834  1.000383\n",
            "3960 -2.719294 -0.107871 -0.371173 -1.070908 -1.035779 -0.153961  0.871536\n",
            "\n",
            "[3961 rows x 7 columns]\n"
          ],
          "name": "stdout"
        }
      ]
    },
    {
      "cell_type": "markdown",
      "metadata": {
        "id": "2RorWQ-cbakp"
      },
      "source": [
        "# Modelos de Regressão\r\n",
        "\r\n",
        "O objetivo deste trabalho é encontrar algum modelo de regressão que consiga prever o valor da variável de saída 'quality' de forma que o erro médio absoluto (MAE) entre os valores previstos e verdadeiros seja o menor possível.\r\n",
        "\r\n",
        "Em todos os casos, o dataset foi separado em três partes, uma para treino e validação cruzada com 4/5 do total de amostras e uma para teste com 1/5 restante. "
      ]
    },
    {
      "cell_type": "code",
      "metadata": {
        "id": "Clel4TgOeGH3"
      },
      "source": [
        "# Holdout\r\n",
        "\r\n",
        "# Entradas\r\n",
        "\r\n",
        "(F11_train,F11_test) = train_test_split(F11, test_size = 0.20)\r\n",
        "( F7_train, F7_test) = train_test_split( F7, test_size = 0.20)\r\n",
        "\r\n",
        "# Saída\r\n",
        "\r\n",
        "Y = std_df['quality']\r\n",
        "(Y_train, Y_test) = train_test_split(Y,test_size = 0.20)\r\n",
        "\r\n",
        "# DataFrame para armazenar valores de métricas obtidos\r\n",
        "\r\n",
        "results = pd.DataFrame(index=['MLP','Deep NN', 'SVM', 'DT'], columns=['F11','F7'])\r\n",
        "\r\n"
      ],
      "execution_count": 15,
      "outputs": []
    },
    {
      "cell_type": "markdown",
      "metadata": {
        "id": "1W1xP74vWghd"
      },
      "source": [
        "## Multi-layer Perceptron\r\n",
        "\r\n",
        "[Multi-layer Perceptron (MLP)](https://scikit-learn.org/stable/modules/neural_networks_supervised.html#multi-layer-perceptron) é um algoritmo de aprendizado supervisionado que ao treinar sobre um dataset ajusta uma função\r\n",
        "\r\n",
        "$f(\\cdot):R^m \\rightarrow R^o$, onde $m$ é o número de dimensões (variáveis) da entrada e $o$ é o número de dimensões da saída.\r\n",
        "\r\n",
        "Dado um conjunto de features $X = {x_1, x_2, ..., x_m}$ e target $y$, pode aprender um aproximador de função não-linear tanto para classificação quanto para regressão.\r\n",
        "\r\n",
        "É diferente de regressão logística, uma vez que entre as camadas de entrada e de saída pode haver um ou mais camadas internas (hidden layers).\r\n",
        "\r\n",
        "As disvantagens de MLP incluem:\r\n",
        "\r\n",
        "1. MLP com camadas internas possuem loss não convexa, onde pode haver mais de um mínimo local. Logo, diferentes pesos na inicialização podem levar a diferentes valores de acurácia na validação.\r\n",
        "\r\n",
        "2. MLP necessita de sintonia de hiperparâmetros, tais como quantidade de camadas internas, de neurônios nas mesmas e de iterações.\r\n",
        "\r\n",
        "3. MLP é sensível às magnitudes numéricas das variáveis, o que pode ser contornado com normalização das mesmas."
      ]
    },
    {
      "cell_type": "markdown",
      "metadata": {
        "id": "-3h8PLWCeicP"
      },
      "source": [
        "### Definição do modelo e ajustes de sintonia\r\n",
        "\r\n",
        "Como dito acima, será considerado como hiperparâmetro a ser sintonizado a quantidade de neurônios, H, em uma camada interna. Foi adotado para tal camada a função de ativação logística e a loss utilizada para treino e validação é a squared-loss. Além disso, dos dados apresentados para treino, 20% será reservado para validação dentro localmente pelo MLPRegressor.\r\n",
        "\r\n",
        "O range para sintonia é de 1 a 11 neurônios, e a avaliação de cada modelo é realizada por validação cruzada com 5 folds adotando como métrica de scoring o erro médio absoluto, MAE. O modelo escolhido com menor MAE é então retreinado com todo o dataset de treino."
      ]
    },
    {
      "cell_type": "code",
      "metadata": {
        "id": "q5xf5J8gaxCC"
      },
      "source": [
        "# Define o modelo de rede neural sobre o qual será realizada a sintonia de H (hiperparâmetro)\r\n",
        "\r\n",
        "# MLPRegressor:\r\n",
        "#   Multi-layer Perceptron regressor. This model optimizes the squared-loss using\r\n",
        "#   LBFGS or stochastic gradient descent.\r\n",
        "# Rede neural com uma camada interna (hidden layer) cuja quantidade de neurônios\r\n",
        "# Função de ativação logistic e otimizador bfgs foram escolhidos por Cortez, et al.\r\n",
        "\r\n",
        "# Notas sobre MLPRegressor\r\n",
        "\r\n",
        "# The default solver ‘adam’ works pretty well on relatively large datasets (with thousands of training\r\n",
        "# samples or more) in terms of both training time and validation score. For small datasets, however,\r\n",
        "# ‘lbfgs’ can converge faster and perform better.\r\n",
        "\r\n",
        "# batch_sizeint, default=’auto’: Size of minibatches for stochastic optimizers.\r\n",
        "# If the solver is ‘lbfgs’, the classifier will not use minibatch. When set to “auto”, batch_size=min(200, n_samples)\r\n",
        "\r\n",
        "# https://scikit-learn.org/stable/modules/generated/sklearn.neural_network.MLPRegressor.html\r\n",
        "\r\n",
        "NN_regressor = MLPRegressor(hidden_layer_sizes=[1],\r\n",
        "                            activation='logistic',\r\n",
        "                            solver='sgd',\r\n",
        "                            max_fun = 15000,\r\n",
        "                            max_iter = 1000000,       # epochs\r\n",
        "                            tol = 5e-4,\r\n",
        "                            early_stopping = True,\r\n",
        "                            validation_fraction = 0.2,\r\n",
        "                            verbose = False,\r\n",
        "                            random_state = 3,\r\n",
        "                            batch_size = 200\r\n",
        "                          )\r\n",
        "\r\n",
        "# Configura o processo de tunnig de H no modelo de rede neural\r\n",
        "# GridSearchCV\r\n",
        "# Executa cross-validation em um estimator de forma iterativa sobre um conjunto de hiperparâmetros\r\n",
        "# O range de H é o mesmo adotado por Cortez, et al. como de 1 a 11.\r\n",
        "# https://scikit-learn.org/stable/modules/generated/sklearn.model_selection.GridSearchCV.html\r\n",
        "\r\n",
        "parameters = {'hidden_layer_sizes': [1,2,3,4,5,6,7,8,9,10,11]}\r\n",
        "Kcv = 5\r\n",
        "modelNN = GridSearchCV(estimator= NN_regressor,\r\n",
        "                       param_grid= parameters,\r\n",
        "                       cv= Kcv,\r\n",
        "                       scoring= 'neg_mean_absolute_error',\r\n",
        "                      )\r\n",
        "\r\n"
      ],
      "execution_count": 16,
      "outputs": []
    },
    {
      "cell_type": "markdown",
      "metadata": {
        "id": "X1Bj_7YveZ2K"
      },
      "source": [
        "### Treinamento e teste com dataset F11"
      ]
    },
    {
      "cell_type": "code",
      "metadata": {
        "colab": {
          "base_uri": "https://localhost:8080/",
          "height": 386
        },
        "id": "DAdxn4xtzIEG",
        "outputId": "a91484d3-c124-4cfe-f7cc-2950aed51a86"
      },
      "source": [
        "bestNN_11 = modelNN.fit(F11_train,Y_train)\r\n",
        "\r\n",
        "# Exibe resultados do processo de validação cruzada com 5 folds\r\n",
        "\r\n",
        "cv_results = pd.DataFrame(data=bestNN_11.cv_results_).drop('params',axis=1)\r\n",
        "cv_results = cv_results[['rank_test_score','param_hidden_layer_sizes','mean_test_score','std_test_score',\r\n",
        "                                       'split0_test_score', 'split1_test_score','split2_test_score','split3_test_score','split4_test_score']]\r\n",
        "\r\n",
        "MAE = metrics.mean_absolute_error(Y_test, bestNN_11.predict(F11_test))\r\n",
        "\r\n",
        "results['F11']['MLP'] = MAE\r\n",
        "\r\n",
        "print(\"\\n Mean absolute error of predictions made by model fitted with F11: \"\r\n",
        "      + str(round(MAE,4))\r\n",
        "      + \"\\n\"\r\n",
        ")\r\n",
        "\r\n",
        "cv_results.sort_values(by='rank_test_score').transpose()"
      ],
      "execution_count": 17,
      "outputs": [
        {
          "output_type": "stream",
          "text": [
            "\n",
            " Mean absolute error of predictions made by model fitted with F11: 0.7117\n",
            "\n"
          ],
          "name": "stdout"
        },
        {
          "output_type": "execute_result",
          "data": {
            "text/html": [
              "<div>\n",
              "<style scoped>\n",
              "    .dataframe tbody tr th:only-of-type {\n",
              "        vertical-align: middle;\n",
              "    }\n",
              "\n",
              "    .dataframe tbody tr th {\n",
              "        vertical-align: top;\n",
              "    }\n",
              "\n",
              "    .dataframe thead th {\n",
              "        text-align: right;\n",
              "    }\n",
              "</style>\n",
              "<table border=\"1\" class=\"dataframe\">\n",
              "  <thead>\n",
              "    <tr style=\"text-align: right;\">\n",
              "      <th></th>\n",
              "      <th>6</th>\n",
              "      <th>7</th>\n",
              "      <th>1</th>\n",
              "      <th>10</th>\n",
              "      <th>8</th>\n",
              "      <th>5</th>\n",
              "      <th>9</th>\n",
              "      <th>3</th>\n",
              "      <th>4</th>\n",
              "      <th>2</th>\n",
              "      <th>0</th>\n",
              "    </tr>\n",
              "  </thead>\n",
              "  <tbody>\n",
              "    <tr>\n",
              "      <th>rank_test_score</th>\n",
              "      <td>1</td>\n",
              "      <td>2</td>\n",
              "      <td>3</td>\n",
              "      <td>4</td>\n",
              "      <td>5</td>\n",
              "      <td>6</td>\n",
              "      <td>7</td>\n",
              "      <td>8</td>\n",
              "      <td>9</td>\n",
              "      <td>10</td>\n",
              "      <td>11</td>\n",
              "    </tr>\n",
              "    <tr>\n",
              "      <th>param_hidden_layer_sizes</th>\n",
              "      <td>7</td>\n",
              "      <td>8</td>\n",
              "      <td>2</td>\n",
              "      <td>11</td>\n",
              "      <td>9</td>\n",
              "      <td>6</td>\n",
              "      <td>10</td>\n",
              "      <td>4</td>\n",
              "      <td>5</td>\n",
              "      <td>3</td>\n",
              "      <td>1</td>\n",
              "    </tr>\n",
              "    <tr>\n",
              "      <th>mean_test_score</th>\n",
              "      <td>-0.761857</td>\n",
              "      <td>-0.76666</td>\n",
              "      <td>-0.770213</td>\n",
              "      <td>-0.77048</td>\n",
              "      <td>-0.771632</td>\n",
              "      <td>-0.771654</td>\n",
              "      <td>-0.771936</td>\n",
              "      <td>-0.77298</td>\n",
              "      <td>-0.773224</td>\n",
              "      <td>-0.776486</td>\n",
              "      <td>-0.786149</td>\n",
              "    </tr>\n",
              "    <tr>\n",
              "      <th>std_test_score</th>\n",
              "      <td>0.0246904</td>\n",
              "      <td>0.0206923</td>\n",
              "      <td>0.0247098</td>\n",
              "      <td>0.0233654</td>\n",
              "      <td>0.021599</td>\n",
              "      <td>0.0247167</td>\n",
              "      <td>0.0230079</td>\n",
              "      <td>0.0239618</td>\n",
              "      <td>0.024061</td>\n",
              "      <td>0.0253814</td>\n",
              "      <td>0.0270143</td>\n",
              "    </tr>\n",
              "    <tr>\n",
              "      <th>split0_test_score</th>\n",
              "      <td>-0.735893</td>\n",
              "      <td>-0.750094</td>\n",
              "      <td>-0.734211</td>\n",
              "      <td>-0.740936</td>\n",
              "      <td>-0.750236</td>\n",
              "      <td>-0.740883</td>\n",
              "      <td>-0.74428</td>\n",
              "      <td>-0.740723</td>\n",
              "      <td>-0.741896</td>\n",
              "      <td>-0.75072</td>\n",
              "      <td>-0.771734</td>\n",
              "    </tr>\n",
              "    <tr>\n",
              "      <th>split1_test_score</th>\n",
              "      <td>-0.805044</td>\n",
              "      <td>-0.804846</td>\n",
              "      <td>-0.811672</td>\n",
              "      <td>-0.8122</td>\n",
              "      <td>-0.812531</td>\n",
              "      <td>-0.815403</td>\n",
              "      <td>-0.813539</td>\n",
              "      <td>-0.81481</td>\n",
              "      <td>-0.815278</td>\n",
              "      <td>-0.82295</td>\n",
              "      <td>-0.835974</td>\n",
              "    </tr>\n",
              "    <tr>\n",
              "      <th>split2_test_score</th>\n",
              "      <td>-0.772309</td>\n",
              "      <td>-0.763707</td>\n",
              "      <td>-0.772474</td>\n",
              "      <td>-0.771729</td>\n",
              "      <td>-0.769678</td>\n",
              "      <td>-0.776186</td>\n",
              "      <td>-0.774711</td>\n",
              "      <td>-0.775553</td>\n",
              "      <td>-0.777229</td>\n",
              "      <td>-0.78111</td>\n",
              "      <td>-0.793137</td>\n",
              "    </tr>\n",
              "    <tr>\n",
              "      <th>split3_test_score</th>\n",
              "      <td>-0.750909</td>\n",
              "      <td>-0.767938</td>\n",
              "      <td>-0.767567</td>\n",
              "      <td>-0.767276</td>\n",
              "      <td>-0.767562</td>\n",
              "      <td>-0.76605</td>\n",
              "      <td>-0.76492</td>\n",
              "      <td>-0.766588</td>\n",
              "      <td>-0.769024</td>\n",
              "      <td>-0.76913</td>\n",
              "      <td>-0.767289</td>\n",
              "    </tr>\n",
              "    <tr>\n",
              "      <th>split4_test_score</th>\n",
              "      <td>-0.745133</td>\n",
              "      <td>-0.746713</td>\n",
              "      <td>-0.765141</td>\n",
              "      <td>-0.760259</td>\n",
              "      <td>-0.758154</td>\n",
              "      <td>-0.759748</td>\n",
              "      <td>-0.762229</td>\n",
              "      <td>-0.767227</td>\n",
              "      <td>-0.762692</td>\n",
              "      <td>-0.758519</td>\n",
              "      <td>-0.762612</td>\n",
              "    </tr>\n",
              "  </tbody>\n",
              "</table>\n",
              "</div>"
            ],
            "text/plain": [
              "                                  6          7  ...          2          0\n",
              "rank_test_score                   1          2  ...         10         11\n",
              "param_hidden_layer_sizes          7          8  ...          3          1\n",
              "mean_test_score           -0.761857   -0.76666  ...  -0.776486  -0.786149\n",
              "std_test_score            0.0246904  0.0206923  ...  0.0253814  0.0270143\n",
              "split0_test_score         -0.735893  -0.750094  ...   -0.75072  -0.771734\n",
              "split1_test_score         -0.805044  -0.804846  ...   -0.82295  -0.835974\n",
              "split2_test_score         -0.772309  -0.763707  ...   -0.78111  -0.793137\n",
              "split3_test_score         -0.750909  -0.767938  ...   -0.76913  -0.767289\n",
              "split4_test_score         -0.745133  -0.746713  ...  -0.758519  -0.762612\n",
              "\n",
              "[9 rows x 11 columns]"
            ]
          },
          "metadata": {
            "tags": []
          },
          "execution_count": 17
        }
      ]
    },
    {
      "cell_type": "code",
      "metadata": {
        "colab": {
          "base_uri": "https://localhost:8080/",
          "height": 384
        },
        "id": "vQFo1QjmA-oD",
        "outputId": "8e5c4aff-c4ef-4f65-c4a2-58a22718a4ab"
      },
      "source": [
        "print(\"\\nBest estimator loss and validation:\\n\")\r\n",
        "\r\n",
        "plt.figure(figsize=(15,5))\r\n",
        "\r\n",
        "axis1 = plt.subplot(1,2,1)\r\n",
        "plt.plot(bestNN_11.best_estimator_.loss_curve_)\r\n",
        "plt.xlabel(\"Epochs\")\r\n",
        "plt.grid(True)\r\n",
        "plt.xticks(rotation=0)\r\n",
        "plt.ylabel(\"Loss\")\r\n",
        "\r\n",
        "axis2 = plt.subplot(1,2,2)\r\n",
        "plt.plot(bestNN_11.best_estimator_.validation_scores_)\r\n",
        "plt.xlabel(\"Epochs\")\r\n",
        "plt.grid(True)\r\n",
        "plt.xticks(rotation=0)\r\n",
        "plt.ylabel(\"Validation\")\r\n",
        "\r\n",
        "plt.show()"
      ],
      "execution_count": 18,
      "outputs": [
        {
          "output_type": "stream",
          "text": [
            "\n",
            "Best estimator loss and validation:\n",
            "\n"
          ],
          "name": "stdout"
        },
        {
          "output_type": "display_data",
          "data": {
            "image/png": "[encoded data removed]",
            "text/plain": [
              "<Figure size 1080x360 with 2 Axes>"
            ]
          },
          "metadata": {
            "tags": [],
            "needs_background": "light"
          }
        }
      ]
    },
    {
      "cell_type": "markdown",
      "metadata": {
        "id": "2BX5_ZqKpIp-"
      },
      "source": [
        "### Treinamento e teste com dataset F7"
      ]
    },
    {
      "cell_type": "code",
      "metadata": {
        "colab": {
          "base_uri": "https://localhost:8080/",
          "height": 386
        },
        "id": "4HMj1NViqq8v",
        "outputId": "6d121129-39a0-46ff-c328-837d3a3f3e26"
      },
      "source": [
        "bestNN_7 = modelNN.fit(F7_train,Y_train)\r\n",
        "\r\n",
        "# Exibe resultados do processo de validação cruzada com 5 folds\r\n",
        "\r\n",
        "cv_results = pd.DataFrame(data=bestNN_7.cv_results_).drop('params',axis=1)\r\n",
        "cv_results = cv_results[['rank_test_score','param_hidden_layer_sizes','mean_test_score','std_test_score',\r\n",
        "                                       'split0_test_score', 'split1_test_score','split2_test_score','split3_test_score','split4_test_score']]\r\n",
        "\r\n",
        "MAE = metrics.mean_absolute_error(Y_test, bestNN_11.predict(F7_test))\r\n",
        "\r\n",
        "results['F7']['MLP'] = MAE\r\n",
        "\r\n",
        "print(\"\\n Mean absolute error of predictions made by model fitted with F7: \"\r\n",
        "      + str(round(MAE,4))\r\n",
        "      + \"\\n\"\r\n",
        ")\r\n",
        "\r\n",
        "cv_results.sort_values(by='rank_test_score').transpose()"
      ],
      "execution_count": 19,
      "outputs": [
        {
          "output_type": "stream",
          "text": [
            "\n",
            " Mean absolute error of predictions made by model fitted with F7: 0.7307\n",
            "\n"
          ],
          "name": "stdout"
        },
        {
          "output_type": "execute_result",
          "data": {
            "text/html": [
              "<div>\n",
              "<style scoped>\n",
              "    .dataframe tbody tr th:only-of-type {\n",
              "        vertical-align: middle;\n",
              "    }\n",
              "\n",
              "    .dataframe tbody tr th {\n",
              "        vertical-align: top;\n",
              "    }\n",
              "\n",
              "    .dataframe thead th {\n",
              "        text-align: right;\n",
              "    }\n",
              "</style>\n",
              "<table border=\"1\" class=\"dataframe\">\n",
              "  <thead>\n",
              "    <tr style=\"text-align: right;\">\n",
              "      <th></th>\n",
              "      <th>9</th>\n",
              "      <th>6</th>\n",
              "      <th>10</th>\n",
              "      <th>4</th>\n",
              "      <th>5</th>\n",
              "      <th>1</th>\n",
              "      <th>8</th>\n",
              "      <th>7</th>\n",
              "      <th>3</th>\n",
              "      <th>0</th>\n",
              "      <th>2</th>\n",
              "    </tr>\n",
              "  </thead>\n",
              "  <tbody>\n",
              "    <tr>\n",
              "      <th>rank_test_score</th>\n",
              "      <td>1</td>\n",
              "      <td>2</td>\n",
              "      <td>3</td>\n",
              "      <td>4</td>\n",
              "      <td>5</td>\n",
              "      <td>6</td>\n",
              "      <td>7</td>\n",
              "      <td>8</td>\n",
              "      <td>9</td>\n",
              "      <td>10</td>\n",
              "      <td>11</td>\n",
              "    </tr>\n",
              "    <tr>\n",
              "      <th>param_hidden_layer_sizes</th>\n",
              "      <td>10</td>\n",
              "      <td>7</td>\n",
              "      <td>11</td>\n",
              "      <td>5</td>\n",
              "      <td>6</td>\n",
              "      <td>2</td>\n",
              "      <td>9</td>\n",
              "      <td>8</td>\n",
              "      <td>4</td>\n",
              "      <td>1</td>\n",
              "      <td>3</td>\n",
              "    </tr>\n",
              "    <tr>\n",
              "      <th>mean_test_score</th>\n",
              "      <td>-0.757217</td>\n",
              "      <td>-0.759647</td>\n",
              "      <td>-0.759754</td>\n",
              "      <td>-0.76352</td>\n",
              "      <td>-0.771465</td>\n",
              "      <td>-0.771863</td>\n",
              "      <td>-0.77219</td>\n",
              "      <td>-0.773687</td>\n",
              "      <td>-0.774511</td>\n",
              "      <td>-0.775081</td>\n",
              "      <td>-0.775097</td>\n",
              "    </tr>\n",
              "    <tr>\n",
              "      <th>std_test_score</th>\n",
              "      <td>0.0253503</td>\n",
              "      <td>0.0205381</td>\n",
              "      <td>0.0277397</td>\n",
              "      <td>0.0224679</td>\n",
              "      <td>0.0225015</td>\n",
              "      <td>0.0241705</td>\n",
              "      <td>0.024812</td>\n",
              "      <td>0.0222663</td>\n",
              "      <td>0.0239553</td>\n",
              "      <td>0.0237536</td>\n",
              "      <td>0.0226267</td>\n",
              "    </tr>\n",
              "    <tr>\n",
              "      <th>split0_test_score</th>\n",
              "      <td>-0.733379</td>\n",
              "      <td>-0.737097</td>\n",
              "      <td>-0.738338</td>\n",
              "      <td>-0.738178</td>\n",
              "      <td>-0.745737</td>\n",
              "      <td>-0.73746</td>\n",
              "      <td>-0.739631</td>\n",
              "      <td>-0.746689</td>\n",
              "      <td>-0.74212</td>\n",
              "      <td>-0.761809</td>\n",
              "      <td>-0.744324</td>\n",
              "    </tr>\n",
              "    <tr>\n",
              "      <th>split1_test_score</th>\n",
              "      <td>-0.802272</td>\n",
              "      <td>-0.797684</td>\n",
              "      <td>-0.810398</td>\n",
              "      <td>-0.80505</td>\n",
              "      <td>-0.813208</td>\n",
              "      <td>-0.81185</td>\n",
              "      <td>-0.814954</td>\n",
              "      <td>-0.811762</td>\n",
              "      <td>-0.813664</td>\n",
              "      <td>-0.822092</td>\n",
              "      <td>-0.814276</td>\n",
              "    </tr>\n",
              "    <tr>\n",
              "      <th>split2_test_score</th>\n",
              "      <td>-0.76681</td>\n",
              "      <td>-0.756086</td>\n",
              "      <td>-0.767084</td>\n",
              "      <td>-0.764931</td>\n",
              "      <td>-0.771011</td>\n",
              "      <td>-0.778504</td>\n",
              "      <td>-0.778528</td>\n",
              "      <td>-0.781685</td>\n",
              "      <td>-0.785014</td>\n",
              "      <td>-0.767747</td>\n",
              "      <td>-0.777264</td>\n",
              "    </tr>\n",
              "    <tr>\n",
              "      <th>split3_test_score</th>\n",
              "      <td>-0.736898</td>\n",
              "      <td>-0.74777</td>\n",
              "      <td>-0.748622</td>\n",
              "      <td>-0.754357</td>\n",
              "      <td>-0.765396</td>\n",
              "      <td>-0.768888</td>\n",
              "      <td>-0.766399</td>\n",
              "      <td>-0.769365</td>\n",
              "      <td>-0.769606</td>\n",
              "      <td>-0.765912</td>\n",
              "      <td>-0.77275</td>\n",
              "    </tr>\n",
              "    <tr>\n",
              "      <th>split4_test_score</th>\n",
              "      <td>-0.746724</td>\n",
              "      <td>-0.759596</td>\n",
              "      <td>-0.734331</td>\n",
              "      <td>-0.755085</td>\n",
              "      <td>-0.761972</td>\n",
              "      <td>-0.762614</td>\n",
              "      <td>-0.761437</td>\n",
              "      <td>-0.758932</td>\n",
              "      <td>-0.76215</td>\n",
              "      <td>-0.757843</td>\n",
              "      <td>-0.766871</td>\n",
              "    </tr>\n",
              "  </tbody>\n",
              "</table>\n",
              "</div>"
            ],
            "text/plain": [
              "                                  9          6  ...          0          2\n",
              "rank_test_score                   1          2  ...         10         11\n",
              "param_hidden_layer_sizes         10          7  ...          1          3\n",
              "mean_test_score           -0.757217  -0.759647  ...  -0.775081  -0.775097\n",
              "std_test_score            0.0253503  0.0205381  ...  0.0237536  0.0226267\n",
              "split0_test_score         -0.733379  -0.737097  ...  -0.761809  -0.744324\n",
              "split1_test_score         -0.802272  -0.797684  ...  -0.822092  -0.814276\n",
              "split2_test_score          -0.76681  -0.756086  ...  -0.767747  -0.777264\n",
              "split3_test_score         -0.736898   -0.74777  ...  -0.765912   -0.77275\n",
              "split4_test_score         -0.746724  -0.759596  ...  -0.757843  -0.766871\n",
              "\n",
              "[9 rows x 11 columns]"
            ]
          },
          "metadata": {
            "tags": []
          },
          "execution_count": 19
        }
      ]
    },
    {
      "cell_type": "code",
      "metadata": {
        "colab": {
          "base_uri": "https://localhost:8080/",
          "height": 384
        },
        "id": "S8sIOsrsqqsq",
        "outputId": "fd5def98-facc-4c2d-f21a-64b42d74d429"
      },
      "source": [
        "print(\"\\nBest estimator loss and validation:\\n\")\r\n",
        "\r\n",
        "plt.figure(figsize=(15,5))\r\n",
        "\r\n",
        "axis1 = plt.subplot(1,2,1)\r\n",
        "plt.plot(bestNN_7.best_estimator_.loss_curve_)\r\n",
        "plt.xlabel(\"Epochs\")\r\n",
        "plt.grid(True)\r\n",
        "plt.xticks(rotation=0)\r\n",
        "plt.ylabel(\"Loss\")\r\n",
        "\r\n",
        "axis2 = plt.subplot(1,2,2)\r\n",
        "plt.plot(bestNN_7.best_estimator_.validation_scores_)\r\n",
        "plt.grid(True)\r\n",
        "plt.xlabel(\"Epochs\")\r\n",
        "plt.xticks(rotation=0)\r\n",
        "plt.ylabel(\"Validation\")\r\n",
        "#plt.ylim(top=0.0)\r\n",
        "\r\n",
        "plt.show()"
      ],
      "execution_count": 20,
      "outputs": [
        {
          "output_type": "stream",
          "text": [
            "\n",
            "Best estimator loss and validation:\n",
            "\n"
          ],
          "name": "stdout"
        },
        {
          "output_type": "display_data",
          "data": {
            "image/png": "[encoded data removed]",
            "text/plain": [
              "<Figure size 1080x360 with 2 Axes>"
            ]
          },
          "metadata": {
            "tags": [],
            "needs_background": "light"
          }
        }
      ]
    },
    {
      "cell_type": "markdown",
      "metadata": {
        "id": "UBfMii-b1NL0"
      },
      "source": [
        "## Deep Neural Network\r\n",
        "\r\n",
        "Rede com duas camadas internas e, para o caso com dataset original, pesos inicializados tentanto explorar a correlação entre a variável de saída 'quality' e as variáveis de entrada 'volatile acidity' e 'alcohol'."
      ]
    },
    {
      "cell_type": "markdown",
      "metadata": {
        "id": "aP2KWNFI2zyU"
      },
      "source": [
        "### Treinamento e teste com dataset F11"
      ]
    },
    {
      "cell_type": "code",
      "metadata": {
        "colab": {
          "base_uri": "https://localhost:8080/",
          "height": 856
        },
        "id": "ZZtsMCqfwUwN",
        "outputId": "42e68e92-7b0a-44d7-fbf7-a04055cf62ea"
      },
      "source": [
        "deep_regressor11 = Sequential()\r\n",
        "\r\n",
        "# Camada de entrada\r\n",
        "\r\n",
        "# Alterando pesos para alcohool e volatile acidity, os quais possuem correlação\r\n",
        "# com quality de 0.48 e -0.40, respectivamente.\r\n",
        "\r\n",
        "w1 = np.identity(11)\r\n",
        "for i in range(0,11):\r\n",
        "  for j in range(0,11):\r\n",
        "    w1[i][j] = 1\r\n",
        "    w1[i][j] = 1\r\n",
        "\r\n",
        "for i in range(0,11):\r\n",
        "  w1[1][i] = -1\r\n",
        "  w1[10][i] = 2\r\n",
        "\r\n",
        "kinit = tf.constant_initializer(w1)\r\n",
        "\r\n",
        "input_layer = Dense(units=11,activation='relu', kernel_initializer=kinit)\r\n",
        "input_layer = Dense(units=11,activation='relu')\r\n",
        "deep_regressor11.add(input_layer)\r\n",
        "\r\n",
        "# Duas camadas internas com dropout\r\n",
        "deep_regressor11.add(Dense(units=8, activation= 'softmax'))\r\n",
        "deep_regressor11.add(Dropout(rate=0.25))\r\n",
        "deep_regressor11.add(Dense(4, activation='softmax'))\r\n",
        "#Camada de saída\r\n",
        "deep_regressor11.add(Dense(1, activation='sigmoid'))\r\n",
        "\r\n",
        "# Compilação, treinamento e estimativa\r\n",
        "deep_regressor11.compile(optimizer='adam', loss='mse', metrics='mae')\r\n",
        "history = deep_regressor11.fit(F11_train, Y_train, epochs= 5000, batch_size= 100, verbose=0)\r\n",
        "deep_regressor11.summary()\r\n",
        "\r\n",
        "# Métrica\r\n",
        "Y_pred = deep_regressor11.predict(F11_test)\r\n",
        "\r\n",
        "MAE = metrics.mean_absolute_error(Y_test,Y_pred)\r\n",
        "\r\n",
        "results['F11']['Deep NN'] = MAE\r\n",
        "\r\n",
        "print(\"\\n\\nMAE: \" + str(round(MAE,4)))\r\n",
        "\r\n",
        "# Plot\r\n",
        "print(\"\\nDeep Neural Network loss and metrics:\\n\")\r\n",
        "\r\n",
        "plt.figure(figsize=(15,5))\r\n",
        "\r\n",
        "axis1 = plt.subplot(1,2,1)\r\n",
        "plt.plot(history.history['loss'])\r\n",
        "plt.xlabel(\"Epochs\")\r\n",
        "plt.grid(True)\r\n",
        "plt.xticks(rotation=0)\r\n",
        "plt.ylabel(\"Loss\")\r\n",
        "\r\n",
        "axis2 = plt.subplot(1,2,2)\r\n",
        "plt.plot(history.history['mae'])\r\n",
        "plt.xlabel(\"Epochs\")\r\n",
        "plt.grid(True)\r\n",
        "plt.xticks(rotation=0)\r\n",
        "plt.ylabel(\"MAE\")\r\n",
        "\r\n",
        "plt.show()"
      ],
      "execution_count": 21,
      "outputs": [
        {
          "output_type": "stream",
          "text": [
            "WARNING:tensorflow:Layer dense_1 is casting an input tensor from dtype float64 to the layer's dtype of float32, which is new behavior in TensorFlow 2.  The layer has dtype float32 because its dtype defaults to floatx.\n",
            "\n",
            "If you intended to run this layer in float32, you can safely ignore this warning. If in doubt, this warning is likely only an issue if you are porting a TensorFlow 1.X model to TensorFlow 2.\n",
            "\n",
            "To change all layers to have dtype float64 by default, call `tf.keras.backend.set_floatx('float64')`. To change just this layer, pass dtype='float64' to the layer constructor. If you are the author of this layer, you can disable autocasting by passing autocast=False to the base Layer constructor.\n",
            "\n",
            "Model: \"sequential\"\n",
            "_________________________________________________________________\n",
            "Layer (type)                 Output Shape              Param #   \n",
            "=================================================================\n",
            "dense_1 (Dense)              (None, 11)                132       \n",
            "_________________________________________________________________\n",
            "dense_2 (Dense)              (None, 8)                 96        \n",
            "_________________________________________________________________\n",
            "dropout (Dropout)            (None, 8)                 0         \n",
            "_________________________________________________________________\n",
            "dense_3 (Dense)              (None, 4)                 36        \n",
            "_________________________________________________________________\n",
            "dense_4 (Dense)              (None, 1)                 5         \n",
            "=================================================================\n",
            "Total params: 269\n",
            "Trainable params: 269\n",
            "Non-trainable params: 0\n",
            "_________________________________________________________________\n",
            "\n",
            "\n",
            "MAE: 0.769\n",
            "\n",
            "Deep Neural Network loss and metrics:\n",
            "\n"
          ],
          "name": "stdout"
        },
        {
          "output_type": "display_data",
          "data": {
            "image/png": "[encoded data removed]",
            "text/plain": [
              "<Figure size 1080x360 with 2 Axes>"
            ]
          },
          "metadata": {
            "tags": [],
            "needs_background": "light"
          }
        }
      ]
    },
    {
      "cell_type": "markdown",
      "metadata": {
        "id": "KpdSXGXt25xn"
      },
      "source": [
        "### Treinamento e teste com dataset F7"
      ]
    },
    {
      "cell_type": "code",
      "metadata": {
        "colab": {
          "base_uri": "https://localhost:8080/",
          "height": 856
        },
        "id": "FMbVlQDa27Oy",
        "outputId": "0a2869fa-3c2c-464b-bbd4-c1534b8aa142"
      },
      "source": [
        "deep_regressor7 = Sequential()\r\n",
        "\r\n",
        "# Camada de entrada\r\n",
        "deep_regressor7.add(Dense(units=7,activation='relu'))\r\n",
        "# Duas camadas internas com dropout\r\n",
        "deep_regressor7.add(Dense(units=8, activation='softmax'))\r\n",
        "deep_regressor7.add(Dropout(rate=0.25))\r\n",
        "deep_regressor7.add(Dense(4, activation='softmax'))\r\n",
        "#Camada de saída\r\n",
        "deep_regressor7.add(Dense(1, activation='sigmoid'))\r\n",
        "\r\n",
        "# Compilação, treinamento e estimativa\r\n",
        "deep_regressor7.compile(optimizer='adam', loss='mse', metrics='mae')\r\n",
        "history = deep_regressor7.fit(F7_train, Y_train, epochs=5000, batch_size=100, verbose=0)\r\n",
        "deep_regressor7.summary()\r\n",
        "\r\n",
        "# Métrica\r\n",
        "Y_pred = deep_regressor7.predict(F7_test)\r\n",
        "\r\n",
        "MAE = metrics.mean_absolute_error(Y_test,Y_pred)\r\n",
        "\r\n",
        "results['F7']['Deep NN'] = MAE\r\n",
        "\r\n",
        "print(\"\\n\\nMAE: \" + str(round(MAE,4)))\r\n",
        "\r\n",
        "# Plot\r\n",
        "print(\"\\nDeep Neural Network loss and metrics:\\n\")\r\n",
        "\r\n",
        "plt.figure(figsize=(15,5))\r\n",
        "\r\n",
        "axis1 = plt.subplot(1,2,1)\r\n",
        "plt.plot(history.history['loss'])\r\n",
        "plt.xlabel(\"Epochs\")\r\n",
        "plt.grid(True)\r\n",
        "plt.xticks(rotation=0)\r\n",
        "plt.ylabel(\"Loss\")\r\n",
        "\r\n",
        "axis2 = plt.subplot(1,2,2)\r\n",
        "plt.plot(history.history['mae'])\r\n",
        "plt.xlabel(\"Epochs\")\r\n",
        "plt.grid(True)\r\n",
        "plt.xticks(rotation=0)\r\n",
        "plt.ylabel(\"MAE\")\r\n",
        "\r\n",
        "plt.show()"
      ],
      "execution_count": 22,
      "outputs": [
        {
          "output_type": "stream",
          "text": [
            "WARNING:tensorflow:Layer dense_5 is casting an input tensor from dtype float64 to the layer's dtype of float32, which is new behavior in TensorFlow 2.  The layer has dtype float32 because its dtype defaults to floatx.\n",
            "\n",
            "If you intended to run this layer in float32, you can safely ignore this warning. If in doubt, this warning is likely only an issue if you are porting a TensorFlow 1.X model to TensorFlow 2.\n",
            "\n",
            "To change all layers to have dtype float64 by default, call `tf.keras.backend.set_floatx('float64')`. To change just this layer, pass dtype='float64' to the layer constructor. If you are the author of this layer, you can disable autocasting by passing autocast=False to the base Layer constructor.\n",
            "\n",
            "Model: \"sequential_1\"\n",
            "_________________________________________________________________\n",
            "Layer (type)                 Output Shape              Param #   \n",
            "=================================================================\n",
            "dense_5 (Dense)              (None, 7)                 56        \n",
            "_________________________________________________________________\n",
            "dense_6 (Dense)              (None, 8)                 64        \n",
            "_________________________________________________________________\n",
            "dropout_1 (Dropout)          (None, 8)                 0         \n",
            "_________________________________________________________________\n",
            "dense_7 (Dense)              (None, 4)                 36        \n",
            "_________________________________________________________________\n",
            "dense_8 (Dense)              (None, 1)                 5         \n",
            "=================================================================\n",
            "Total params: 161\n",
            "Trainable params: 161\n",
            "Non-trainable params: 0\n",
            "_________________________________________________________________\n",
            "\n",
            "\n",
            "MAE: 0.7447\n",
            "\n",
            "Deep Neural Network loss and metrics:\n",
            "\n"
          ],
          "name": "stdout"
        },
        {
          "output_type": "display_data",
          "data": {
            "image/png": "[encoded data removed]",
            "text/plain": [
              "<Figure size 1080x360 with 2 Axes>"
            ]
          },
          "metadata": {
            "tags": [],
            "needs_background": "light"
          }
        }
      ]
    },
    {
      "cell_type": "markdown",
      "metadata": {
        "id": "qyeeH90FjHsg"
      },
      "source": [
        "## Support Vector Machines, SVM\r\n",
        "\r\n",
        "O objetivo de uma SVM é encontrar o melhor hiperplano que separa dois grupos de dados com uma pequena tolerância ε no processo de treinamento. A função custo (loss) ε-insensitive define um região retangular em torno de resíduos e os pequenos erros dentro dessa região são descartados.\r\n",
        "\r\n",
        "$Loss(y,\\hat{y}) = \\{ \\begin {align*} 0, \\ \\ \\ \\ &y-\\hat{y} \\leq \\varepsilon,\r\n",
        "\\\\ ky, \\ \\     &y-\\hat{y} > \\varepsilon, \\ k \\in \\Re \\end {align*}$\r\n",
        "                                  \r\n",
        "Foi adotado também o kernel gaussiano, o qual necessita apenas a definição do parâmetro $\\gamma$.\r\n",
        "\r\n",
        "$K(x,x') = e^{-\\gamma ||x-x'||^{2}}, \\gamma > 0$\r\n",
        "\r\n",
        "Neste caso, a performance do modelo é influenciada por três parâmetros:\r\n",
        "\r\n",
        "1. $\\gamma$, relacionado ao kernel gaussiano;\r\n",
        "2. $\\varepsilon$, relacionado à função de custo; e\r\n",
        "3. C, comum a todas as SVM, conhecido como parâmetro de regularização.\r\n",
        "\r\n",
        "Dos três parâmetros, $\\gamma$ exerce o maior impacto no desempenho de SVM, e o elegem como único hiperparâmetro para o modelo, definindo C = 3 por heurística, e $\\varepsilon = \\hat{\\sigma}/\\sqrt{N}$, onde\r\n",
        "\r\n",
        "$\\hat{\\sigma} = \\dfrac{1.5}{N} \\Sigma_{i=1}^{N}(y_i-\\hat{y_i})^2$\r\n",
        "\r\n",
        "Com $\\hat{y_i}$ estimado por algoritimo KNN, $K=3$."
      ]
    },
    {
      "cell_type": "markdown",
      "metadata": {
        "id": "wvrL8d9V_JEq"
      },
      "source": [
        "### Definição do modelo e ajustes de sintonia\r\n",
        "\r\n",
        "Como dito acima, será considerado como hiperparâmetro a ser sintonizado o parâmetro $\\gamma$, relacionao ao kernel da SVM. os parâmetros relacionados à função loss ε-insensitive e regularização serão mantidos constantes.\r\n",
        "\r\n",
        "O range para sintonia é de $2^{3}, 2^{1},..., 2^{-13}, 2^{-15}$ , e a avaliação de cada modelo é realizada por validação cruzada com 5 folds adotando como métrica de scoring o erro médio absoluto, MAE. O modelo escolhido com menor MAE é então retreinado com todo o dataset de treino."
      ]
    },
    {
      "cell_type": "code",
      "metadata": {
        "id": "aqyVZKj__hoE"
      },
      "source": [
        "# Regressor KNN com métrica de distância euclidiana (padrão)\r\n",
        "# https://scikit-learn.org/stable/modules/generated/sklearn.neighbors.KNeighborsRegressor.html#\r\n",
        "\r\n",
        "K = 3\r\n",
        "KNN_regressor = KNeighborsRegressor(n_neighbors=K,weights='uniform')\r\n",
        "KNN_regressor.fit(F11_train,Y_train)\r\n",
        "Y_pred = KNN_regressor.predict(F11_test)\r\n",
        "\r\n",
        "# Define a SVM base para sobre a qual será realizada a sintonia de gamma (hiperparâmetro)\r\n",
        "# Epsilon Support Vector Machine para regressão empregando kernel gaussiano (RBF)\r\n",
        "# C = 3 e metodologia de obtenção de sigma_hat com uso de KNN definido por Cortez et al.\r\n",
        "# https://scikit-learn.org/stable/modules/generated/sklearn.svm.SVR.html#\r\n",
        "\r\n",
        "sigma_hat = 1.5*metrics.mean_squared_error(Y_test,Y_pred)\r\n",
        "epsilon = sigma_hat/math.sqrt(len(Y_test))\r\n",
        "C = 3\r\n",
        "gamma = 0 # Hiperparâmetro\r\n",
        "SVM_regressor = SVR(kernel= 'rbf', C= 3.0, gamma= 'auto', epsilon= epsilon)\r\n",
        "\r\n",
        "# Configura o processo de tunnig de gamma no modelo de SVM\r\n",
        "# GridSearchCV\r\n",
        "# Treina e avalia com cross-validation um estimator de forma iterativa sobre um conjunto de hiperparâmetros\r\n",
        "# O range de gamm é definido por Cortez, et al. como 2^(3), 2^(1) ... 2^(-15).\r\n",
        "# https://scikit-learn.org/stable/modules/generated/sklearn.model_selection.GridSearchCV.html\r\n",
        "\r\n",
        "parameters = {'gamma': [2**3, 2**1, 2**-1,2**-3,2**-5,2**-7,2**-9,2**-11,2**-13,2**-15]}\r\n",
        "Kcv = 5     \r\n",
        "modelSVM = GridSearchCV(estimator= SVM_regressor,\r\n",
        "                        param_grid= parameters,\r\n",
        "                        cv= Kcv,\r\n",
        "                        scoring= 'neg_mean_absolute_error',\r\n",
        "                       )"
      ],
      "execution_count": 23,
      "outputs": []
    },
    {
      "cell_type": "markdown",
      "metadata": {
        "id": "rXtOp596AObg"
      },
      "source": [
        "### Treinamento e teste com dataset F11"
      ]
    },
    {
      "cell_type": "code",
      "metadata": {
        "colab": {
          "base_uri": "https://localhost:8080/",
          "height": 382
        },
        "id": "DZaK9iplAW4T",
        "outputId": "cce34eed-ecaa-4c48-e52b-db46b16b7e8f"
      },
      "source": [
        "bestSVM_11 = modelSVM.fit(F11_train,Y_train)\r\n",
        "\r\n",
        "# Exibe resultados do processo de validação cruzada com 5 folds\r\n",
        "\r\n",
        "cv_results = pd.DataFrame(data=bestSVM_11.cv_results_).drop('params',axis=1)\r\n",
        "cv_results = cv_results[['rank_test_score','param_gamma','mean_test_score','std_test_score',\r\n",
        "                                       'split0_test_score', 'split1_test_score','split2_test_score','split3_test_score','split4_test_score']]\r\n",
        "\r\n",
        "MAE = metrics.mean_absolute_error(Y_test, bestSVM_11.predict(F11_test))\r\n",
        "\r\n",
        "results['F11']['SVM'] = MAE\r\n",
        "\r\n",
        "print(\"\\n Mean absolute error of predictions made by model fitted with F11: \"\r\n",
        "      + str(round(MAE,4))\r\n",
        "      + \"\\n\"\r\n",
        ")\r\n",
        "\r\n",
        "cv_results.sort_values(by='rank_test_score').transpose()"
      ],
      "execution_count": 24,
      "outputs": [
        {
          "output_type": "stream",
          "text": [
            "\n",
            " Mean absolute error of predictions made by model fitted with F11: 0.7028\n",
            "\n"
          ],
          "name": "stdout"
        },
        {
          "output_type": "execute_result",
          "data": {
            "text/html": [
              "<div>\n",
              "<style scoped>\n",
              "    .dataframe tbody tr th:only-of-type {\n",
              "        vertical-align: middle;\n",
              "    }\n",
              "\n",
              "    .dataframe tbody tr th {\n",
              "        vertical-align: top;\n",
              "    }\n",
              "\n",
              "    .dataframe thead th {\n",
              "        text-align: right;\n",
              "    }\n",
              "</style>\n",
              "<table border=\"1\" class=\"dataframe\">\n",
              "  <thead>\n",
              "    <tr style=\"text-align: right;\">\n",
              "      <th></th>\n",
              "      <th>9</th>\n",
              "      <th>7</th>\n",
              "      <th>8</th>\n",
              "      <th>6</th>\n",
              "      <th>5</th>\n",
              "      <th>4</th>\n",
              "      <th>0</th>\n",
              "      <th>1</th>\n",
              "      <th>3</th>\n",
              "      <th>2</th>\n",
              "    </tr>\n",
              "  </thead>\n",
              "  <tbody>\n",
              "    <tr>\n",
              "      <th>rank_test_score</th>\n",
              "      <td>1</td>\n",
              "      <td>2</td>\n",
              "      <td>3</td>\n",
              "      <td>4</td>\n",
              "      <td>5</td>\n",
              "      <td>6</td>\n",
              "      <td>7</td>\n",
              "      <td>8</td>\n",
              "      <td>9</td>\n",
              "      <td>10</td>\n",
              "    </tr>\n",
              "    <tr>\n",
              "      <th>param_gamma</th>\n",
              "      <td>3.05176e-05</td>\n",
              "      <td>0.000488281</td>\n",
              "      <td>0.00012207</td>\n",
              "      <td>0.00195312</td>\n",
              "      <td>0.0078125</td>\n",
              "      <td>0.03125</td>\n",
              "      <td>8</td>\n",
              "      <td>2</td>\n",
              "      <td>0.125</td>\n",
              "      <td>0.5</td>\n",
              "    </tr>\n",
              "    <tr>\n",
              "      <th>mean_test_score</th>\n",
              "      <td>-0.741885</td>\n",
              "      <td>-0.741893</td>\n",
              "      <td>-0.741904</td>\n",
              "      <td>-0.74192</td>\n",
              "      <td>-0.742188</td>\n",
              "      <td>-0.751141</td>\n",
              "      <td>-0.782076</td>\n",
              "      <td>-0.801241</td>\n",
              "      <td>-0.818652</td>\n",
              "      <td>-0.90262</td>\n",
              "    </tr>\n",
              "    <tr>\n",
              "      <th>std_test_score</th>\n",
              "      <td>0.0242849</td>\n",
              "      <td>0.0242886</td>\n",
              "      <td>0.0242895</td>\n",
              "      <td>0.024282</td>\n",
              "      <td>0.0240366</td>\n",
              "      <td>0.0218559</td>\n",
              "      <td>0.0250109</td>\n",
              "      <td>0.0191648</td>\n",
              "      <td>0.0190781</td>\n",
              "      <td>0.0159185</td>\n",
              "    </tr>\n",
              "    <tr>\n",
              "      <th>split0_test_score</th>\n",
              "      <td>-0.713815</td>\n",
              "      <td>-0.713817</td>\n",
              "      <td>-0.713831</td>\n",
              "      <td>-0.713775</td>\n",
              "      <td>-0.713807</td>\n",
              "      <td>-0.727373</td>\n",
              "      <td>-0.752611</td>\n",
              "      <td>-0.78537</td>\n",
              "      <td>-0.809065</td>\n",
              "      <td>-0.878493</td>\n",
              "    </tr>\n",
              "    <tr>\n",
              "      <th>split1_test_score</th>\n",
              "      <td>-0.785908</td>\n",
              "      <td>-0.785929</td>\n",
              "      <td>-0.785941</td>\n",
              "      <td>-0.785943</td>\n",
              "      <td>-0.785564</td>\n",
              "      <td>-0.790669</td>\n",
              "      <td>-0.826753</td>\n",
              "      <td>-0.834079</td>\n",
              "      <td>-0.851959</td>\n",
              "      <td>-0.927288</td>\n",
              "    </tr>\n",
              "    <tr>\n",
              "      <th>split2_test_score</th>\n",
              "      <td>-0.745632</td>\n",
              "      <td>-0.745619</td>\n",
              "      <td>-0.745638</td>\n",
              "      <td>-0.745533</td>\n",
              "      <td>-0.745681</td>\n",
              "      <td>-0.752129</td>\n",
              "      <td>-0.785792</td>\n",
              "      <td>-0.812034</td>\n",
              "      <td>-0.816639</td>\n",
              "      <td>-0.907795</td>\n",
              "    </tr>\n",
              "    <tr>\n",
              "      <th>split3_test_score</th>\n",
              "      <td>-0.729325</td>\n",
              "      <td>-0.729344</td>\n",
              "      <td>-0.729355</td>\n",
              "      <td>-0.729445</td>\n",
              "      <td>-0.729882</td>\n",
              "      <td>-0.735028</td>\n",
              "      <td>-0.778551</td>\n",
              "      <td>-0.785871</td>\n",
              "      <td>-0.794034</td>\n",
              "      <td>-0.895686</td>\n",
              "    </tr>\n",
              "    <tr>\n",
              "      <th>split4_test_score</th>\n",
              "      <td>-0.734744</td>\n",
              "      <td>-0.734755</td>\n",
              "      <td>-0.734755</td>\n",
              "      <td>-0.734902</td>\n",
              "      <td>-0.736004</td>\n",
              "      <td>-0.750504</td>\n",
              "      <td>-0.766673</td>\n",
              "      <td>-0.788853</td>\n",
              "      <td>-0.821562</td>\n",
              "      <td>-0.90384</td>\n",
              "    </tr>\n",
              "  </tbody>\n",
              "</table>\n",
              "</div>"
            ],
            "text/plain": [
              "                             9            7  ...          3          2\n",
              "rank_test_score              1            2  ...          9         10\n",
              "param_gamma        3.05176e-05  0.000488281  ...      0.125        0.5\n",
              "mean_test_score      -0.741885    -0.741893  ...  -0.818652   -0.90262\n",
              "std_test_score       0.0242849    0.0242886  ...  0.0190781  0.0159185\n",
              "split0_test_score    -0.713815    -0.713817  ...  -0.809065  -0.878493\n",
              "split1_test_score    -0.785908    -0.785929  ...  -0.851959  -0.927288\n",
              "split2_test_score    -0.745632    -0.745619  ...  -0.816639  -0.907795\n",
              "split3_test_score    -0.729325    -0.729344  ...  -0.794034  -0.895686\n",
              "split4_test_score    -0.734744    -0.734755  ...  -0.821562   -0.90384\n",
              "\n",
              "[9 rows x 10 columns]"
            ]
          },
          "metadata": {
            "tags": []
          },
          "execution_count": 24
        }
      ]
    },
    {
      "cell_type": "markdown",
      "metadata": {
        "id": "WgNnGmSGCjBq"
      },
      "source": [
        "### Treinamento e teste com dataset F7"
      ]
    },
    {
      "cell_type": "code",
      "metadata": {
        "colab": {
          "base_uri": "https://localhost:8080/",
          "height": 382
        },
        "id": "73THYUYVCmpn",
        "outputId": "247ede70-e12d-4b4a-f3e1-2ca8644f49ff"
      },
      "source": [
        "bestSVM_7 = modelSVM.fit(F7_train,Y_train)\r\n",
        "\r\n",
        "# Exibe resultados do processo de validação cruzada com 5 folds\r\n",
        "\r\n",
        "cv_results = pd.DataFrame(data=bestSVM_7.cv_results_).drop('params',axis=1)\r\n",
        "cv_results = cv_results[['rank_test_score','param_gamma','mean_test_score','std_test_score',\r\n",
        "                                       'split0_test_score', 'split1_test_score','split2_test_score','split3_test_score','split4_test_score']]\r\n",
        "\r\n",
        "MAE = metrics.mean_absolute_error(Y_test, bestSVM_7.predict(F7_test))\r\n",
        "\r\n",
        "results['F7']['SVM'] = MAE\r\n",
        "\r\n",
        "print(\"\\n Mean absolute error of predictions made by model fitted with F7: \"\r\n",
        "      + str(round(MAE,4))\r\n",
        "      + \"\\n\"\r\n",
        ")\r\n",
        "\r\n",
        "cv_results.sort_values(by='rank_test_score').transpose()"
      ],
      "execution_count": 25,
      "outputs": [
        {
          "output_type": "stream",
          "text": [
            "\n",
            " Mean absolute error of predictions made by model fitted with F7: 0.7026\n",
            "\n"
          ],
          "name": "stdout"
        },
        {
          "output_type": "execute_result",
          "data": {
            "text/html": [
              "<div>\n",
              "<style scoped>\n",
              "    .dataframe tbody tr th:only-of-type {\n",
              "        vertical-align: middle;\n",
              "    }\n",
              "\n",
              "    .dataframe tbody tr th {\n",
              "        vertical-align: top;\n",
              "    }\n",
              "\n",
              "    .dataframe thead th {\n",
              "        text-align: right;\n",
              "    }\n",
              "</style>\n",
              "<table border=\"1\" class=\"dataframe\">\n",
              "  <thead>\n",
              "    <tr style=\"text-align: right;\">\n",
              "      <th></th>\n",
              "      <th>5</th>\n",
              "      <th>6</th>\n",
              "      <th>7</th>\n",
              "      <th>8</th>\n",
              "      <th>9</th>\n",
              "      <th>4</th>\n",
              "      <th>3</th>\n",
              "      <th>0</th>\n",
              "      <th>1</th>\n",
              "      <th>2</th>\n",
              "    </tr>\n",
              "  </thead>\n",
              "  <tbody>\n",
              "    <tr>\n",
              "      <th>rank_test_score</th>\n",
              "      <td>1</td>\n",
              "      <td>2</td>\n",
              "      <td>3</td>\n",
              "      <td>4</td>\n",
              "      <td>5</td>\n",
              "      <td>6</td>\n",
              "      <td>7</td>\n",
              "      <td>8</td>\n",
              "      <td>9</td>\n",
              "      <td>10</td>\n",
              "    </tr>\n",
              "    <tr>\n",
              "      <th>param_gamma</th>\n",
              "      <td>0.0078125</td>\n",
              "      <td>0.00195312</td>\n",
              "      <td>0.000488281</td>\n",
              "      <td>0.00012207</td>\n",
              "      <td>3.05176e-05</td>\n",
              "      <td>0.03125</td>\n",
              "      <td>0.125</td>\n",
              "      <td>8</td>\n",
              "      <td>2</td>\n",
              "      <td>0.5</td>\n",
              "    </tr>\n",
              "    <tr>\n",
              "      <th>mean_test_score</th>\n",
              "      <td>-0.741736</td>\n",
              "      <td>-0.741786</td>\n",
              "      <td>-0.741854</td>\n",
              "      <td>-0.741866</td>\n",
              "      <td>-0.741896</td>\n",
              "      <td>-0.746872</td>\n",
              "      <td>-0.786541</td>\n",
              "      <td>-0.789709</td>\n",
              "      <td>-0.850753</td>\n",
              "      <td>-0.896715</td>\n",
              "    </tr>\n",
              "    <tr>\n",
              "      <th>std_test_score</th>\n",
              "      <td>0.0240994</td>\n",
              "      <td>0.0242695</td>\n",
              "      <td>0.0242761</td>\n",
              "      <td>0.0242816</td>\n",
              "      <td>0.0242775</td>\n",
              "      <td>0.0244706</td>\n",
              "      <td>0.0264275</td>\n",
              "      <td>0.0229691</td>\n",
              "      <td>0.0264904</td>\n",
              "      <td>0.0201983</td>\n",
              "    </tr>\n",
              "    <tr>\n",
              "      <th>split0_test_score</th>\n",
              "      <td>-0.713395</td>\n",
              "      <td>-0.713709</td>\n",
              "      <td>-0.713777</td>\n",
              "      <td>-0.71379</td>\n",
              "      <td>-0.713835</td>\n",
              "      <td>-0.719925</td>\n",
              "      <td>-0.7614</td>\n",
              "      <td>-0.757665</td>\n",
              "      <td>-0.825452</td>\n",
              "      <td>-0.890346</td>\n",
              "    </tr>\n",
              "    <tr>\n",
              "      <th>split1_test_score</th>\n",
              "      <td>-0.785069</td>\n",
              "      <td>-0.785796</td>\n",
              "      <td>-0.785864</td>\n",
              "      <td>-0.78588</td>\n",
              "      <td>-0.785908</td>\n",
              "      <td>-0.792951</td>\n",
              "      <td>-0.836803</td>\n",
              "      <td>-0.827295</td>\n",
              "      <td>-0.901185</td>\n",
              "      <td>-0.929976</td>\n",
              "    </tr>\n",
              "    <tr>\n",
              "      <th>split2_test_score</th>\n",
              "      <td>-0.746151</td>\n",
              "      <td>-0.745445</td>\n",
              "      <td>-0.745577</td>\n",
              "      <td>-0.745618</td>\n",
              "      <td>-0.745643</td>\n",
              "      <td>-0.744105</td>\n",
              "      <td>-0.771307</td>\n",
              "      <td>-0.797824</td>\n",
              "      <td>-0.837171</td>\n",
              "      <td>-0.867335</td>\n",
              "    </tr>\n",
              "    <tr>\n",
              "      <th>split3_test_score</th>\n",
              "      <td>-0.729278</td>\n",
              "      <td>-0.729294</td>\n",
              "      <td>-0.729336</td>\n",
              "      <td>-0.72932</td>\n",
              "      <td>-0.72936</td>\n",
              "      <td>-0.73994</td>\n",
              "      <td>-0.786732</td>\n",
              "      <td>-0.787313</td>\n",
              "      <td>-0.851061</td>\n",
              "      <td>-0.894305</td>\n",
              "    </tr>\n",
              "    <tr>\n",
              "      <th>split4_test_score</th>\n",
              "      <td>-0.734788</td>\n",
              "      <td>-0.734689</td>\n",
              "      <td>-0.734719</td>\n",
              "      <td>-0.734724</td>\n",
              "      <td>-0.734733</td>\n",
              "      <td>-0.73744</td>\n",
              "      <td>-0.776461</td>\n",
              "      <td>-0.778449</td>\n",
              "      <td>-0.838895</td>\n",
              "      <td>-0.901614</td>\n",
              "    </tr>\n",
              "  </tbody>\n",
              "</table>\n",
              "</div>"
            ],
            "text/plain": [
              "                           5           6  ...          1          2\n",
              "rank_test_score            1           2  ...          9         10\n",
              "param_gamma        0.0078125  0.00195312  ...          2        0.5\n",
              "mean_test_score    -0.741736   -0.741786  ...  -0.850753  -0.896715\n",
              "std_test_score     0.0240994   0.0242695  ...  0.0264904  0.0201983\n",
              "split0_test_score  -0.713395   -0.713709  ...  -0.825452  -0.890346\n",
              "split1_test_score  -0.785069   -0.785796  ...  -0.901185  -0.929976\n",
              "split2_test_score  -0.746151   -0.745445  ...  -0.837171  -0.867335\n",
              "split3_test_score  -0.729278   -0.729294  ...  -0.851061  -0.894305\n",
              "split4_test_score  -0.734788   -0.734689  ...  -0.838895  -0.901614\n",
              "\n",
              "[9 rows x 10 columns]"
            ]
          },
          "metadata": {
            "tags": []
          },
          "execution_count": 25
        }
      ]
    },
    {
      "cell_type": "markdown",
      "metadata": {
        "id": "qTG7mRoxq_E1"
      },
      "source": [
        "## Decision Tree, DT\r\n",
        "\r\n",
        "Decision Trees (DTs) são métodos de aprendizado supervisionado usados para classificação e regressão. O objetivo é criar um modelo que estime o valor de um variável alvo ao aprender simples regras de decisão inferidas a partir das variáveis"
      ]
    },
    {
      "cell_type": "markdown",
      "metadata": {
        "id": "OCmdE-kBkGWn"
      },
      "source": [
        "### Definição do modelo e ajustes de sintonia\r\n",
        "\r\n",
        "O hiperparâmetro para sintonia da Decision Tree é max_depth, que determina a profundida máxima onde uma folha não é mais dividida em um node."
      ]
    },
    {
      "cell_type": "code",
      "metadata": {
        "id": "mvFTNq-BEluD"
      },
      "source": [
        "# Define o modelo de Decision Tree sobre o qual será realizada a sintonia de max_depth (hiperparâmetro)\r\n",
        "\r\n",
        "# DecisionTreeRegressor:\r\n",
        "#   A decision tree regressor.\r\n",
        "#   \r\n",
        "# Foi definida como função para avaliar a qualidade da folha o MAE. Todos os parâmetros foram deixados\r\n",
        "# por padrão, exceto a profundidade (ou altura) da árvore.\r\n",
        "\r\n",
        "# https://scikit-learn.org/stable/modules/generated/sklearn.tree.DecisionTreeRegressor.html\r\n",
        "\r\n",
        "Tree_regressor = tree.DecisionTreeRegressor(criterion='mae')\r\n",
        "\r\n",
        "# Configura o processo de tunnig de max_depth no modelo Decision Tree\r\n",
        "# GridSearchCV\r\n",
        "# Executa cross-validation em um estimator de forma iterativa sobre um conjunto de hiperparâmetros\r\n",
        "# O range fo definido empiricamente após testes\r\n",
        "# https://scikit-learn.org/stable/modules/generated/sklearn.model_selection.GridSearchCV.html\r\n",
        "\r\n",
        "parameters = {'max_depth': [5,10,15,20,25,30,35,40,45]}\r\n",
        "Kcv = 5\r\n",
        "modelTree = GridSearchCV(estimator= Tree_regressor,\r\n",
        "                       param_grid= parameters,\r\n",
        "                       cv= Kcv,\r\n",
        "                       scoring= 'neg_mean_absolute_error',\r\n",
        "                      )"
      ],
      "execution_count": 26,
      "outputs": []
    },
    {
      "cell_type": "markdown",
      "metadata": {
        "id": "HmFyl_phr1tA"
      },
      "source": [
        "### Treinamento e teste com dataset F11"
      ]
    },
    {
      "cell_type": "code",
      "metadata": {
        "colab": {
          "base_uri": "https://localhost:8080/",
          "height": 366
        },
        "id": "gASwqk-BrBFN",
        "outputId": "d6284ed1-013a-4eed-9010-807a013fde75"
      },
      "source": [
        "bestTree_11 = modelTree.fit(F11_train,Y_train)\r\n",
        "\r\n",
        "# Exibe resultados do processo de validação cruzada com 5 folds\r\n",
        "\r\n",
        "cv_results = pd.DataFrame(data=bestTree_11.cv_results_).drop('params',axis=1)\r\n",
        "cv_results = cv_results[['rank_test_score','param_max_depth','mean_test_score','std_test_score',\r\n",
        "                                       'split0_test_score', 'split1_test_score','split2_test_score','split3_test_score','split4_test_score']]\r\n",
        "\r\n",
        "MAE = metrics.mean_absolute_error(Y_test, bestTree_11.predict(F11_test))\r\n",
        "\r\n",
        "results['F11']['DT'] = MAE\r\n",
        "\r\n",
        "print(\"\\n Mean absolute error of predictions made by model fitted with F11: \"\r\n",
        "      + str(round(MAE,4))\r\n",
        "      + \"\\n\"\r\n",
        ")\r\n",
        "\r\n",
        "cv_results.sort_values(by='rank_test_score').transpose()"
      ],
      "execution_count": 27,
      "outputs": [
        {
          "output_type": "stream",
          "text": [
            "\n",
            " Mean absolute error of predictions made by model fitted with F11: 0.6797\n",
            "\n"
          ],
          "name": "stdout"
        },
        {
          "output_type": "execute_result",
          "data": {
            "text/html": [
              "<div>\n",
              "<style scoped>\n",
              "    .dataframe tbody tr th:only-of-type {\n",
              "        vertical-align: middle;\n",
              "    }\n",
              "\n",
              "    .dataframe tbody tr th {\n",
              "        vertical-align: top;\n",
              "    }\n",
              "\n",
              "    .dataframe thead th {\n",
              "        text-align: right;\n",
              "    }\n",
              "</style>\n",
              "<table border=\"1\" class=\"dataframe\">\n",
              "  <thead>\n",
              "    <tr style=\"text-align: right;\">\n",
              "      <th></th>\n",
              "      <th>0</th>\n",
              "      <th>1</th>\n",
              "      <th>2</th>\n",
              "      <th>3</th>\n",
              "      <th>4</th>\n",
              "      <th>5</th>\n",
              "      <th>8</th>\n",
              "      <th>6</th>\n",
              "      <th>7</th>\n",
              "    </tr>\n",
              "  </thead>\n",
              "  <tbody>\n",
              "    <tr>\n",
              "      <th>rank_test_score</th>\n",
              "      <td>1</td>\n",
              "      <td>2</td>\n",
              "      <td>3</td>\n",
              "      <td>4</td>\n",
              "      <td>5</td>\n",
              "      <td>6</td>\n",
              "      <td>7</td>\n",
              "      <td>8</td>\n",
              "      <td>9</td>\n",
              "    </tr>\n",
              "    <tr>\n",
              "      <th>param_max_depth</th>\n",
              "      <td>5</td>\n",
              "      <td>10</td>\n",
              "      <td>15</td>\n",
              "      <td>20</td>\n",
              "      <td>25</td>\n",
              "      <td>30</td>\n",
              "      <td>45</td>\n",
              "      <td>35</td>\n",
              "      <td>40</td>\n",
              "    </tr>\n",
              "    <tr>\n",
              "      <th>mean_test_score</th>\n",
              "      <td>-0.727489</td>\n",
              "      <td>-0.728551</td>\n",
              "      <td>-0.739007</td>\n",
              "      <td>-0.741136</td>\n",
              "      <td>-0.747694</td>\n",
              "      <td>-0.751772</td>\n",
              "      <td>-0.754953</td>\n",
              "      <td>-0.755667</td>\n",
              "      <td>-0.758858</td>\n",
              "    </tr>\n",
              "    <tr>\n",
              "      <th>std_test_score</th>\n",
              "      <td>0.0217123</td>\n",
              "      <td>0.0196191</td>\n",
              "      <td>0.0253764</td>\n",
              "      <td>0.0185285</td>\n",
              "      <td>0.0201053</td>\n",
              "      <td>0.0232004</td>\n",
              "      <td>0.0198922</td>\n",
              "      <td>0.0222274</td>\n",
              "      <td>0.0216345</td>\n",
              "    </tr>\n",
              "    <tr>\n",
              "      <th>split0_test_score</th>\n",
              "      <td>-0.705783</td>\n",
              "      <td>-0.711981</td>\n",
              "      <td>-0.719066</td>\n",
              "      <td>-0.727921</td>\n",
              "      <td>-0.738548</td>\n",
              "      <td>-0.736777</td>\n",
              "      <td>-0.756259</td>\n",
              "      <td>-0.731463</td>\n",
              "      <td>-0.733235</td>\n",
              "    </tr>\n",
              "    <tr>\n",
              "      <th>split1_test_score</th>\n",
              "      <td>-0.768656</td>\n",
              "      <td>-0.765114</td>\n",
              "      <td>-0.788139</td>\n",
              "      <td>-0.775741</td>\n",
              "      <td>-0.784596</td>\n",
              "      <td>-0.791681</td>\n",
              "      <td>-0.784596</td>\n",
              "      <td>-0.795223</td>\n",
              "      <td>-0.781054</td>\n",
              "    </tr>\n",
              "    <tr>\n",
              "      <th>split2_test_score</th>\n",
              "      <td>-0.72615</td>\n",
              "      <td>-0.729692</td>\n",
              "      <td>-0.733235</td>\n",
              "      <td>-0.735006</td>\n",
              "      <td>-0.731463</td>\n",
              "      <td>-0.733235</td>\n",
              "      <td>-0.75803</td>\n",
              "      <td>-0.75803</td>\n",
              "      <td>-0.779283</td>\n",
              "    </tr>\n",
              "    <tr>\n",
              "      <th>split3_test_score</th>\n",
              "      <td>-0.71488</td>\n",
              "      <td>-0.711332</td>\n",
              "      <td>-0.720202</td>\n",
              "      <td>-0.723749</td>\n",
              "      <td>-0.730845</td>\n",
              "      <td>-0.732619</td>\n",
              "      <td>-0.721976</td>\n",
              "      <td>-0.737941</td>\n",
              "      <td>-0.732619</td>\n",
              "    </tr>\n",
              "    <tr>\n",
              "      <th>split4_test_score</th>\n",
              "      <td>-0.721976</td>\n",
              "      <td>-0.724636</td>\n",
              "      <td>-0.734393</td>\n",
              "      <td>-0.743262</td>\n",
              "      <td>-0.753019</td>\n",
              "      <td>-0.764549</td>\n",
              "      <td>-0.753906</td>\n",
              "      <td>-0.75568</td>\n",
              "      <td>-0.768097</td>\n",
              "    </tr>\n",
              "  </tbody>\n",
              "</table>\n",
              "</div>"
            ],
            "text/plain": [
              "                           0          1  ...          6          7\n",
              "rank_test_score            1          2  ...          8          9\n",
              "param_max_depth            5         10  ...         35         40\n",
              "mean_test_score    -0.727489  -0.728551  ...  -0.755667  -0.758858\n",
              "std_test_score     0.0217123  0.0196191  ...  0.0222274  0.0216345\n",
              "split0_test_score  -0.705783  -0.711981  ...  -0.731463  -0.733235\n",
              "split1_test_score  -0.768656  -0.765114  ...  -0.795223  -0.781054\n",
              "split2_test_score   -0.72615  -0.729692  ...   -0.75803  -0.779283\n",
              "split3_test_score   -0.71488  -0.711332  ...  -0.737941  -0.732619\n",
              "split4_test_score  -0.721976  -0.724636  ...   -0.75568  -0.768097\n",
              "\n",
              "[9 rows x 9 columns]"
            ]
          },
          "metadata": {
            "tags": []
          },
          "execution_count": 27
        }
      ]
    },
    {
      "cell_type": "markdown",
      "metadata": {
        "id": "7I6Mkrr6r3_1"
      },
      "source": [
        "### Treinamento e teste com dataset F7"
      ]
    },
    {
      "cell_type": "code",
      "metadata": {
        "colab": {
          "base_uri": "https://localhost:8080/",
          "height": 366
        },
        "id": "FHdhJlzxFvqi",
        "outputId": "e04b8a4e-32b3-4a5e-f300-3e260a799e96"
      },
      "source": [
        "bestTree_7 = modelTree.fit(F7_train,Y_train)\r\n",
        "\r\n",
        "# Exibe resultados do processo de validação cruzada com 5 folds\r\n",
        "\r\n",
        "cv_results = pd.DataFrame(data=bestTree_7.cv_results_).drop('params',axis=1)\r\n",
        "cv_results = cv_results[['rank_test_score','param_max_depth','mean_test_score','std_test_score',\r\n",
        "                                       'split0_test_score', 'split1_test_score','split2_test_score','split3_test_score','split4_test_score']]\r\n",
        "\r\n",
        "MAE = metrics.mean_absolute_error(Y_test, bestTree_7.predict(F7_test))\r\n",
        "\r\n",
        "results['F7']['DT'] = MAE\r\n",
        "\r\n",
        "print(\"\\n Mean absolute error of predictions made by model fitted with F7: \"\r\n",
        "      + str(round(MAE,4))\r\n",
        "      + \"\\n\"\r\n",
        ")\r\n",
        "\r\n",
        "cv_results.sort_values(by='rank_test_score').transpose()\r\n"
      ],
      "execution_count": 28,
      "outputs": [
        {
          "output_type": "stream",
          "text": [
            "\n",
            " Mean absolute error of predictions made by model fitted with F7: 0.6726\n",
            "\n"
          ],
          "name": "stdout"
        },
        {
          "output_type": "execute_result",
          "data": {
            "text/html": [
              "<div>\n",
              "<style scoped>\n",
              "    .dataframe tbody tr th:only-of-type {\n",
              "        vertical-align: middle;\n",
              "    }\n",
              "\n",
              "    .dataframe tbody tr th {\n",
              "        vertical-align: top;\n",
              "    }\n",
              "\n",
              "    .dataframe thead th {\n",
              "        text-align: right;\n",
              "    }\n",
              "</style>\n",
              "<table border=\"1\" class=\"dataframe\">\n",
              "  <thead>\n",
              "    <tr style=\"text-align: right;\">\n",
              "      <th></th>\n",
              "      <th>0</th>\n",
              "      <th>1</th>\n",
              "      <th>2</th>\n",
              "      <th>3</th>\n",
              "      <th>4</th>\n",
              "      <th>5</th>\n",
              "      <th>6</th>\n",
              "      <th>7</th>\n",
              "      <th>8</th>\n",
              "    </tr>\n",
              "  </thead>\n",
              "  <tbody>\n",
              "    <tr>\n",
              "      <th>rank_test_score</th>\n",
              "      <td>1</td>\n",
              "      <td>2</td>\n",
              "      <td>3</td>\n",
              "      <td>4</td>\n",
              "      <td>5</td>\n",
              "      <td>6</td>\n",
              "      <td>7</td>\n",
              "      <td>8</td>\n",
              "      <td>9</td>\n",
              "    </tr>\n",
              "    <tr>\n",
              "      <th>param_max_depth</th>\n",
              "      <td>5</td>\n",
              "      <td>10</td>\n",
              "      <td>15</td>\n",
              "      <td>20</td>\n",
              "      <td>25</td>\n",
              "      <td>30</td>\n",
              "      <td>35</td>\n",
              "      <td>40</td>\n",
              "      <td>45</td>\n",
              "    </tr>\n",
              "    <tr>\n",
              "      <th>mean_test_score</th>\n",
              "      <td>-0.724831</td>\n",
              "      <td>-0.729791</td>\n",
              "      <td>-0.737589</td>\n",
              "      <td>-0.740773</td>\n",
              "      <td>-0.752477</td>\n",
              "      <td>-0.755658</td>\n",
              "      <td>-0.762043</td>\n",
              "      <td>-0.763458</td>\n",
              "      <td>-0.766648</td>\n",
              "    </tr>\n",
              "    <tr>\n",
              "      <th>std_test_score</th>\n",
              "      <td>0.0209329</td>\n",
              "      <td>0.0241887</td>\n",
              "      <td>0.0288504</td>\n",
              "      <td>0.028752</td>\n",
              "      <td>0.030137</td>\n",
              "      <td>0.0337639</td>\n",
              "      <td>0.0284777</td>\n",
              "      <td>0.0310886</td>\n",
              "      <td>0.03347</td>\n",
              "    </tr>\n",
              "    <tr>\n",
              "      <th>split0_test_score</th>\n",
              "      <td>-0.704897</td>\n",
              "      <td>-0.711981</td>\n",
              "      <td>-0.711981</td>\n",
              "      <td>-0.731463</td>\n",
              "      <td>-0.736777</td>\n",
              "      <td>-0.782825</td>\n",
              "      <td>-0.77397</td>\n",
              "      <td>-0.770428</td>\n",
              "      <td>-0.777512</td>\n",
              "    </tr>\n",
              "    <tr>\n",
              "      <th>split1_test_score</th>\n",
              "      <td>-0.765114</td>\n",
              "      <td>-0.777512</td>\n",
              "      <td>-0.793452</td>\n",
              "      <td>-0.796994</td>\n",
              "      <td>-0.811163</td>\n",
              "      <td>-0.80585</td>\n",
              "      <td>-0.811163</td>\n",
              "      <td>-0.818247</td>\n",
              "      <td>-0.827103</td>\n",
              "    </tr>\n",
              "    <tr>\n",
              "      <th>split2_test_score</th>\n",
              "      <td>-0.722608</td>\n",
              "      <td>-0.724379</td>\n",
              "      <td>-0.731463</td>\n",
              "      <td>-0.735006</td>\n",
              "      <td>-0.729692</td>\n",
              "      <td>-0.724379</td>\n",
              "      <td>-0.731463</td>\n",
              "      <td>-0.74209</td>\n",
              "      <td>-0.736777</td>\n",
              "    </tr>\n",
              "    <tr>\n",
              "      <th>split3_test_score</th>\n",
              "      <td>-0.71488</td>\n",
              "      <td>-0.718428</td>\n",
              "      <td>-0.730845</td>\n",
              "      <td>-0.718428</td>\n",
              "      <td>-0.734393</td>\n",
              "      <td>-0.718428</td>\n",
              "      <td>-0.739715</td>\n",
              "      <td>-0.727297</td>\n",
              "      <td>-0.739715</td>\n",
              "    </tr>\n",
              "    <tr>\n",
              "      <th>split4_test_score</th>\n",
              "      <td>-0.716654</td>\n",
              "      <td>-0.716654</td>\n",
              "      <td>-0.720202</td>\n",
              "      <td>-0.721976</td>\n",
              "      <td>-0.750358</td>\n",
              "      <td>-0.74681</td>\n",
              "      <td>-0.753906</td>\n",
              "      <td>-0.759227</td>\n",
              "      <td>-0.752132</td>\n",
              "    </tr>\n",
              "  </tbody>\n",
              "</table>\n",
              "</div>"
            ],
            "text/plain": [
              "                           0          1  ...          7         8\n",
              "rank_test_score            1          2  ...          8         9\n",
              "param_max_depth            5         10  ...         40        45\n",
              "mean_test_score    -0.724831  -0.729791  ...  -0.763458 -0.766648\n",
              "std_test_score     0.0209329  0.0241887  ...  0.0310886   0.03347\n",
              "split0_test_score  -0.704897  -0.711981  ...  -0.770428 -0.777512\n",
              "split1_test_score  -0.765114  -0.777512  ...  -0.818247 -0.827103\n",
              "split2_test_score  -0.722608  -0.724379  ...   -0.74209 -0.736777\n",
              "split3_test_score   -0.71488  -0.718428  ...  -0.727297 -0.739715\n",
              "split4_test_score  -0.716654  -0.716654  ...  -0.759227 -0.752132\n",
              "\n",
              "[9 rows x 9 columns]"
            ]
          },
          "metadata": {
            "tags": []
          },
          "execution_count": 28
        }
      ]
    },
    {
      "cell_type": "markdown",
      "metadata": {
        "id": "G-Maum-WjV6G"
      },
      "source": [
        "# Resumo"
      ]
    },
    {
      "cell_type": "code",
      "metadata": {
        "colab": {
          "base_uri": "https://localhost:8080/"
        },
        "id": "HSVw5SqXjjJi",
        "outputId": "47ac777b-ed23-4ab8-d9ee-8fb1d24d9805"
      },
      "source": [
        "print(results)"
      ],
      "execution_count": 29,
      "outputs": [
        {
          "output_type": "stream",
          "text": [
            "              F11        F7\n",
            "MLP       0.71175  0.730679\n",
            "Deep NN  0.769039   0.74469\n",
            "SVM       0.70284  0.702617\n",
            "DT       0.679673  0.672593\n"
          ],
          "name": "stdout"
        }
      ]
    }
  ]
}